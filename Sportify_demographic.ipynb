{
 "cells": [
  {
   "cell_type": "code",
   "execution_count": 88,
   "id": "5938259f-9e63-4e62-92e8-f0ca97a10ca0",
   "metadata": {},
   "outputs": [],
   "source": [
    "import pandas as pd\n",
    "import numpy as np\n",
    "import matplotlib.pyplot as plt\n",
    "import seaborn as sns\n",
    "from sklearn.cluster import KMeans\n",
    "from sklearn.metrics.pairwise import euclidean_distances\n",
    "from datetime import datetime\n",
    "from scipy.cluster import hierarchy\n",
    "from sklearn.preprocessing import MinMaxScaler\n",
    "from sklearn.impute import KNNImputer\n",
    "from sklearn.decomposition import PCA\n",
    "from sklearn.preprocessing import StandardScaler\n",
    "from sklearn.metrics import silhouette_score\n",
    "import scipy.stats as stats\n",
    "from scipy.stats import f_oneway\n",
    "from scipy.stats import chi2_contingency"
   ]
  },
  {
   "cell_type": "code",
   "execution_count": 21,
   "id": "f5e7e14f-9c34-421f-902e-6f48b5fad5bc",
   "metadata": {},
   "outputs": [],
   "source": [
    "plt.rcParams['figure.figsize'] = [6, 4]"
   ]
  },
  {
   "cell_type": "code",
   "execution_count": 3,
   "id": "6875cd84-7e96-4e29-927b-677a78493401",
   "metadata": {},
   "outputs": [
    {
     "data": {
      "text/html": [
       "<div>\n",
       "<style scoped>\n",
       "    .dataframe tbody tr th:only-of-type {\n",
       "        vertical-align: middle;\n",
       "    }\n",
       "\n",
       "    .dataframe tbody tr th {\n",
       "        vertical-align: top;\n",
       "    }\n",
       "\n",
       "    .dataframe thead th {\n",
       "        text-align: right;\n",
       "    }\n",
       "</style>\n",
       "<table border=\"1\" class=\"dataframe\">\n",
       "  <thead>\n",
       "    <tr style=\"text-align: right;\">\n",
       "      <th></th>\n",
       "      <th>name</th>\n",
       "      <th>birth_year</th>\n",
       "      <th>education_level</th>\n",
       "      <th>dependents</th>\n",
       "      <th>City</th>\n",
       "    </tr>\n",
       "    <tr>\n",
       "      <th>Cust_ID</th>\n",
       "      <th></th>\n",
       "      <th></th>\n",
       "      <th></th>\n",
       "      <th></th>\n",
       "      <th></th>\n",
       "    </tr>\n",
       "  </thead>\n",
       "  <tbody>\n",
       "    <tr>\n",
       "      <th>4</th>\n",
       "      <td>Mr Daniel Spencer</td>\n",
       "      <td>2002</td>\n",
       "      <td>Master</td>\n",
       "      <td>1</td>\n",
       "      <td>NaN</td>\n",
       "    </tr>\n",
       "    <tr>\n",
       "      <th>5</th>\n",
       "      <td>Miss Abigail Garcia</td>\n",
       "      <td>1994</td>\n",
       "      <td>high school</td>\n",
       "      <td>0</td>\n",
       "      <td>Birmingham</td>\n",
       "    </tr>\n",
       "    <tr>\n",
       "      <th>6</th>\n",
       "      <td>Miss Laura Williams</td>\n",
       "      <td>2005</td>\n",
       "      <td>PhD</td>\n",
       "      <td>1</td>\n",
       "      <td>NaN</td>\n",
       "    </tr>\n",
       "    <tr>\n",
       "      <th>9</th>\n",
       "      <td>Mr Justin Hamilton</td>\n",
       "      <td>2003</td>\n",
       "      <td>high school</td>\n",
       "      <td>0</td>\n",
       "      <td>NaN</td>\n",
       "    </tr>\n",
       "    <tr>\n",
       "      <th>10</th>\n",
       "      <td>Mr Steven Vaughn</td>\n",
       "      <td>2002</td>\n",
       "      <td>less than high school</td>\n",
       "      <td>0</td>\n",
       "      <td>NaN</td>\n",
       "    </tr>\n",
       "    <tr>\n",
       "      <th>...</th>\n",
       "      <td>...</td>\n",
       "      <td>...</td>\n",
       "      <td>...</td>\n",
       "      <td>...</td>\n",
       "      <td>...</td>\n",
       "    </tr>\n",
       "    <tr>\n",
       "      <th>6489</th>\n",
       "      <td>Miss Jamie Young</td>\n",
       "      <td>1995</td>\n",
       "      <td>Bachelor</td>\n",
       "      <td>0</td>\n",
       "      <td>NaN</td>\n",
       "    </tr>\n",
       "    <tr>\n",
       "      <th>6491</th>\n",
       "      <td>Mr Cody Turner</td>\n",
       "      <td>1996</td>\n",
       "      <td>Master</td>\n",
       "      <td>0</td>\n",
       "      <td>NaN</td>\n",
       "    </tr>\n",
       "    <tr>\n",
       "      <th>6492</th>\n",
       "      <td>Mr Paul Ingram</td>\n",
       "      <td>2004</td>\n",
       "      <td>high school</td>\n",
       "      <td>0</td>\n",
       "      <td>Birmingham</td>\n",
       "    </tr>\n",
       "    <tr>\n",
       "      <th>6495</th>\n",
       "      <td>Miss Stephanie Glass</td>\n",
       "      <td>1999</td>\n",
       "      <td>less than high school</td>\n",
       "      <td>1</td>\n",
       "      <td>Birmingham</td>\n",
       "    </tr>\n",
       "    <tr>\n",
       "      <th>6496</th>\n",
       "      <td>Miss Samantha Klein</td>\n",
       "      <td>1965</td>\n",
       "      <td>Bachelor</td>\n",
       "      <td>1</td>\n",
       "      <td>Birmingham</td>\n",
       "    </tr>\n",
       "  </tbody>\n",
       "</table>\n",
       "<p>4000 rows × 5 columns</p>\n",
       "</div>"
      ],
      "text/plain": [
       "                         name  birth_year        education_level  dependents  \\\n",
       "Cust_ID                                                                        \n",
       "4           Mr Daniel Spencer        2002                 Master           1   \n",
       "5         Miss Abigail Garcia        1994            high school           0   \n",
       "6         Miss Laura Williams        2005                    PhD           1   \n",
       "9          Mr Justin Hamilton        2003            high school           0   \n",
       "10           Mr Steven Vaughn        2002  less than high school           0   \n",
       "...                       ...         ...                    ...         ...   \n",
       "6489         Miss Jamie Young        1995               Bachelor           0   \n",
       "6491           Mr Cody Turner        1996                 Master           0   \n",
       "6492           Mr Paul Ingram        2004            high school           0   \n",
       "6495     Miss Stephanie Glass        1999  less than high school           1   \n",
       "6496      Miss Samantha Klein        1965               Bachelor           1   \n",
       "\n",
       "               City  \n",
       "Cust_ID              \n",
       "4               NaN  \n",
       "5        Birmingham  \n",
       "6               NaN  \n",
       "9               NaN  \n",
       "10              NaN  \n",
       "...             ...  \n",
       "6489            NaN  \n",
       "6491            NaN  \n",
       "6492     Birmingham  \n",
       "6495     Birmingham  \n",
       "6496     Birmingham  \n",
       "\n",
       "[4000 rows x 5 columns]"
      ]
     },
     "execution_count": 3,
     "metadata": {},
     "output_type": "execute_result"
    }
   ],
   "source": [
    "Demographic=pd.read_csv(\"data/Demographic.txt\", sep='\\t')\n",
    "Demographic.set_index(\"Cust_ID\", inplace=True)\n",
    "Demographic"
   ]
  },
  {
   "cell_type": "code",
   "execution_count": 5,
   "id": "976655d0-cc6a-46a0-9b96-9ac92aac0ca0",
   "metadata": {},
   "outputs": [
    {
     "data": {
      "text/plain": [
       "0"
      ]
     },
     "execution_count": 5,
     "metadata": {},
     "output_type": "execute_result"
    }
   ],
   "source": [
    "#check duplicates\n",
    "len(Demographic[Demographic.duplicated()])"
   ]
  },
  {
   "cell_type": "code",
   "execution_count": 6,
   "id": "c34ede42-5982-4c66-a4e2-da625a8d5712",
   "metadata": {},
   "outputs": [
    {
     "name": "stdout",
     "output_type": "stream",
     "text": [
      "<class 'pandas.core.frame.DataFrame'>\n",
      "Index: 4000 entries, 4 to 6496\n",
      "Data columns (total 5 columns):\n",
      " #   Column           Non-Null Count  Dtype \n",
      "---  ------           --------------  ----- \n",
      " 0   name             4000 non-null   object\n",
      " 1   birth_year       4000 non-null   int64 \n",
      " 2   education_level  4000 non-null   object\n",
      " 3   dependents       4000 non-null   int64 \n",
      " 4   City             2019 non-null   object\n",
      "dtypes: int64(2), object(3)\n",
      "memory usage: 187.5+ KB\n"
     ]
    }
   ],
   "source": [
    "Demographic.info()"
   ]
  },
  {
   "cell_type": "markdown",
   "id": "f862904c-f886-44ab-808a-0abbbcad4bcf",
   "metadata": {},
   "source": [
    "Types seem ok.  \n",
    "Only City has missing values."
   ]
  },
  {
   "cell_type": "code",
   "execution_count": 10,
   "id": "85abb79e-1451-40c3-9384-af7ac80dd9e7",
   "metadata": {},
   "outputs": [
    {
     "name": "stdout",
     "output_type": "stream",
     "text": [
      "Missing values in City are:  1981\n",
      "representing 49.5% of the dataset\n"
     ]
    }
   ],
   "source": [
    "#missing values number\n",
    "print('Missing values in City are: ', Demographic['City'].isna().sum())\n",
    "print(f'representing {Demographic['City'].isna().sum()/len(Demographic)*100:.1f}% of the dataset')"
   ]
  },
  {
   "cell_type": "markdown",
   "id": "81a5ee44-eb12-400f-874c-e0579627dc47",
   "metadata": {},
   "source": [
    "That is a lot. But deleting the column may not be the best option as the cities informed may be interesting info."
   ]
  },
  {
   "cell_type": "code",
   "execution_count": 11,
   "id": "3232d957-a9de-4d9a-822b-6f8c724fdeea",
   "metadata": {},
   "outputs": [
    {
     "data": {
      "text/html": [
       "<div>\n",
       "<style scoped>\n",
       "    .dataframe tbody tr th:only-of-type {\n",
       "        vertical-align: middle;\n",
       "    }\n",
       "\n",
       "    .dataframe tbody tr th {\n",
       "        vertical-align: top;\n",
       "    }\n",
       "\n",
       "    .dataframe thead th {\n",
       "        text-align: right;\n",
       "    }\n",
       "</style>\n",
       "<table border=\"1\" class=\"dataframe\">\n",
       "  <thead>\n",
       "    <tr style=\"text-align: right;\">\n",
       "      <th></th>\n",
       "      <th>birth_year</th>\n",
       "      <th>dependents</th>\n",
       "    </tr>\n",
       "  </thead>\n",
       "  <tbody>\n",
       "    <tr>\n",
       "      <th>count</th>\n",
       "      <td>4000.000000</td>\n",
       "      <td>4000.000000</td>\n",
       "    </tr>\n",
       "    <tr>\n",
       "      <th>mean</th>\n",
       "      <td>1989.299000</td>\n",
       "      <td>0.298000</td>\n",
       "    </tr>\n",
       "    <tr>\n",
       "      <th>std</th>\n",
       "      <td>16.398836</td>\n",
       "      <td>0.498757</td>\n",
       "    </tr>\n",
       "    <tr>\n",
       "      <th>min</th>\n",
       "      <td>1944.000000</td>\n",
       "      <td>0.000000</td>\n",
       "    </tr>\n",
       "    <tr>\n",
       "      <th>25%</th>\n",
       "      <td>1980.000000</td>\n",
       "      <td>0.000000</td>\n",
       "    </tr>\n",
       "    <tr>\n",
       "      <th>50%</th>\n",
       "      <td>1997.000000</td>\n",
       "      <td>0.000000</td>\n",
       "    </tr>\n",
       "    <tr>\n",
       "      <th>75%</th>\n",
       "      <td>2002.000000</td>\n",
       "      <td>1.000000</td>\n",
       "    </tr>\n",
       "    <tr>\n",
       "      <th>max</th>\n",
       "      <td>2006.000000</td>\n",
       "      <td>2.000000</td>\n",
       "    </tr>\n",
       "  </tbody>\n",
       "</table>\n",
       "</div>"
      ],
      "text/plain": [
       "        birth_year   dependents\n",
       "count  4000.000000  4000.000000\n",
       "mean   1989.299000     0.298000\n",
       "std      16.398836     0.498757\n",
       "min    1944.000000     0.000000\n",
       "25%    1980.000000     0.000000\n",
       "50%    1997.000000     0.000000\n",
       "75%    2002.000000     1.000000\n",
       "max    2006.000000     2.000000"
      ]
     },
     "execution_count": 11,
     "metadata": {},
     "output_type": "execute_result"
    }
   ],
   "source": [
    "Demographic.describe()"
   ]
  },
  {
   "cell_type": "markdown",
   "id": "9a472bac-ef4c-4204-bd6e-331096ab1af9",
   "metadata": {},
   "source": [
    "Most clients do not have children.  \n",
    "\n",
    "Average birth year is 1989, median is 1997, indicating a skewness in the data to older clients."
   ]
  },
  {
   "cell_type": "code",
   "execution_count": 15,
   "id": "fad0ca6c-b8fb-4939-8ca6-1cbbe6375cbf",
   "metadata": {},
   "outputs": [
    {
     "data": {
      "text/html": [
       "<div>\n",
       "<style scoped>\n",
       "    .dataframe tbody tr th:only-of-type {\n",
       "        vertical-align: middle;\n",
       "    }\n",
       "\n",
       "    .dataframe tbody tr th {\n",
       "        vertical-align: top;\n",
       "    }\n",
       "\n",
       "    .dataframe thead th {\n",
       "        text-align: right;\n",
       "    }\n",
       "</style>\n",
       "<table border=\"1\" class=\"dataframe\">\n",
       "  <thead>\n",
       "    <tr style=\"text-align: right;\">\n",
       "      <th></th>\n",
       "      <th>name</th>\n",
       "      <th>education_level</th>\n",
       "      <th>City</th>\n",
       "    </tr>\n",
       "  </thead>\n",
       "  <tbody>\n",
       "    <tr>\n",
       "      <th>count</th>\n",
       "      <td>4000</td>\n",
       "      <td>4000</td>\n",
       "      <td>2019</td>\n",
       "    </tr>\n",
       "    <tr>\n",
       "      <th>unique</th>\n",
       "      <td>3892</td>\n",
       "      <td>7</td>\n",
       "      <td>3</td>\n",
       "    </tr>\n",
       "    <tr>\n",
       "      <th>top</th>\n",
       "      <td>Mr Michael Jackson</td>\n",
       "      <td>high school</td>\n",
       "      <td>Birmingham</td>\n",
       "    </tr>\n",
       "    <tr>\n",
       "      <th>freq</th>\n",
       "      <td>4</td>\n",
       "      <td>1280</td>\n",
       "      <td>1284</td>\n",
       "    </tr>\n",
       "  </tbody>\n",
       "</table>\n",
       "</div>"
      ],
      "text/plain": [
       "                      name education_level        City\n",
       "count                 4000            4000        2019\n",
       "unique                3892               7           3\n",
       "top     Mr Michael Jackson     high school  Birmingham\n",
       "freq                     4            1280        1284"
      ]
     },
     "execution_count": 15,
     "metadata": {},
     "output_type": "execute_result"
    }
   ],
   "source": [
    "Demographic.describe(include='O')"
   ]
  },
  {
   "cell_type": "markdown",
   "id": "4466ed2c-c35a-4842-bba6-2522504fbcf3",
   "metadata": {},
   "source": [
    "Many unique names, which will not add relevant info.  \n",
    "\n",
    "7 different levels of education, high the most common.\n",
    "\n",
    "Apparently 3 different cities."
   ]
  },
  {
   "cell_type": "markdown",
   "id": "20020ac5-cc0f-4400-84ee-3bf2955df85d",
   "metadata": {},
   "source": [
    "### Birth year to age\n",
    "\n",
    "Age is a more useful info that birht year. Let's change it."
   ]
  },
  {
   "cell_type": "code",
   "execution_count": 49,
   "id": "be44ea34-10ed-4640-9c47-14940e15614e",
   "metadata": {},
   "outputs": [
    {
     "name": "stdout",
     "output_type": "stream",
     "text": [
      "<class 'pandas.core.frame.DataFrame'>\n",
      "Index: 4000 entries, 4 to 6496\n",
      "Data columns (total 6 columns):\n",
      " #   Column           Non-Null Count  Dtype \n",
      "---  ------           --------------  ----- \n",
      " 0   name             4000 non-null   object\n",
      " 1   education_level  4000 non-null   object\n",
      " 2   dependents       4000 non-null   int64 \n",
      " 3   City             4000 non-null   object\n",
      " 4   sex              4000 non-null   object\n",
      " 5   age              4000 non-null   int64 \n",
      "dtypes: int64(2), object(4)\n",
      "memory usage: 218.8+ KB\n"
     ]
    }
   ],
   "source": [
    "#create age column and delete birth_year\n",
    "Demographic['age'] = 2024 - Demographic['birth_year']\n",
    "Demographic = Demographic.drop(['birth_year'], axis=1)\n",
    "Demographic.info()"
   ]
  },
  {
   "cell_type": "code",
   "execution_count": 47,
   "id": "888e0d89-159e-4b55-adee-501ecf41a47b",
   "metadata": {},
   "outputs": [
    {
     "data": {
      "text/plain": [
       "1.058954622196828"
      ]
     },
     "execution_count": 47,
     "metadata": {},
     "output_type": "execute_result"
    }
   ],
   "source": [
    "#skewness\n",
    "Demographic['age'].skew()"
   ]
  },
  {
   "cell_type": "code",
   "execution_count": 48,
   "id": "e3a6f82c-2c08-458e-aad0-caa793a29232",
   "metadata": {},
   "outputs": [
    {
     "data": {
      "image/png": "[encoded data removed]",
      "text/plain": [
       "<Figure size 600x400 with 1 Axes>"
      ]
     },
     "metadata": {},
     "output_type": "display_data"
    }
   ],
   "source": [
    "Demographic['age'].hist()\n",
    "plt.title('age')\n",
    "plt.show()"
   ]
  },
  {
   "cell_type": "markdown",
   "id": "81a51485-d020-4cfd-b784-f2697c0ed78f",
   "metadata": {},
   "source": [
    "Clear right tail.  \n",
    "\n",
    "No apparent outliers."
   ]
  },
  {
   "cell_type": "markdown",
   "id": "acb6fbb9-e5f7-405b-8765-20c3f58e0c68",
   "metadata": {},
   "source": [
    "### City"
   ]
  },
  {
   "cell_type": "code",
   "execution_count": 24,
   "id": "d214bb61-c925-4e42-bd49-16b1c9f9e480",
   "metadata": {},
   "outputs": [
    {
     "data": {
      "text/plain": [
       "array([nan, 'Birmingham', 'Brimingham', 'London'], dtype=object)"
      ]
     },
     "execution_count": 24,
     "metadata": {},
     "output_type": "execute_result"
    }
   ],
   "source": [
    "Demographic['City'].unique()"
   ]
  },
  {
   "cell_type": "code",
   "execution_count": 25,
   "id": "5d99fcc6-ab18-4ee3-bf77-690069c86c97",
   "metadata": {},
   "outputs": [
    {
     "data": {
      "text/plain": [
       "City\n",
       "Birmingham    1319\n",
       "London         700\n",
       "Name: count, dtype: int64"
      ]
     },
     "execution_count": 25,
     "metadata": {},
     "output_type": "execute_result"
    }
   ],
   "source": [
    "Demographic['City']=Demographic['City'].replace('Brimingham', 'Birmingham')\n",
    "Demographic['City'].value_counts()"
   ]
  },
  {
   "cell_type": "markdown",
   "id": "3293aa1d-ce96-4ccd-81fe-2803ff0b5a3b",
   "metadata": {},
   "source": [
    "Only two cities.   \n",
    "Let's deal with the missing cities.  \n",
    "\n",
    "Since we have no information about them, we will create the valu 'other' for the missing values."
   ]
  },
  {
   "cell_type": "code",
   "execution_count": 28,
   "id": "52dda2ec-261f-4f18-8061-9da8cc39816f",
   "metadata": {},
   "outputs": [
    {
     "data": {
      "text/plain": [
       "City\n",
       "other         1981\n",
       "Birmingham    1319\n",
       "London         700\n",
       "Name: count, dtype: int64"
      ]
     },
     "execution_count": 28,
     "metadata": {},
     "output_type": "execute_result"
    }
   ],
   "source": [
    "#fill NA as 'other'\n",
    "Demographic['City'] = Demographic['City'].fillna('other')\n",
    "Demographic['City'].value_counts()"
   ]
  },
  {
   "cell_type": "code",
   "execution_count": 54,
   "id": "196f027a-af40-4c86-a4e3-0627979790eb",
   "metadata": {},
   "outputs": [
    {
     "name": "stdout",
     "output_type": "stream",
     "text": [
      "<class 'pandas.core.frame.DataFrame'>\n",
      "Index: 4000 entries, 4 to 6496\n",
      "Data columns (total 5 columns):\n",
      " #   Column           Non-Null Count  Dtype \n",
      "---  ------           --------------  ----- \n",
      " 0   education_level  4000 non-null   object\n",
      " 1   dependents       4000 non-null   int64 \n",
      " 2   city             4000 non-null   object\n",
      " 3   sex              4000 non-null   object\n",
      " 4   age              4000 non-null   int64 \n",
      "dtypes: int64(2), object(3)\n",
      "memory usage: 187.5+ KB\n"
     ]
    }
   ],
   "source": [
    "#change to snake_case\n",
    "Demographic = Demographic.rename(columns={'City': 'city'})\n",
    "Demographic.info()"
   ]
  },
  {
   "cell_type": "markdown",
   "id": "a2c87aa3-6744-461f-8dbc-ad12c5884a66",
   "metadata": {},
   "source": [
    "### Dependents"
   ]
  },
  {
   "cell_type": "code",
   "execution_count": 29,
   "id": "d4e6f40e-26d2-4ae8-9e09-7da0684f445f",
   "metadata": {},
   "outputs": [
    {
     "data": {
      "text/plain": [
       "dependents\n",
       "0    2887\n",
       "1    1034\n",
       "2      79\n",
       "Name: count, dtype: int64"
      ]
     },
     "execution_count": 29,
     "metadata": {},
     "output_type": "execute_result"
    }
   ],
   "source": [
    "Demographic['dependents'].value_counts()"
   ]
  },
  {
   "cell_type": "markdown",
   "id": "11f584f3-15b7-43ce-8b06-63249d407750",
   "metadata": {},
   "source": [
    "There is value 2, although there should be only value 1 and 0.  \n",
    "We will assume that someone entered the number of children in the system, so we will replace 2 by 1 to indicate True for children."
   ]
  },
  {
   "cell_type": "code",
   "execution_count": 30,
   "id": "8348983c-9e95-4c50-9cce-e7eff8348489",
   "metadata": {},
   "outputs": [
    {
     "data": {
      "text/plain": [
       "dependents\n",
       "0    2887\n",
       "1    1113\n",
       "Name: count, dtype: int64"
      ]
     },
     "execution_count": 30,
     "metadata": {},
     "output_type": "execute_result"
    }
   ],
   "source": [
    "Demographic.loc[Demographic['dependents'] == 2, 'dependents'] = 1\n",
    "Demographic['dependents'].value_counts()"
   ]
  },
  {
   "cell_type": "code",
   "execution_count": 36,
   "id": "02cea5ce-cc82-4531-92ee-980b54b74599",
   "metadata": {},
   "outputs": [
    {
     "name": "stdout",
     "output_type": "stream",
     "text": [
      "27.8% of customers have dependents\n"
     ]
    }
   ],
   "source": [
    "print(f'{Demographic['dependents'].mean()*100:.1f}% of customers have dependents')"
   ]
  },
  {
   "cell_type": "markdown",
   "id": "8f53312e-535d-41b9-8c2d-9db4e7a61d99",
   "metadata": {},
   "source": [
    "### Gender based on name"
   ]
  },
  {
   "cell_type": "code",
   "execution_count": 38,
   "id": "e444c324-bb46-4ba5-8e62-b3a5ea4e1e7c",
   "metadata": {},
   "outputs": [],
   "source": [
    "# Function to determine gender based on name (Mr and Mrs)\n",
    "def determinar_sexo(name):\n",
    "    if name.startswith('Mr'):\n",
    "        return 'male'\n",
    "    else:\n",
    "        return 'female'\n"
   ]
  },
  {
   "cell_type": "code",
   "execution_count": 39,
   "id": "6251e924-9032-421d-a36d-eb10fc8f0164",
   "metadata": {},
   "outputs": [
    {
     "data": {
      "text/plain": [
       "sex\n",
       "female    2368\n",
       "male      1632\n",
       "Name: count, dtype: int64"
      ]
     },
     "execution_count": 39,
     "metadata": {},
     "output_type": "execute_result"
    }
   ],
   "source": [
    "#create column sex\n",
    "Demographic['sex'] = Demographic['name'].apply(determinar_sexo)\n",
    "Demographic['sex'].value_counts()"
   ]
  },
  {
   "cell_type": "code",
   "execution_count": 40,
   "id": "e48fa009-0f47-4bb6-893c-0477986aba05",
   "metadata": {},
   "outputs": [
    {
     "data": {
      "text/plain": [
       "0"
      ]
     },
     "execution_count": 40,
     "metadata": {},
     "output_type": "execute_result"
    }
   ],
   "source": [
    "#check total created columns\n",
    "Demographic['sex'].isna().sum()"
   ]
  },
  {
   "cell_type": "markdown",
   "id": "48cdd4e0-8c90-47f7-8ed6-f0e358823980",
   "metadata": {},
   "source": [
    "All customers successfully assigned a gender."
   ]
  },
  {
   "cell_type": "code",
   "execution_count": 50,
   "id": "8c7bf115-4a22-4f97-8ead-f4e1daa222a5",
   "metadata": {},
   "outputs": [],
   "source": [
    "#delete 'name' column\n",
    "Demographic = Demographic.drop(['name'], axis=1)"
   ]
  },
  {
   "cell_type": "markdown",
   "id": "c1fcb3b0-21ef-461c-8071-1c73551cded8",
   "metadata": {},
   "source": [
    "### Education"
   ]
  },
  {
   "cell_type": "code",
   "execution_count": 41,
   "id": "6deb0c00-a5a3-40be-b3b0-657817055ca7",
   "metadata": {},
   "outputs": [
    {
     "data": {
      "text/plain": [
       "array(['Master', 'high school', 'PhD', 'less than high school',\n",
       "       'Bachelor', 'High School', 'PHD'], dtype=object)"
      ]
     },
     "execution_count": 41,
     "metadata": {},
     "output_type": "execute_result"
    }
   ],
   "source": [
    "Demographic['education_level'].unique()"
   ]
  },
  {
   "cell_type": "markdown",
   "id": "2e6e16a0-5418-40d8-b56d-6adcc2adff43",
   "metadata": {},
   "source": [
    "Some mistakes like 'PHD' and 'PhD'"
   ]
  },
  {
   "cell_type": "code",
   "execution_count": 42,
   "id": "7243794b-c1a4-4793-8ae6-b47d3b028ccb",
   "metadata": {},
   "outputs": [],
   "source": [
    "# dictionary to map wrong levels\n",
    "education_mapping = {\n",
    "    'PHD': 'PhD',\n",
    "    'PhD':'PhD',\n",
    "    'Bachelor':'Bachelor',\n",
    "    'High School':'High School',\n",
    "    'high school': 'High School',\n",
    "    'Master':'Master',\n",
    "    'less than high school':'less than high school',\n",
    "    }\n",
    "\n"
   ]
  },
  {
   "cell_type": "code",
   "execution_count": 43,
   "id": "2b25d198-cc15-43dc-bf53-66084971d364",
   "metadata": {},
   "outputs": [
    {
     "data": {
      "text/plain": [
       "education_level\n",
       "High School              1322\n",
       "Bachelor                 1023\n",
       "less than high school     818\n",
       "Master                    666\n",
       "PhD                       171\n",
       "Name: count, dtype: int64"
      ]
     },
     "execution_count": 43,
     "metadata": {},
     "output_type": "execute_result"
    }
   ],
   "source": [
    "# Aplicar o mapeamento na coluna 'education_level'\n",
    "Demographic['education_level'] = Demographic['education_level'].map(education_mapping)\n",
    "Demographic['education_level'].value_counts()"
   ]
  },
  {
   "cell_type": "code",
   "execution_count": 44,
   "id": "fde3f9af-5b60-4f39-9907-642ef50862e3",
   "metadata": {},
   "outputs": [
    {
     "data": {
      "text/plain": [
       "0"
      ]
     },
     "execution_count": 44,
     "metadata": {},
     "output_type": "execute_result"
    }
   ],
   "source": [
    "Demographic['education_level'].isna().sum()"
   ]
  },
  {
   "cell_type": "markdown",
   "id": "ff7ee619-a231-4072-a7f4-7323692ae633",
   "metadata": {},
   "source": [
    "No empty values.  \n",
    "All previous values substituted successfully.  \n",
    "Biggest group is High School education with decreasing number for each education level until PhD.  \n",
    "Less than High School is the exception to this rule, being the 3rd most frequent.  \n",
    "\n",
    "May be interesting to group Master and PhD as 'Post Grad' to better characterize the demographics."
   ]
  },
  {
   "cell_type": "code",
   "execution_count": 60,
   "id": "777fcb3d-d77f-4f4f-98d5-e3bacb4301e1",
   "metadata": {},
   "outputs": [
    {
     "name": "stdout",
     "output_type": "stream",
     "text": [
      "<class 'pandas.core.frame.DataFrame'>\n",
      "Index: 4000 entries, 4 to 6496\n",
      "Data columns (total 5 columns):\n",
      " #   Column           Non-Null Count  Dtype \n",
      "---  ------           --------------  ----- \n",
      " 0   education_level  4000 non-null   object\n",
      " 1   dependents       4000 non-null   int64 \n",
      " 2   city             4000 non-null   object\n",
      " 3   sex              4000 non-null   object\n",
      " 4   age              4000 non-null   int64 \n",
      "dtypes: int64(2), object(3)\n",
      "memory usage: 187.5+ KB\n"
     ]
    }
   ],
   "source": [
    "### Check df\n",
    "Demographic.info()"
   ]
  },
  {
   "cell_type": "code",
   "execution_count": 62,
   "id": "f500d828-d20b-4411-8842-67c03ba85c4e",
   "metadata": {},
   "outputs": [
    {
     "name": "stdout",
     "output_type": "stream",
     "text": [
      "<class 'pandas.core.frame.DataFrame'>\n",
      "Index: 4000 entries, 4 to 6496\n",
      "Data columns (total 5 columns):\n",
      " #   Column           Non-Null Count  Dtype \n",
      "---  ------           --------------  ----- \n",
      " 0   education_level  4000 non-null   object\n",
      " 1   dependents       4000 non-null   bool  \n",
      " 2   city             4000 non-null   object\n",
      " 3   sex              4000 non-null   object\n",
      " 4   age              4000 non-null   int64 \n",
      "dtypes: bool(1), int64(1), object(3)\n",
      "memory usage: 160.2+ KB\n"
     ]
    }
   ],
   "source": [
    "#correct dependents to boolean (just to facilitate in identifying the content of features)\n",
    "Demographic['dependents'] = Demographic['dependents']>0\n",
    "Demographic.info()"
   ]
  },
  {
   "cell_type": "markdown",
   "id": "8cf039ca-185f-49ed-8fbc-bcae622134cf",
   "metadata": {},
   "source": [
    "In short, in Demographic, we corrected:\n",
    "1) Birmingham mispelled,\n",
    "2) nr of dependents as 2 (should be binary variable)\n",
    "3) missing location,\n",
    "4) lack of 'sex' column - created from names\n",
    "5) education level mispelled\n",
    "\n",
    "Changes to dataset:\n",
    "1) birth_year deleted\n",
    "    - age created\n",
    "2) 'name' deleted\n",
    "    - 'sex' created"
   ]
  },
  {
   "cell_type": "markdown",
   "id": "f7c75c67-a0eb-4c15-9f50-7ae5d8464dca",
   "metadata": {},
   "source": [
    "# Final Data description"
   ]
  },
  {
   "cell_type": "code",
   "execution_count": 69,
   "id": "65647fc1-2044-4161-a5ef-d75060a179fa",
   "metadata": {},
   "outputs": [
    {
     "name": "stdout",
     "output_type": "stream",
     "text": [
      "<class 'pandas.core.frame.DataFrame'>\n",
      "Index: 4000 entries, 4 to 6496\n",
      "Data columns (total 5 columns):\n",
      " #   Column           Non-Null Count  Dtype \n",
      "---  ------           --------------  ----- \n",
      " 0   education_level  4000 non-null   object\n",
      " 1   dependents       4000 non-null   bool  \n",
      " 2   city             4000 non-null   object\n",
      " 3   sex              4000 non-null   object\n",
      " 4   age              4000 non-null   int64 \n",
      "dtypes: bool(1), int64(1), object(3)\n",
      "memory usage: 160.2+ KB\n"
     ]
    }
   ],
   "source": [
    "Demographic.info()"
   ]
  },
  {
   "cell_type": "code",
   "execution_count": 63,
   "id": "b28e4e5b-ca32-456b-9e47-1d2ed217a47d",
   "metadata": {},
   "outputs": [
    {
     "data": {
      "text/html": [
       "<div>\n",
       "<style scoped>\n",
       "    .dataframe tbody tr th:only-of-type {\n",
       "        vertical-align: middle;\n",
       "    }\n",
       "\n",
       "    .dataframe tbody tr th {\n",
       "        vertical-align: top;\n",
       "    }\n",
       "\n",
       "    .dataframe thead th {\n",
       "        text-align: right;\n",
       "    }\n",
       "</style>\n",
       "<table border=\"1\" class=\"dataframe\">\n",
       "  <thead>\n",
       "    <tr style=\"text-align: right;\">\n",
       "      <th></th>\n",
       "      <th>age</th>\n",
       "    </tr>\n",
       "  </thead>\n",
       "  <tbody>\n",
       "    <tr>\n",
       "      <th>count</th>\n",
       "      <td>4000.000000</td>\n",
       "    </tr>\n",
       "    <tr>\n",
       "      <th>mean</th>\n",
       "      <td>34.701000</td>\n",
       "    </tr>\n",
       "    <tr>\n",
       "      <th>std</th>\n",
       "      <td>16.398836</td>\n",
       "    </tr>\n",
       "    <tr>\n",
       "      <th>min</th>\n",
       "      <td>18.000000</td>\n",
       "    </tr>\n",
       "    <tr>\n",
       "      <th>25%</th>\n",
       "      <td>22.000000</td>\n",
       "    </tr>\n",
       "    <tr>\n",
       "      <th>50%</th>\n",
       "      <td>27.000000</td>\n",
       "    </tr>\n",
       "    <tr>\n",
       "      <th>75%</th>\n",
       "      <td>44.000000</td>\n",
       "    </tr>\n",
       "    <tr>\n",
       "      <th>max</th>\n",
       "      <td>80.000000</td>\n",
       "    </tr>\n",
       "  </tbody>\n",
       "</table>\n",
       "</div>"
      ],
      "text/plain": [
       "               age\n",
       "count  4000.000000\n",
       "mean     34.701000\n",
       "std      16.398836\n",
       "min      18.000000\n",
       "25%      22.000000\n",
       "50%      27.000000\n",
       "75%      44.000000\n",
       "max      80.000000"
      ]
     },
     "execution_count": 63,
     "metadata": {},
     "output_type": "execute_result"
    }
   ],
   "source": [
    "Demographic.describe()"
   ]
  },
  {
   "cell_type": "code",
   "execution_count": 66,
   "id": "ab776f92-e62b-485b-81f7-c7acea7bbfa1",
   "metadata": {},
   "outputs": [
    {
     "data": {
      "text/plain": [
       "<Axes: xlabel='age', ylabel='Count'>"
      ]
     },
     "execution_count": 66,
     "metadata": {},
     "output_type": "execute_result"
    },
    {
     "data": {
      "image/png": "[encoded data removed]",
      "text/plain": [
       "<Figure size 600x400 with 1 Axes>"
      ]
     },
     "metadata": {},
     "output_type": "display_data"
    }
   ],
   "source": [
    "sns.histplot(data=Demographic, x='age')"
   ]
  },
  {
   "cell_type": "code",
   "execution_count": 68,
   "id": "8709254c-7647-4bb1-9551-55946949e3d3",
   "metadata": {},
   "outputs": [
    {
     "data": {
      "text/html": [
       "<div>\n",
       "<style scoped>\n",
       "    .dataframe tbody tr th:only-of-type {\n",
       "        vertical-align: middle;\n",
       "    }\n",
       "\n",
       "    .dataframe tbody tr th {\n",
       "        vertical-align: top;\n",
       "    }\n",
       "\n",
       "    .dataframe thead th {\n",
       "        text-align: right;\n",
       "    }\n",
       "</style>\n",
       "<table border=\"1\" class=\"dataframe\">\n",
       "  <thead>\n",
       "    <tr style=\"text-align: right;\">\n",
       "      <th></th>\n",
       "      <th>education_level</th>\n",
       "      <th>city</th>\n",
       "      <th>sex</th>\n",
       "    </tr>\n",
       "  </thead>\n",
       "  <tbody>\n",
       "    <tr>\n",
       "      <th>count</th>\n",
       "      <td>4000</td>\n",
       "      <td>4000</td>\n",
       "      <td>4000</td>\n",
       "    </tr>\n",
       "    <tr>\n",
       "      <th>unique</th>\n",
       "      <td>5</td>\n",
       "      <td>3</td>\n",
       "      <td>2</td>\n",
       "    </tr>\n",
       "    <tr>\n",
       "      <th>top</th>\n",
       "      <td>High School</td>\n",
       "      <td>other</td>\n",
       "      <td>female</td>\n",
       "    </tr>\n",
       "    <tr>\n",
       "      <th>freq</th>\n",
       "      <td>1322</td>\n",
       "      <td>1981</td>\n",
       "      <td>2368</td>\n",
       "    </tr>\n",
       "  </tbody>\n",
       "</table>\n",
       "</div>"
      ],
      "text/plain": [
       "       education_level   city     sex\n",
       "count             4000   4000    4000\n",
       "unique               5      3       2\n",
       "top        High School  other  female\n",
       "freq              1322   1981    2368"
      ]
     },
     "execution_count": 68,
     "metadata": {},
     "output_type": "execute_result"
    }
   ],
   "source": [
    "Demographic.describe(include='O')"
   ]
  },
  {
   "cell_type": "markdown",
   "id": "140dc165-eca6-4e63-868e-47fecb7f25c0",
   "metadata": {},
   "source": [
    "## By City"
   ]
  },
  {
   "cell_type": "code",
   "execution_count": 76,
   "id": "412f0cd9-3a7a-4f61-841d-97695de7b28b",
   "metadata": {},
   "outputs": [
    {
     "name": "stdout",
     "output_type": "stream",
     "text": [
      "Average age by city:\n",
      "city\n",
      "Birmingham    35.475360\n",
      "London        34.008571\n",
      "other         34.430086\n",
      "Name: age, dtype: float64\n",
      "\n",
      "Percentage of individuals with dependents by city:\n",
      "city\n",
      "Birmingham    28.582259\n",
      "London        27.428571\n",
      "other         27.460878\n",
      "Name: dependents, dtype: float64\n",
      "\n",
      "Education level distribution by city:\n",
      "city        education_level      \n",
      "Birmingham  High School              30.629265\n",
      "            Bachelor                 27.141774\n",
      "            less than high school    20.166793\n",
      "            Master                   17.058378\n",
      "            PhD                       5.003791\n",
      "London      High School              34.285714\n",
      "            Bachelor                 24.857143\n",
      "            less than high school    19.857143\n",
      "            Master                   17.142857\n",
      "            PhD                       3.857143\n",
      "other       High School              34.225139\n",
      "            Bachelor                 24.785462\n",
      "            less than high school    20.848057\n",
      "            Master                   16.203937\n",
      "            PhD                       3.937405\n",
      "Name: proportion, dtype: float64\n"
     ]
    }
   ],
   "source": [
    "# Average age by city\n",
    "average_age_by_city = Demographic.groupby('city')['age'].mean()\n",
    "print(\"Average age by city:\")\n",
    "print(average_age_by_city)\n",
    "print()\n",
    "\n",
    "# Percentage of individuals with dependents by city\n",
    "percent_dependents_by_city = Demographic.groupby('city')['dependents'].mean() * 100\n",
    "print(\"Percentage of individuals with dependents by city:\")\n",
    "print(percent_dependents_by_city)\n",
    "print()\n",
    "\n",
    "# Distribution of education levels by city\n",
    "education_distribution_by_city = Demographic.groupby('city')['education_level'].value_counts(normalize=True) * 100\n",
    "print(\"Education level distribution by city:\")\n",
    "print(education_distribution_by_city)\n"
   ]
  },
  {
   "cell_type": "markdown",
   "id": "a52d4909-5462-4040-86d1-d1dbed71a39f",
   "metadata": {},
   "source": [
    "**Very similar patterns accross cities.**"
   ]
  },
  {
   "cell_type": "markdown",
   "id": "333c5809-8eb7-4ad9-954e-da503015ad17",
   "metadata": {},
   "source": [
    "## By sex"
   ]
  },
  {
   "cell_type": "code",
   "execution_count": 75,
   "id": "0461df51-ca7e-4a34-8326-1a843d141c90",
   "metadata": {},
   "outputs": [
    {
     "name": "stdout",
     "output_type": "stream",
     "text": [
      "Average age by sex:\n",
      "sex\n",
      "female    32.160895\n",
      "male      38.386642\n",
      "Name: age, dtype: float64\n",
      "\n",
      "Percentage of individuals with dependents by sex:\n",
      "sex\n",
      "female    27.576014\n",
      "male      28.186275\n",
      "Name: dependents, dtype: float64\n",
      "\n",
      "Education level distribution by sex:\n",
      "sex     education_level      \n",
      "female  High School              33.192568\n",
      "        Bachelor                 24.746622\n",
      "        less than high school    20.777027\n",
      "        Master                   17.187500\n",
      "        PhD                       4.096284\n",
      "male    High School              32.843137\n",
      "        Bachelor                 26.776961\n",
      "        less than high school    19.975490\n",
      "        Master                   15.870098\n",
      "        PhD                       4.534314\n",
      "Name: proportion, dtype: float64\n"
     ]
    }
   ],
   "source": [
    "# Average age by sex\n",
    "average_age_by_sex = Demographic.groupby('sex')['age'].mean()\n",
    "print(\"Average age by sex:\")\n",
    "print(average_age_by_sex)\n",
    "print()\n",
    "\n",
    "# Percentage of individuals with dependents by sex\n",
    "percent_dependents_by_sex = Demographic.groupby('sex')['dependents'].mean() * 100\n",
    "print(\"Percentage of individuals with dependents by sex:\")\n",
    "print(percent_dependents_by_sex)\n",
    "print()\n",
    "\n",
    "# Distribution of education levels by sex\n",
    "education_distribution_by_sex = Demographic.groupby('sex')['education_level'].value_counts(normalize=True) * 100\n",
    "print(\"Education level distribution by sex:\")\n",
    "print(education_distribution_by_sex)\n"
   ]
  },
  {
   "cell_type": "markdown",
   "id": "084b32c5-c3db-4df6-9150-49c06cf17411",
   "metadata": {},
   "source": [
    "**Males are 6 years older then females: 38 vs 32**  \n",
    "\n",
    "Similar education level and nr of dependents."
   ]
  },
  {
   "cell_type": "markdown",
   "id": "b3860549-cf81-4640-bbb5-7129cd92039a",
   "metadata": {},
   "source": [
    "## By education level"
   ]
  },
  {
   "cell_type": "code",
   "execution_count": 79,
   "id": "35d84194-18a0-4805-9c08-f224718e8c23",
   "metadata": {},
   "outputs": [
    {
     "name": "stdout",
     "output_type": "stream",
     "text": [
      "Average age by education level:\n",
      "education_level\n",
      "Bachelor                 35.048876\n",
      "High School              34.861573\n",
      "Master                   33.581081\n",
      "PhD                      35.333333\n",
      "less than high school    34.786064\n",
      "Name: age, dtype: float64\n",
      "\n",
      "Percentage of individuals with dependents by education level:\n",
      "education_level\n",
      "Bachelor                 24.437928\n",
      "High School              28.214826\n",
      "Master                   21.621622\n",
      "PhD                      28.070175\n",
      "less than high school    36.430318\n",
      "Name: dependents, dtype: float64\n"
     ]
    }
   ],
   "source": [
    "# Average age by education level\n",
    "average_age_by_education = Demographic.groupby('education_level')['age'].mean()\n",
    "print(\"Average age by education level:\")\n",
    "print(average_age_by_education)\n",
    "print()\n",
    "\n",
    "# Percentage of individuals with dependents by education level\n",
    "percent_dependents_by_education = Demographic.groupby('education_level')['dependents'].mean() * 100\n",
    "print(\"Percentage of individuals with dependents by education level:\")\n",
    "print(percent_dependents_by_education)\n"
   ]
  },
  {
   "cell_type": "markdown",
   "id": "76bce27e-0859-4f5d-9798-63947d8edfee",
   "metadata": {},
   "source": [
    "**Interestingly, different education levels have the same average age**  \n",
    "\n",
    "**The lower the education level, the more likely to have dependents.**  \n",
    "**Exception**: PhD with same proportion of High School  \n",
    "\n"
   ]
  },
  {
   "cell_type": "markdown",
   "id": "6276ae62-fe33-47f7-b859-9e28364d49eb",
   "metadata": {},
   "source": [
    "### Correlation between Age and Having Dependents - no correlation"
   ]
  },
  {
   "cell_type": "code",
   "execution_count": 86,
   "id": "cf6db080-4e06-418d-86bd-00254f50c8fb",
   "metadata": {},
   "outputs": [
    {
     "name": "stdout",
     "output_type": "stream",
     "text": [
      "Correlation between age and having dependents: 0.004\n",
      "P-value of the correlation: 0.810\n"
     ]
    }
   ],
   "source": [
    "# Calculate point-biserial correlation\n",
    "correlation, p_value = stats.pointbiserialr(Demographic['dependents'], Demographic['age'])\n",
    "print(f\"Correlation between age and having dependents: {correlation:.3f}\")\n",
    "print(f\"P-value of the correlation: {p_value:.3f}\")"
   ]
  },
  {
   "cell_type": "markdown",
   "id": "a65846db-cdee-4d3b-98d5-ff48cd415e50",
   "metadata": {},
   "source": [
    "### Age across Education Levels - no difference"
   ]
  },
  {
   "cell_type": "code",
   "execution_count": 87,
   "id": "af21561f-a67f-45ac-9401-4e020a873591",
   "metadata": {},
   "outputs": [
    {
     "name": "stdout",
     "output_type": "stream",
     "text": [
      "F-statistic: 0.992\n",
      "P-value: 0.410\n"
     ]
    }
   ],
   "source": [
    "groups = Demographic.groupby('education_level')['age'].apply(list)\n",
    "\n",
    "# Perform ANOVA test\n",
    "f_stat, p_value = f_oneway(*groups)\n",
    "print(f\"F-statistic: {f_stat:.3f}\")\n",
    "print(f\"P-value: {p_value:.3f}\")"
   ]
  },
  {
   "cell_type": "markdown",
   "id": "3946b674-a2df-4978-998f-7466de2bb602",
   "metadata": {},
   "source": [
    "###  Education Level and Dependents - there is a difference"
   ]
  },
  {
   "cell_type": "code",
   "execution_count": 89,
   "id": "b94a73fe-e0cd-42ec-a7f3-9e82e1095d6a",
   "metadata": {},
   "outputs": [
    {
     "name": "stdout",
     "output_type": "stream",
     "text": [
      "Chi-square statistic: 48.873\n",
      "P-value: 0.000\n"
     ]
    }
   ],
   "source": [
    "contingency_table = pd.crosstab(Demographic['education_level'], Demographic['dependents'])\n",
    "\n",
    "# Perform chi-square test\n",
    "chi2, p, dof, expected = chi2_contingency(contingency_table)\n",
    "print(f\"Chi-square statistic: {chi2:.3f}\")\n",
    "print(f\"P-value: {p:.3f}\")"
   ]
  },
  {
   "cell_type": "code",
   "execution_count": 92,
   "id": "5d70059d-941b-4468-ad2c-6975ced2b3c1",
   "metadata": {},
   "outputs": [
    {
     "data": {
      "image/png": "[encoded data removed]",
      "text/plain": [
       "<Figure size 600x400 with 1 Axes>"
      ]
     },
     "metadata": {},
     "output_type": "display_data"
    }
   ],
   "source": [
    "# Plotting a stacked bar graph\n",
    "contingency_table.plot(kind='bar', stacked=True, color=['gray', 'black'])\n",
    "plt.title('Distribution of Dependents by Education Level')\n",
    "plt.xlabel('Education Level')\n",
    "plt.ylabel('Number of Individuals')\n",
    "plt.xticks(rotation=45)  # Rotates labels to improve readability\n",
    "plt.show()"
   ]
  },
  {
   "cell_type": "code",
   "execution_count": 97,
   "id": "19be91a5-8d22-4034-9fc4-12d486d3ba3e",
   "metadata": {},
   "outputs": [
    {
     "data": {
      "image/png": "[encoded data removed]",
      "text/plain": [
       "<Figure size 1000x600 with 2 Axes>"
      ]
     },
     "metadata": {},
     "output_type": "display_data"
    }
   ],
   "source": [
    "# Calculate the residuals (observed - expected)\n",
    "residuals = contingency_table - expected\n",
    "\n",
    "# Normalize residuals by expected\n",
    "normalized_residuals = residuals / expected\n",
    "\n",
    "# Plotting a heatmap of the normalized residuals\n",
    "plt.figure(figsize=(10, 6))\n",
    "sns.heatmap(normalized_residuals, annot=True, cmap=\"coolwarm\", fmt=\".2f\", center=0)\n",
    "plt.title('Normalized Residuals of Education Level vs. Dependents')\n",
    "plt.xlabel('Dependents')\n",
    "plt.ylabel('Education Level')\n",
    "plt.yticks(rotation=45)\n",
    "plt.show()\n"
   ]
  },
  {
   "cell_type": "markdown",
   "id": "3f8c407c-cd3e-4cc6-a736-3147a295eb69",
   "metadata": {},
   "source": [
    "**'less than high school'** are **more** likely to have dependents than expected.  \n",
    "\n",
    "**'Master' and 'Bachelor'** are **less** likely to have children."
   ]
  },
  {
   "cell_type": "code",
   "execution_count": null,
   "id": "554d5868-b0e1-4c97-a734-fcc73ce275bd",
   "metadata": {},
   "outputs": [],
   "source": []
  }
 ],
 "metadata": {
  "kernelspec": {
   "display_name": "Python 3 (ipykernel)",
   "language": "python",
   "name": "python3"
  },
  "language_info": {
   "codemirror_mode": {
    "name": "ipython",
    "version": 3
   },
   "file_extension": ".py",
   "mimetype": "text/x-python",
   "name": "python",
   "nbconvert_exporter": "python",
   "pygments_lexer": "ipython3",
   "version": "3.12.2"
  }
 },
 "nbformat": 4,
 "nbformat_minor": 5
}
