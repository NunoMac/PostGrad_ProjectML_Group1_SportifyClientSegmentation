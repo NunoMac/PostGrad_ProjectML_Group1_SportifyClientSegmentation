{
 "cells": [
  {
   "cell_type": "code",
   "execution_count": 40,
   "id": "662a344a-0c2f-452c-9671-3018aeed4338",
   "metadata": {},
   "outputs": [],
   "source": [
    "import pandas as pd\n",
    "import numpy as np\n",
    "import matplotlib.pyplot as plt\n",
    "import seaborn as sns\n",
    "from sklearn.cluster import KMeans\n",
    "from sklearn.metrics.pairwise import euclidean_distances\n",
    "from datetime import datetime\n",
    "from scipy.cluster import hierarchy\n",
    "from sklearn.preprocessing import MinMaxScaler, StandardScaler\n",
    "from scipy.stats import boxcox\n",
    "from sklearn.impute import KNNImputer\n",
    "from sklearn.decomposition import PCA\n",
    "from sklearn.metrics import silhouette_score\n",
    "from scipy.stats import ttest_ind\n",
    "from scipy import stats"
   ]
  },
  {
   "cell_type": "markdown",
   "id": "429b4245-9ec0-4541-8d4c-9ce5deafa291",
   "metadata": {},
   "source": [
    "# Import data"
   ]
  },
  {
   "cell_type": "code",
   "execution_count": 41,
   "id": "2d6bf5e4-c464-4056-a2cd-951f477abe7a",
   "metadata": {},
   "outputs": [
    {
     "data": {
      "text/html": [
       "<div>\n",
       "<style scoped>\n",
       "    .dataframe tbody tr th:only-of-type {\n",
       "        vertical-align: middle;\n",
       "    }\n",
       "\n",
       "    .dataframe tbody tr th {\n",
       "        vertical-align: top;\n",
       "    }\n",
       "\n",
       "    .dataframe thead th {\n",
       "        text-align: right;\n",
       "    }\n",
       "</style>\n",
       "<table border=\"1\" class=\"dataframe\">\n",
       "  <thead>\n",
       "    <tr style=\"text-align: right;\">\n",
       "      <th></th>\n",
       "      <th>Fitness&amp;Gym</th>\n",
       "      <th>Hiking&amp;Running</th>\n",
       "      <th>Last_Purchase</th>\n",
       "      <th>TeamGames</th>\n",
       "      <th>OutdoorActivities</th>\n",
       "      <th>TotalProducts</th>\n",
       "    </tr>\n",
       "    <tr>\n",
       "      <th>Cust_ID</th>\n",
       "      <th></th>\n",
       "      <th></th>\n",
       "      <th></th>\n",
       "      <th></th>\n",
       "      <th></th>\n",
       "      <th></th>\n",
       "    </tr>\n",
       "  </thead>\n",
       "  <tbody>\n",
       "    <tr>\n",
       "      <th>4</th>\n",
       "      <td>0</td>\n",
       "      <td>76</td>\n",
       "      <td>2024-02-19</td>\n",
       "      <td>248</td>\n",
       "      <td>37</td>\n",
       "      <td>6</td>\n",
       "    </tr>\n",
       "    <tr>\n",
       "      <th>5</th>\n",
       "      <td>0</td>\n",
       "      <td>75</td>\n",
       "      <td>2024-02-17</td>\n",
       "      <td>248</td>\n",
       "      <td>37</td>\n",
       "      <td>6</td>\n",
       "    </tr>\n",
       "    <tr>\n",
       "      <th>6</th>\n",
       "      <td>6</td>\n",
       "      <td>69</td>\n",
       "      <td>2024-02-15</td>\n",
       "      <td>215</td>\n",
       "      <td>34</td>\n",
       "      <td>5</td>\n",
       "    </tr>\n",
       "    <tr>\n",
       "      <th>9</th>\n",
       "      <td>36</td>\n",
       "      <td>71</td>\n",
       "      <td>2024-02-13</td>\n",
       "      <td>248</td>\n",
       "      <td>35</td>\n",
       "      <td>8</td>\n",
       "    </tr>\n",
       "    <tr>\n",
       "      <th>10</th>\n",
       "      <td>8</td>\n",
       "      <td>97</td>\n",
       "      <td>2024-02-15</td>\n",
       "      <td>204</td>\n",
       "      <td>34</td>\n",
       "      <td>5</td>\n",
       "    </tr>\n",
       "  </tbody>\n",
       "</table>\n",
       "</div>"
      ],
      "text/plain": [
       "         Fitness&Gym  Hiking&Running Last_Purchase  TeamGames  \\\n",
       "Cust_ID                                                         \n",
       "4                  0              76    2024-02-19        248   \n",
       "5                  0              75    2024-02-17        248   \n",
       "6                  6              69    2024-02-15        215   \n",
       "9                 36              71    2024-02-13        248   \n",
       "10                 8              97    2024-02-15        204   \n",
       "\n",
       "         OutdoorActivities  TotalProducts  \n",
       "Cust_ID                                    \n",
       "4                       37              6  \n",
       "5                       37              6  \n",
       "6                       34              5  \n",
       "9                       35              8  \n",
       "10                      34              5  "
      ]
     },
     "execution_count": 41,
     "metadata": {},
     "output_type": "execute_result"
    }
   ],
   "source": [
    "#import data\n",
    "Products=pd.read_excel(\"data/Products.xlsx\")\n",
    "Products.set_index('Cust_ID', inplace = True)\n",
    "Products.head()"
   ]
  },
  {
   "cell_type": "code",
   "execution_count": 42,
   "id": "640b713c-f855-4a7c-828b-7ba23196cda2",
   "metadata": {},
   "outputs": [
    {
     "data": {
      "text/plain": [
       "510"
      ]
     },
     "execution_count": 42,
     "metadata": {},
     "output_type": "execute_result"
    }
   ],
   "source": [
    "#search duplicates\n",
    "len(Products[Products.duplicated()])"
   ]
  },
  {
   "cell_type": "markdown",
   "id": "48691354-8742-4570-991d-23caf1fbd57b",
   "metadata": {},
   "source": [
    "There are 510 duplicates.  \n",
    "\n",
    "However, there is no reason to exclude them when the feedback we get is that the data's integrity is of the highst quality and all IDs (common with other two datasets are unique. It could be a specific promotion, for example."
   ]
  },
  {
   "cell_type": "code",
   "execution_count": 43,
   "id": "f4d8c98b-6ac1-4bd5-bc0b-a61e3e04093b",
   "metadata": {},
   "outputs": [
    {
     "data": {
      "text/plain": [
       "4000"
      ]
     },
     "execution_count": 43,
     "metadata": {},
     "output_type": "execute_result"
    }
   ],
   "source": [
    "#confirm uniqueness of IDs\n",
    "len(Products.index.unique())"
   ]
  },
  {
   "cell_type": "code",
   "execution_count": 44,
   "id": "3b2517b7-d1b3-4d83-a94e-1b8bbd8ea6e2",
   "metadata": {},
   "outputs": [
    {
     "data": {
      "text/plain": [
       "Index(['fitness_gym', 'hiking_running', 'last_purchase', 'teamgames',\n",
       "       'outdooractivities', 'totalproducts'],\n",
       "      dtype='object')"
      ]
     },
     "execution_count": 44,
     "metadata": {},
     "output_type": "execute_result"
    }
   ],
   "source": [
    "#make column names better with snake_case\n",
    "Products.columns = Products.columns.str.lower().str.replace('&','_')\n",
    "Products.columns"
   ]
  },
  {
   "cell_type": "markdown",
   "id": "ee3b755b-4a1d-4868-8e64-b4d45e378e4d",
   "metadata": {},
   "source": [
    "# Exploration of the DF"
   ]
  },
  {
   "cell_type": "code",
   "execution_count": 45,
   "id": "8002e83f-0cb0-432e-8cb9-d8248203e1b6",
   "metadata": {},
   "outputs": [
    {
     "name": "stdout",
     "output_type": "stream",
     "text": [
      "<class 'pandas.core.frame.DataFrame'>\n",
      "Index: 4000 entries, 4 to 6496\n",
      "Data columns (total 6 columns):\n",
      " #   Column             Non-Null Count  Dtype         \n",
      "---  ------             --------------  -----         \n",
      " 0   fitness_gym        4000 non-null   int64         \n",
      " 1   hiking_running     4000 non-null   int64         \n",
      " 2   last_purchase      4000 non-null   datetime64[ns]\n",
      " 3   teamgames          4000 non-null   int64         \n",
      " 4   outdooractivities  4000 non-null   int64         \n",
      " 5   totalproducts      4000 non-null   int64         \n",
      "dtypes: datetime64[ns](1), int64(5)\n",
      "memory usage: 347.8 KB\n"
     ]
    }
   ],
   "source": [
    "Products.info()"
   ]
  },
  {
   "cell_type": "markdown",
   "id": "eb63a9cc-f2f3-4853-824d-a030e1c6b159",
   "metadata": {},
   "source": [
    "All value types seem correct. No null values."
   ]
  },
  {
   "cell_type": "code",
   "execution_count": 46,
   "id": "81f85ad1-d0cc-4013-9203-262b26878028",
   "metadata": {},
   "outputs": [
    {
     "data": {
      "text/html": [
       "<div>\n",
       "<style scoped>\n",
       "    .dataframe tbody tr th:only-of-type {\n",
       "        vertical-align: middle;\n",
       "    }\n",
       "\n",
       "    .dataframe tbody tr th {\n",
       "        vertical-align: top;\n",
       "    }\n",
       "\n",
       "    .dataframe thead th {\n",
       "        text-align: right;\n",
       "    }\n",
       "</style>\n",
       "<table border=\"1\" class=\"dataframe\">\n",
       "  <thead>\n",
       "    <tr style=\"text-align: right;\">\n",
       "      <th></th>\n",
       "      <th>fitness_gym</th>\n",
       "      <th>hiking_running</th>\n",
       "      <th>last_purchase</th>\n",
       "      <th>teamgames</th>\n",
       "      <th>outdooractivities</th>\n",
       "      <th>totalproducts</th>\n",
       "    </tr>\n",
       "  </thead>\n",
       "  <tbody>\n",
       "    <tr>\n",
       "      <th>count</th>\n",
       "      <td>4000.000000</td>\n",
       "      <td>4000.000000</td>\n",
       "      <td>4000</td>\n",
       "      <td>4000.000000</td>\n",
       "      <td>4000.000000</td>\n",
       "      <td>4000.000000</td>\n",
       "    </tr>\n",
       "    <tr>\n",
       "      <th>mean</th>\n",
       "      <td>32.020250</td>\n",
       "      <td>55.844750</td>\n",
       "      <td>2024-01-30 18:50:02.399999744</td>\n",
       "      <td>176.085000</td>\n",
       "      <td>33.602750</td>\n",
       "      <td>5.329500</td>\n",
       "    </tr>\n",
       "    <tr>\n",
       "      <th>min</th>\n",
       "      <td>0.000000</td>\n",
       "      <td>9.000000</td>\n",
       "      <td>2023-10-15 00:00:00</td>\n",
       "      <td>0.000000</td>\n",
       "      <td>28.000000</td>\n",
       "      <td>2.000000</td>\n",
       "    </tr>\n",
       "    <tr>\n",
       "      <th>25%</th>\n",
       "      <td>25.000000</td>\n",
       "      <td>38.000000</td>\n",
       "      <td>2024-01-20 00:00:00</td>\n",
       "      <td>121.000000</td>\n",
       "      <td>32.000000</td>\n",
       "      <td>4.000000</td>\n",
       "    </tr>\n",
       "    <tr>\n",
       "      <th>50%</th>\n",
       "      <td>31.000000</td>\n",
       "      <td>47.000000</td>\n",
       "      <td>2024-02-01 00:00:00</td>\n",
       "      <td>180.000000</td>\n",
       "      <td>33.000000</td>\n",
       "      <td>5.000000</td>\n",
       "    </tr>\n",
       "    <tr>\n",
       "      <th>75%</th>\n",
       "      <td>40.000000</td>\n",
       "      <td>66.000000</td>\n",
       "      <td>2024-02-13 00:00:00</td>\n",
       "      <td>230.000000</td>\n",
       "      <td>35.000000</td>\n",
       "      <td>6.000000</td>\n",
       "    </tr>\n",
       "    <tr>\n",
       "      <th>max</th>\n",
       "      <td>123.000000</td>\n",
       "      <td>464.000000</td>\n",
       "      <td>2024-02-29 00:00:00</td>\n",
       "      <td>1203.000000</td>\n",
       "      <td>42.000000</td>\n",
       "      <td>20.000000</td>\n",
       "    </tr>\n",
       "    <tr>\n",
       "      <th>std</th>\n",
       "      <td>14.469284</td>\n",
       "      <td>33.119109</td>\n",
       "      <td>NaN</td>\n",
       "      <td>69.964738</td>\n",
       "      <td>1.711483</td>\n",
       "      <td>1.515257</td>\n",
       "    </tr>\n",
       "  </tbody>\n",
       "</table>\n",
       "</div>"
      ],
      "text/plain": [
       "       fitness_gym  hiking_running                  last_purchase  \\\n",
       "count  4000.000000     4000.000000                           4000   \n",
       "mean     32.020250       55.844750  2024-01-30 18:50:02.399999744   \n",
       "min       0.000000        9.000000            2023-10-15 00:00:00   \n",
       "25%      25.000000       38.000000            2024-01-20 00:00:00   \n",
       "50%      31.000000       47.000000            2024-02-01 00:00:00   \n",
       "75%      40.000000       66.000000            2024-02-13 00:00:00   \n",
       "max     123.000000      464.000000            2024-02-29 00:00:00   \n",
       "std      14.469284       33.119109                            NaN   \n",
       "\n",
       "         teamgames  outdooractivities  totalproducts  \n",
       "count  4000.000000        4000.000000    4000.000000  \n",
       "mean    176.085000          33.602750       5.329500  \n",
       "min       0.000000          28.000000       2.000000  \n",
       "25%     121.000000          32.000000       4.000000  \n",
       "50%     180.000000          33.000000       5.000000  \n",
       "75%     230.000000          35.000000       6.000000  \n",
       "max    1203.000000          42.000000      20.000000  \n",
       "std      69.964738           1.711483       1.515257  "
      ]
     },
     "execution_count": 46,
     "metadata": {},
     "output_type": "execute_result"
    }
   ],
   "source": [
    "Products.describe()"
   ]
  },
  {
   "cell_type": "markdown",
   "id": "01fc4764-823e-40ed-9009-06caf57f6e5f",
   "metadata": {},
   "source": [
    "All features have median and mean values close together, suggesting gaussian distribution data.  \n",
    "\n",
    "Let's confirm."
   ]
  },
  {
   "cell_type": "code",
   "execution_count": 47,
   "id": "7f4fc022-a8ce-4465-ab61-fdc9973ecca0",
   "metadata": {},
   "outputs": [
    {
     "data": {
      "text/plain": [
       "fitness_gym          0.346342\n",
       "hiking_running       4.671687\n",
       "teamgames            0.740859\n",
       "outdooractivities    0.414896\n",
       "totalproducts        1.791119\n",
       "dtype: float64"
      ]
     },
     "execution_count": 47,
     "metadata": {},
     "output_type": "execute_result"
    }
   ],
   "source": [
    "#check skewness of data\n",
    "numeric=['fitness_gym', 'hiking_running', 'teamgames', 'outdooractivities', 'totalproducts']\n",
    "Products[numeric].skew()"
   ]
  },
  {
   "cell_type": "markdown",
   "id": "49644187-f5ad-461c-af6e-d6803110ff5e",
   "metadata": {},
   "source": [
    "hiking_running and totalproducts  are highly positively skewed.  \n",
    "teamgames is moderately skewed.\n"
   ]
  },
  {
   "cell_type": "code",
   "execution_count": 48,
   "id": "c03ff5c0-cc11-4681-a9d6-ad36df0a6b36",
   "metadata": {},
   "outputs": [
    {
     "data": {
      "text/plain": [
       "fitness_gym           1.464810\n",
       "hiking_running       37.839539\n",
       "teamgames            10.605494\n",
       "outdooractivities     0.399144\n",
       "totalproducts         9.247286\n",
       "dtype: float64"
      ]
     },
     "execution_count": 48,
     "metadata": {},
     "output_type": "execute_result"
    }
   ],
   "source": [
    "Products[numeric].kurt()"
   ]
  },
  {
   "cell_type": "code",
   "execution_count": 49,
   "id": "1d606fe1-ed56-4411-b2a7-0a9c2e562985",
   "metadata": {},
   "outputs": [
    {
     "data": {
      "image/png": "[encoded data removed]",
      "text/plain": [
       "<Figure size 640x480 with 1 Axes>"
      ]
     },
     "metadata": {},
     "output_type": "display_data"
    },
    {
     "data": {
      "image/png": "[encoded data removed]",
      "text/plain": [
       "<Figure size 640x480 with 1 Axes>"
      ]
     },
     "metadata": {},
     "output_type": "display_data"
    },
    {
     "data": {
      "image/png": "[encoded data removed]",
      "text/plain": [
       "<Figure size 640x480 with 1 Axes>"
      ]
     },
     "metadata": {},
     "output_type": "display_data"
    },
    {
     "data": {
      "image/png": "[encoded data removed]",
      "text/plain": [
       "<Figure size 640x480 with 1 Axes>"
      ]
     },
     "metadata": {},
     "output_type": "display_data"
    },
    {
     "data": {
      "image/png": "[encoded data removed]",
      "text/plain": [
       "<Figure size 640x480 with 1 Axes>"
      ]
     },
     "metadata": {},
     "output_type": "display_data"
    }
   ],
   "source": [
    "#check distributions\n",
    "for column in Products[numeric].columns:\n",
    "    sns.histplot(data=Products, x=column)\n",
    "    plt.title(f'Histogram of {column}')\n",
    "    plt.show()"
   ]
  },
  {
   "cell_type": "markdown",
   "id": "013a24b2-1a38-40c7-bb37-cbfe25a57b7c",
   "metadata": {},
   "source": [
    "# Preprocessing"
   ]
  },
  {
   "cell_type": "markdown",
   "id": "45aa6887-6d94-488c-a985-d8b777ba59ea",
   "metadata": {},
   "source": [
    "No Df Products, criaremos:\n",
    "1) Coluna de Total de Gasto,\n",
    "2) Gasto médio por produto e\n",
    "3) Trocamos data de última compra por #dias desde da última compra (assumindo 21-04-2024)\n",
    "4) Removemos os duplicados\n",
    "5) Deixar cair a coluna 'TotalProducts' porque não dá grande informação."
   ]
  },
  {
   "cell_type": "code",
   "execution_count": 50,
   "id": "a9d91036-0170-4695-bf9d-986c8ff0f6b3",
   "metadata": {},
   "outputs": [
    {
     "data": {
      "text/html": [
       "<div>\n",
       "<style scoped>\n",
       "    .dataframe tbody tr th:only-of-type {\n",
       "        vertical-align: middle;\n",
       "    }\n",
       "\n",
       "    .dataframe tbody tr th {\n",
       "        vertical-align: top;\n",
       "    }\n",
       "\n",
       "    .dataframe thead th {\n",
       "        text-align: right;\n",
       "    }\n",
       "</style>\n",
       "<table border=\"1\" class=\"dataframe\">\n",
       "  <thead>\n",
       "    <tr style=\"text-align: right;\">\n",
       "      <th></th>\n",
       "      <th>fitness_gym</th>\n",
       "      <th>hiking_running</th>\n",
       "      <th>last_purchase</th>\n",
       "      <th>teamgames</th>\n",
       "      <th>outdooractivities</th>\n",
       "      <th>totalproducts</th>\n",
       "      <th>total_spent</th>\n",
       "    </tr>\n",
       "    <tr>\n",
       "      <th>Cust_ID</th>\n",
       "      <th></th>\n",
       "      <th></th>\n",
       "      <th></th>\n",
       "      <th></th>\n",
       "      <th></th>\n",
       "      <th></th>\n",
       "      <th></th>\n",
       "    </tr>\n",
       "  </thead>\n",
       "  <tbody>\n",
       "    <tr>\n",
       "      <th>4</th>\n",
       "      <td>0</td>\n",
       "      <td>76</td>\n",
       "      <td>2024-02-19</td>\n",
       "      <td>248</td>\n",
       "      <td>37</td>\n",
       "      <td>6</td>\n",
       "      <td>361</td>\n",
       "    </tr>\n",
       "    <tr>\n",
       "      <th>5</th>\n",
       "      <td>0</td>\n",
       "      <td>75</td>\n",
       "      <td>2024-02-17</td>\n",
       "      <td>248</td>\n",
       "      <td>37</td>\n",
       "      <td>6</td>\n",
       "      <td>360</td>\n",
       "    </tr>\n",
       "    <tr>\n",
       "      <th>6</th>\n",
       "      <td>6</td>\n",
       "      <td>69</td>\n",
       "      <td>2024-02-15</td>\n",
       "      <td>215</td>\n",
       "      <td>34</td>\n",
       "      <td>5</td>\n",
       "      <td>324</td>\n",
       "    </tr>\n",
       "    <tr>\n",
       "      <th>9</th>\n",
       "      <td>36</td>\n",
       "      <td>71</td>\n",
       "      <td>2024-02-13</td>\n",
       "      <td>248</td>\n",
       "      <td>35</td>\n",
       "      <td>8</td>\n",
       "      <td>390</td>\n",
       "    </tr>\n",
       "    <tr>\n",
       "      <th>10</th>\n",
       "      <td>8</td>\n",
       "      <td>97</td>\n",
       "      <td>2024-02-15</td>\n",
       "      <td>204</td>\n",
       "      <td>34</td>\n",
       "      <td>5</td>\n",
       "      <td>343</td>\n",
       "    </tr>\n",
       "  </tbody>\n",
       "</table>\n",
       "</div>"
      ],
      "text/plain": [
       "         fitness_gym  hiking_running last_purchase  teamgames  \\\n",
       "Cust_ID                                                         \n",
       "4                  0              76    2024-02-19        248   \n",
       "5                  0              75    2024-02-17        248   \n",
       "6                  6              69    2024-02-15        215   \n",
       "9                 36              71    2024-02-13        248   \n",
       "10                 8              97    2024-02-15        204   \n",
       "\n",
       "         outdooractivities  totalproducts  total_spent  \n",
       "Cust_ID                                                 \n",
       "4                       37              6          361  \n",
       "5                       37              6          360  \n",
       "6                       34              5          324  \n",
       "9                       35              8          390  \n",
       "10                      34              5          343  "
      ]
     },
     "execution_count": 50,
     "metadata": {},
     "output_type": "execute_result"
    }
   ],
   "source": [
    "# Criar a nova coluna \"total_spent\" com a soma das colunas especificadas\n",
    "spending=['fitness_gym', 'hiking_running', 'teamgames', 'outdooractivities']\n",
    "Products['total_spent'] = Products[spending].sum(axis=1)\n",
    "Products.head()                                                   "
   ]
  },
  {
   "cell_type": "code",
   "execution_count": 51,
   "id": "694edaa2-af9e-4ae8-a9c2-51cefdb18298",
   "metadata": {},
   "outputs": [
    {
     "data": {
      "text/html": [
       "<div>\n",
       "<style scoped>\n",
       "    .dataframe tbody tr th:only-of-type {\n",
       "        vertical-align: middle;\n",
       "    }\n",
       "\n",
       "    .dataframe tbody tr th {\n",
       "        vertical-align: top;\n",
       "    }\n",
       "\n",
       "    .dataframe thead th {\n",
       "        text-align: right;\n",
       "    }\n",
       "</style>\n",
       "<table border=\"1\" class=\"dataframe\">\n",
       "  <thead>\n",
       "    <tr style=\"text-align: right;\">\n",
       "      <th></th>\n",
       "      <th>fitness_gym</th>\n",
       "      <th>hiking_running</th>\n",
       "      <th>last_purchase</th>\n",
       "      <th>teamgames</th>\n",
       "      <th>outdooractivities</th>\n",
       "      <th>totalproducts</th>\n",
       "      <th>total_spent</th>\n",
       "      <th>Avg_Spent</th>\n",
       "    </tr>\n",
       "    <tr>\n",
       "      <th>Cust_ID</th>\n",
       "      <th></th>\n",
       "      <th></th>\n",
       "      <th></th>\n",
       "      <th></th>\n",
       "      <th></th>\n",
       "      <th></th>\n",
       "      <th></th>\n",
       "      <th></th>\n",
       "    </tr>\n",
       "  </thead>\n",
       "  <tbody>\n",
       "    <tr>\n",
       "      <th>4</th>\n",
       "      <td>0</td>\n",
       "      <td>76</td>\n",
       "      <td>2024-02-19</td>\n",
       "      <td>248</td>\n",
       "      <td>37</td>\n",
       "      <td>6</td>\n",
       "      <td>361</td>\n",
       "      <td>61</td>\n",
       "    </tr>\n",
       "    <tr>\n",
       "      <th>5</th>\n",
       "      <td>0</td>\n",
       "      <td>75</td>\n",
       "      <td>2024-02-17</td>\n",
       "      <td>248</td>\n",
       "      <td>37</td>\n",
       "      <td>6</td>\n",
       "      <td>360</td>\n",
       "      <td>60</td>\n",
       "    </tr>\n",
       "    <tr>\n",
       "      <th>6</th>\n",
       "      <td>6</td>\n",
       "      <td>69</td>\n",
       "      <td>2024-02-15</td>\n",
       "      <td>215</td>\n",
       "      <td>34</td>\n",
       "      <td>5</td>\n",
       "      <td>324</td>\n",
       "      <td>65</td>\n",
       "    </tr>\n",
       "    <tr>\n",
       "      <th>9</th>\n",
       "      <td>36</td>\n",
       "      <td>71</td>\n",
       "      <td>2024-02-13</td>\n",
       "      <td>248</td>\n",
       "      <td>35</td>\n",
       "      <td>8</td>\n",
       "      <td>390</td>\n",
       "      <td>49</td>\n",
       "    </tr>\n",
       "    <tr>\n",
       "      <th>10</th>\n",
       "      <td>8</td>\n",
       "      <td>97</td>\n",
       "      <td>2024-02-15</td>\n",
       "      <td>204</td>\n",
       "      <td>34</td>\n",
       "      <td>5</td>\n",
       "      <td>343</td>\n",
       "      <td>69</td>\n",
       "    </tr>\n",
       "  </tbody>\n",
       "</table>\n",
       "</div>"
      ],
      "text/plain": [
       "         fitness_gym  hiking_running last_purchase  teamgames  \\\n",
       "Cust_ID                                                         \n",
       "4                  0              76    2024-02-19        248   \n",
       "5                  0              75    2024-02-17        248   \n",
       "6                  6              69    2024-02-15        215   \n",
       "9                 36              71    2024-02-13        248   \n",
       "10                 8              97    2024-02-15        204   \n",
       "\n",
       "         outdooractivities  totalproducts  total_spent  Avg_Spent  \n",
       "Cust_ID                                                            \n",
       "4                       37              6          361         61  \n",
       "5                       37              6          360         60  \n",
       "6                       34              5          324         65  \n",
       "9                       35              8          390         49  \n",
       "10                      34              5          343         69  "
      ]
     },
     "execution_count": 51,
     "metadata": {},
     "output_type": "execute_result"
    }
   ],
   "source": [
    "#criar coluna de average spending\n",
    "Products['Avg_Spent']=Products['total_spent']/Products['totalproducts']\n",
    "Products['Avg_Spent'] = np.ceil(Products['Avg_Spent'])  # Arredondar para cima\n",
    "Products['Avg_Spent']=Products['Avg_Spent'].astype(int)\n",
    "Products.head()"
   ]
  },
  {
   "cell_type": "code",
   "execution_count": 52,
   "id": "5065d38d-aed1-493f-83ab-e46b2a5e5bab",
   "metadata": {},
   "outputs": [
    {
     "data": {
      "text/html": [
       "<div>\n",
       "<style scoped>\n",
       "    .dataframe tbody tr th:only-of-type {\n",
       "        vertical-align: middle;\n",
       "    }\n",
       "\n",
       "    .dataframe tbody tr th {\n",
       "        vertical-align: top;\n",
       "    }\n",
       "\n",
       "    .dataframe thead th {\n",
       "        text-align: right;\n",
       "    }\n",
       "</style>\n",
       "<table border=\"1\" class=\"dataframe\">\n",
       "  <thead>\n",
       "    <tr style=\"text-align: right;\">\n",
       "      <th></th>\n",
       "      <th>fitness_gym</th>\n",
       "      <th>hiking_running</th>\n",
       "      <th>teamgames</th>\n",
       "      <th>outdooractivities</th>\n",
       "      <th>totalproducts</th>\n",
       "      <th>total_spent</th>\n",
       "      <th>Avg_Spent</th>\n",
       "      <th>Days_Since_Last_Purchase</th>\n",
       "    </tr>\n",
       "    <tr>\n",
       "      <th>Cust_ID</th>\n",
       "      <th></th>\n",
       "      <th></th>\n",
       "      <th></th>\n",
       "      <th></th>\n",
       "      <th></th>\n",
       "      <th></th>\n",
       "      <th></th>\n",
       "      <th></th>\n",
       "    </tr>\n",
       "  </thead>\n",
       "  <tbody>\n",
       "    <tr>\n",
       "      <th>4</th>\n",
       "      <td>0</td>\n",
       "      <td>76</td>\n",
       "      <td>248</td>\n",
       "      <td>37</td>\n",
       "      <td>6</td>\n",
       "      <td>361</td>\n",
       "      <td>61</td>\n",
       "      <td>68</td>\n",
       "    </tr>\n",
       "    <tr>\n",
       "      <th>5</th>\n",
       "      <td>0</td>\n",
       "      <td>75</td>\n",
       "      <td>248</td>\n",
       "      <td>37</td>\n",
       "      <td>6</td>\n",
       "      <td>360</td>\n",
       "      <td>60</td>\n",
       "      <td>70</td>\n",
       "    </tr>\n",
       "    <tr>\n",
       "      <th>6</th>\n",
       "      <td>6</td>\n",
       "      <td>69</td>\n",
       "      <td>215</td>\n",
       "      <td>34</td>\n",
       "      <td>5</td>\n",
       "      <td>324</td>\n",
       "      <td>65</td>\n",
       "      <td>72</td>\n",
       "    </tr>\n",
       "    <tr>\n",
       "      <th>9</th>\n",
       "      <td>36</td>\n",
       "      <td>71</td>\n",
       "      <td>248</td>\n",
       "      <td>35</td>\n",
       "      <td>8</td>\n",
       "      <td>390</td>\n",
       "      <td>49</td>\n",
       "      <td>74</td>\n",
       "    </tr>\n",
       "    <tr>\n",
       "      <th>10</th>\n",
       "      <td>8</td>\n",
       "      <td>97</td>\n",
       "      <td>204</td>\n",
       "      <td>34</td>\n",
       "      <td>5</td>\n",
       "      <td>343</td>\n",
       "      <td>69</td>\n",
       "      <td>72</td>\n",
       "    </tr>\n",
       "  </tbody>\n",
       "</table>\n",
       "</div>"
      ],
      "text/plain": [
       "         fitness_gym  hiking_running  teamgames  outdooractivities  \\\n",
       "Cust_ID                                                              \n",
       "4                  0              76        248                 37   \n",
       "5                  0              75        248                 37   \n",
       "6                  6              69        215                 34   \n",
       "9                 36              71        248                 35   \n",
       "10                 8              97        204                 34   \n",
       "\n",
       "         totalproducts  total_spent  Avg_Spent  Days_Since_Last_Purchase  \n",
       "Cust_ID                                                                   \n",
       "4                    6          361         61                        68  \n",
       "5                    6          360         60                        70  \n",
       "6                    5          324         65                        72  \n",
       "9                    8          390         49                        74  \n",
       "10                   5          343         69                        72  "
      ]
     },
     "execution_count": 52,
     "metadata": {},
     "output_type": "execute_result"
    }
   ],
   "source": [
    "#get number of days since last purchase\n",
    "Products['last_purchase'] = pd.to_datetime(Products['last_purchase'])\n",
    "today = pd.Timestamp(datetime.today().date())  # ou pd.Timestamp('today')\n",
    "Products['Days_Since_Last_Purchase'] = (today - Products['last_purchase']).dt.days\n",
    "Products.drop('last_purchase', axis=1, inplace=True)\n",
    "Products.head()"
   ]
  },
  {
   "cell_type": "markdown",
   "id": "68307c3e-e805-4bc4-b1a1-fa71929f8e93",
   "metadata": {},
   "source": [
    "## DEA"
   ]
  },
  {
   "cell_type": "code",
   "execution_count": 53,
   "id": "b6ec25dd-ffdb-4634-a77e-a6e3f9dd3f54",
   "metadata": {},
   "outputs": [
    {
     "data": {
      "image/png": "[encoded data removed]",
      "text/plain": [
       "<Figure size 800x600 with 2 Axes>"
      ]
     },
     "metadata": {},
     "output_type": "display_data"
    }
   ],
   "source": [
    "# Calcular a matriz de correlação\n",
    "correlation_matrix_Products = Products.corr()\n",
    "\n",
    "plt.figure(figsize=(8, 6))\n",
    "sns.heatmap(correlation_matrix_Products, annot=True, cmap='coolwarm', fmt=\".2f\", linewidths=.5)\n",
    "plt.title('Correlation Matrix for Products DF')\n",
    "plt.show() #Vejo correlação mt forte entre Total_Expensed e TeamGames"
   ]
  },
  {
   "cell_type": "markdown",
   "id": "16488d80-b4e5-458c-9766-5d815513e600",
   "metadata": {},
   "source": [
    "No high correlations, except 'teamgames' vs 'total_spent', since teamgames influence highly the amount spent due to the high values involved."
   ]
  },
  {
   "cell_type": "markdown",
   "id": "0274dcb7-7c36-45ac-8fe9-ca25d38c06ad",
   "metadata": {},
   "source": [
    "# outliers\n",
    "### Delete outliers and rerun scaling\n",
    "- For each column determine the Q3 + 1.5xQ3 and\n",
    "- then exclude the outliers\n",
    "\n",
    "**on the original data**"
   ]
  },
  {
   "cell_type": "markdown",
   "id": "ef7b85a4-455a-4aaf-afc1-0f2066f64956",
   "metadata": {},
   "source": [
    "### Q3 + 1.5xIQR technique - removes almost 25% of the data"
   ]
  },
  {
   "cell_type": "code",
   "execution_count": 54,
   "id": "c1804823-2806-4c9a-9323-4ba1fc1504b3",
   "metadata": {},
   "outputs": [
    {
     "data": {
      "text/html": [
       "<div>\n",
       "<style scoped>\n",
       "    .dataframe tbody tr th:only-of-type {\n",
       "        vertical-align: middle;\n",
       "    }\n",
       "\n",
       "    .dataframe tbody tr th {\n",
       "        vertical-align: top;\n",
       "    }\n",
       "\n",
       "    .dataframe thead th {\n",
       "        text-align: right;\n",
       "    }\n",
       "</style>\n",
       "<table border=\"1\" class=\"dataframe\">\n",
       "  <thead>\n",
       "    <tr style=\"text-align: right;\">\n",
       "      <th></th>\n",
       "      <th>25%</th>\n",
       "      <th>75%</th>\n",
       "    </tr>\n",
       "  </thead>\n",
       "  <tbody>\n",
       "    <tr>\n",
       "      <th>fitness_gym</th>\n",
       "      <td>25.0</td>\n",
       "      <td>40.0</td>\n",
       "    </tr>\n",
       "    <tr>\n",
       "      <th>hiking_running</th>\n",
       "      <td>38.0</td>\n",
       "      <td>66.0</td>\n",
       "    </tr>\n",
       "    <tr>\n",
       "      <th>teamgames</th>\n",
       "      <td>121.0</td>\n",
       "      <td>230.0</td>\n",
       "    </tr>\n",
       "    <tr>\n",
       "      <th>outdooractivities</th>\n",
       "      <td>32.0</td>\n",
       "      <td>35.0</td>\n",
       "    </tr>\n",
       "    <tr>\n",
       "      <th>totalproducts</th>\n",
       "      <td>4.0</td>\n",
       "      <td>6.0</td>\n",
       "    </tr>\n",
       "    <tr>\n",
       "      <th>total_spent</th>\n",
       "      <td>227.0</td>\n",
       "      <td>363.0</td>\n",
       "    </tr>\n",
       "    <tr>\n",
       "      <th>Avg_Spent</th>\n",
       "      <td>45.0</td>\n",
       "      <td>70.0</td>\n",
       "    </tr>\n",
       "    <tr>\n",
       "      <th>Days_Since_Last_Purchase</th>\n",
       "      <td>74.0</td>\n",
       "      <td>98.0</td>\n",
       "    </tr>\n",
       "  </tbody>\n",
       "</table>\n",
       "</div>"
      ],
      "text/plain": [
       "                            25%    75%\n",
       "fitness_gym                25.0   40.0\n",
       "hiking_running             38.0   66.0\n",
       "teamgames                 121.0  230.0\n",
       "outdooractivities          32.0   35.0\n",
       "totalproducts               4.0    6.0\n",
       "total_spent               227.0  363.0\n",
       "Avg_Spent                  45.0   70.0\n",
       "Days_Since_Last_Purchase   74.0   98.0"
      ]
     },
     "execution_count": 54,
     "metadata": {},
     "output_type": "execute_result"
    }
   ],
   "source": [
    "#get Q3 (75% quantile)\n",
    "statiscs_table=Products.describe()\n",
    "statistics_quantiles = statiscs_table.loc[['25%','75%'],:].transpose()\n",
    "statistics_quantiles"
   ]
  },
  {
   "cell_type": "code",
   "execution_count": 55,
   "id": "52259460-0ee2-4f7c-9eab-ad51d99e47ed",
   "metadata": {},
   "outputs": [],
   "source": [
    "#create interquantile range (Q1-Q3)\n",
    "statistics_quantiles['IQR'] = statistics_quantiles['75%'] - statistics_quantiles['25%']"
   ]
  },
  {
   "cell_type": "code",
   "execution_count": 56,
   "id": "7f973716-4a96-46b0-8f30-e213b28bb695",
   "metadata": {},
   "outputs": [
    {
     "data": {
      "text/html": [
       "<div>\n",
       "<style scoped>\n",
       "    .dataframe tbody tr th:only-of-type {\n",
       "        vertical-align: middle;\n",
       "    }\n",
       "\n",
       "    .dataframe tbody tr th {\n",
       "        vertical-align: top;\n",
       "    }\n",
       "\n",
       "    .dataframe thead th {\n",
       "        text-align: right;\n",
       "    }\n",
       "</style>\n",
       "<table border=\"1\" class=\"dataframe\">\n",
       "  <thead>\n",
       "    <tr style=\"text-align: right;\">\n",
       "      <th></th>\n",
       "      <th>fitness_gym</th>\n",
       "      <th>hiking_running</th>\n",
       "      <th>teamgames</th>\n",
       "      <th>outdooractivities</th>\n",
       "      <th>totalproducts</th>\n",
       "      <th>total_spent</th>\n",
       "      <th>Avg_Spent</th>\n",
       "      <th>Days_Since_Last_Purchase</th>\n",
       "    </tr>\n",
       "  </thead>\n",
       "  <tbody>\n",
       "    <tr>\n",
       "      <th>25%</th>\n",
       "      <td>25.0</td>\n",
       "      <td>38.0</td>\n",
       "      <td>121.0</td>\n",
       "      <td>32.0</td>\n",
       "      <td>4.0</td>\n",
       "      <td>227.0</td>\n",
       "      <td>45.0</td>\n",
       "      <td>74.0</td>\n",
       "    </tr>\n",
       "    <tr>\n",
       "      <th>75%</th>\n",
       "      <td>40.0</td>\n",
       "      <td>66.0</td>\n",
       "      <td>230.0</td>\n",
       "      <td>35.0</td>\n",
       "      <td>6.0</td>\n",
       "      <td>363.0</td>\n",
       "      <td>70.0</td>\n",
       "      <td>98.0</td>\n",
       "    </tr>\n",
       "    <tr>\n",
       "      <th>IQR</th>\n",
       "      <td>15.0</td>\n",
       "      <td>28.0</td>\n",
       "      <td>109.0</td>\n",
       "      <td>3.0</td>\n",
       "      <td>2.0</td>\n",
       "      <td>136.0</td>\n",
       "      <td>25.0</td>\n",
       "      <td>24.0</td>\n",
       "    </tr>\n",
       "    <tr>\n",
       "      <th>outlier</th>\n",
       "      <td>55.0</td>\n",
       "      <td>94.0</td>\n",
       "      <td>339.0</td>\n",
       "      <td>38.0</td>\n",
       "      <td>8.0</td>\n",
       "      <td>499.0</td>\n",
       "      <td>95.0</td>\n",
       "      <td>122.0</td>\n",
       "    </tr>\n",
       "  </tbody>\n",
       "</table>\n",
       "</div>"
      ],
      "text/plain": [
       "         fitness_gym  hiking_running  teamgames  outdooractivities  \\\n",
       "25%             25.0            38.0      121.0               32.0   \n",
       "75%             40.0            66.0      230.0               35.0   \n",
       "IQR             15.0            28.0      109.0                3.0   \n",
       "outlier         55.0            94.0      339.0               38.0   \n",
       "\n",
       "         totalproducts  total_spent  Avg_Spent  Days_Since_Last_Purchase  \n",
       "25%                4.0        227.0       45.0                      74.0  \n",
       "75%                6.0        363.0       70.0                      98.0  \n",
       "IQR                2.0        136.0       25.0                      24.0  \n",
       "outlier            8.0        499.0       95.0                     122.0  "
      ]
     },
     "execution_count": 56,
     "metadata": {},
     "output_type": "execute_result"
    }
   ],
   "source": [
    "#calculate Q3+1.5xIQR\n",
    "statistics_quantiles['outlier'] = statistics_quantiles['75%'] + statistics_quantiles['IQR']\n",
    "statistics_quantiles = statistics_quantiles.transpose()\n",
    "statistics_quantiles"
   ]
  },
  {
   "cell_type": "code",
   "execution_count": 57,
   "id": "33be115d-adfd-4085-b9ce-49f86b6f9215",
   "metadata": {},
   "outputs": [
    {
     "data": {
      "text/html": [
       "<div>\n",
       "<style scoped>\n",
       "    .dataframe tbody tr th:only-of-type {\n",
       "        vertical-align: middle;\n",
       "    }\n",
       "\n",
       "    .dataframe tbody tr th {\n",
       "        vertical-align: top;\n",
       "    }\n",
       "\n",
       "    .dataframe thead th {\n",
       "        text-align: right;\n",
       "    }\n",
       "</style>\n",
       "<table border=\"1\" class=\"dataframe\">\n",
       "  <thead>\n",
       "    <tr style=\"text-align: right;\">\n",
       "      <th></th>\n",
       "      <th>fitness_gym</th>\n",
       "      <th>hiking_running</th>\n",
       "      <th>teamgames</th>\n",
       "      <th>outdooractivities</th>\n",
       "      <th>totalproducts</th>\n",
       "      <th>total_spent</th>\n",
       "      <th>Avg_Spent</th>\n",
       "      <th>Days_Since_Last_Purchase</th>\n",
       "    </tr>\n",
       "  </thead>\n",
       "  <tbody>\n",
       "    <tr>\n",
       "      <th>count</th>\n",
       "      <td>3047.000000</td>\n",
       "      <td>3047.000000</td>\n",
       "      <td>3047.000000</td>\n",
       "      <td>3047.000000</td>\n",
       "      <td>3047.000000</td>\n",
       "      <td>3047.000000</td>\n",
       "      <td>3047.000000</td>\n",
       "      <td>3047.000000</td>\n",
       "    </tr>\n",
       "    <tr>\n",
       "      <th>mean</th>\n",
       "      <td>29.996390</td>\n",
       "      <td>48.522153</td>\n",
       "      <td>163.469642</td>\n",
       "      <td>33.565146</td>\n",
       "      <td>5.025271</td>\n",
       "      <td>275.553331</td>\n",
       "      <td>56.569413</td>\n",
       "      <td>86.709879</td>\n",
       "    </tr>\n",
       "    <tr>\n",
       "      <th>std</th>\n",
       "      <td>11.378854</td>\n",
       "      <td>16.882626</td>\n",
       "      <td>64.594825</td>\n",
       "      <td>1.580289</td>\n",
       "      <td>1.037234</td>\n",
       "      <td>75.492507</td>\n",
       "      <td>15.763134</td>\n",
       "      <td>14.704571</td>\n",
       "    </tr>\n",
       "    <tr>\n",
       "      <th>min</th>\n",
       "      <td>0.000000</td>\n",
       "      <td>12.000000</td>\n",
       "      <td>0.000000</td>\n",
       "      <td>28.000000</td>\n",
       "      <td>3.000000</td>\n",
       "      <td>66.000000</td>\n",
       "      <td>14.000000</td>\n",
       "      <td>59.000000</td>\n",
       "    </tr>\n",
       "    <tr>\n",
       "      <th>25%</th>\n",
       "      <td>25.000000</td>\n",
       "      <td>36.000000</td>\n",
       "      <td>110.000000</td>\n",
       "      <td>32.000000</td>\n",
       "      <td>4.000000</td>\n",
       "      <td>214.000000</td>\n",
       "      <td>45.000000</td>\n",
       "      <td>75.000000</td>\n",
       "    </tr>\n",
       "    <tr>\n",
       "      <th>50%</th>\n",
       "      <td>30.000000</td>\n",
       "      <td>45.000000</td>\n",
       "      <td>162.000000</td>\n",
       "      <td>33.000000</td>\n",
       "      <td>5.000000</td>\n",
       "      <td>273.000000</td>\n",
       "      <td>56.000000</td>\n",
       "      <td>86.000000</td>\n",
       "    </tr>\n",
       "    <tr>\n",
       "      <th>75%</th>\n",
       "      <td>37.000000</td>\n",
       "      <td>56.000000</td>\n",
       "      <td>215.000000</td>\n",
       "      <td>35.000000</td>\n",
       "      <td>6.000000</td>\n",
       "      <td>335.000000</td>\n",
       "      <td>68.000000</td>\n",
       "      <td>97.000000</td>\n",
       "    </tr>\n",
       "    <tr>\n",
       "      <th>max</th>\n",
       "      <td>54.000000</td>\n",
       "      <td>93.000000</td>\n",
       "      <td>327.000000</td>\n",
       "      <td>37.000000</td>\n",
       "      <td>7.000000</td>\n",
       "      <td>475.000000</td>\n",
       "      <td>94.000000</td>\n",
       "      <td>121.000000</td>\n",
       "    </tr>\n",
       "  </tbody>\n",
       "</table>\n",
       "</div>"
      ],
      "text/plain": [
       "       fitness_gym  hiking_running    teamgames  outdooractivities  \\\n",
       "count  3047.000000     3047.000000  3047.000000        3047.000000   \n",
       "mean     29.996390       48.522153   163.469642          33.565146   \n",
       "std      11.378854       16.882626    64.594825           1.580289   \n",
       "min       0.000000       12.000000     0.000000          28.000000   \n",
       "25%      25.000000       36.000000   110.000000          32.000000   \n",
       "50%      30.000000       45.000000   162.000000          33.000000   \n",
       "75%      37.000000       56.000000   215.000000          35.000000   \n",
       "max      54.000000       93.000000   327.000000          37.000000   \n",
       "\n",
       "       totalproducts  total_spent    Avg_Spent  Days_Since_Last_Purchase  \n",
       "count    3047.000000  3047.000000  3047.000000               3047.000000  \n",
       "mean        5.025271   275.553331    56.569413                 86.709879  \n",
       "std         1.037234    75.492507    15.763134                 14.704571  \n",
       "min         3.000000    66.000000    14.000000                 59.000000  \n",
       "25%         4.000000   214.000000    45.000000                 75.000000  \n",
       "50%         5.000000   273.000000    56.000000                 86.000000  \n",
       "75%         6.000000   335.000000    68.000000                 97.000000  \n",
       "max         7.000000   475.000000    94.000000                121.000000  "
      ]
     },
     "execution_count": 57,
     "metadata": {},
     "output_type": "execute_result"
    }
   ],
   "source": [
    "#filter df according to filters above\n",
    "Products_clean = Products.copy()\n",
    "for feature in statistics_quantiles.columns:\n",
    "    Products_clean = Products_clean[Products_clean[feature] < statistics_quantiles.loc['outlier', feature]]\n",
    "\n",
    "Products_clean.describe()"
   ]
  },
  {
   "cell_type": "markdown",
   "id": "b4deaab9-b73b-4cde-9b64-248d4d3dcb1a",
   "metadata": {},
   "source": [
    "### 3x Z-scores - 190 datapoints eliminated"
   ]
  },
  {
   "cell_type": "code",
   "execution_count": 58,
   "id": "589b0a49-37c3-4bab-a442-521e8b7ac360",
   "metadata": {},
   "outputs": [],
   "source": [
    "Products_cleanzscores = Products.copy()\n",
    "z_scores = np.abs(stats.zscore(Products))"
   ]
  },
  {
   "cell_type": "code",
   "execution_count": 59,
   "id": "0edac883-335b-4059-8bd6-57937743ecaf",
   "metadata": {},
   "outputs": [
    {
     "data": {
      "text/html": [
       "<div>\n",
       "<style scoped>\n",
       "    .dataframe tbody tr th:only-of-type {\n",
       "        vertical-align: middle;\n",
       "    }\n",
       "\n",
       "    .dataframe tbody tr th {\n",
       "        vertical-align: top;\n",
       "    }\n",
       "\n",
       "    .dataframe thead th {\n",
       "        text-align: right;\n",
       "    }\n",
       "</style>\n",
       "<table border=\"1\" class=\"dataframe\">\n",
       "  <thead>\n",
       "    <tr style=\"text-align: right;\">\n",
       "      <th></th>\n",
       "      <th>fitness_gym</th>\n",
       "      <th>hiking_running</th>\n",
       "      <th>teamgames</th>\n",
       "      <th>outdooractivities</th>\n",
       "      <th>totalproducts</th>\n",
       "      <th>total_spent</th>\n",
       "      <th>Avg_Spent</th>\n",
       "      <th>Days_Since_Last_Purchase</th>\n",
       "    </tr>\n",
       "  </thead>\n",
       "  <tbody>\n",
       "    <tr>\n",
       "      <th>count</th>\n",
       "      <td>3810.000000</td>\n",
       "      <td>3810.000000</td>\n",
       "      <td>3810.000000</td>\n",
       "      <td>3810.000000</td>\n",
       "      <td>3810.000000</td>\n",
       "      <td>3810.000000</td>\n",
       "      <td>3810.000000</td>\n",
       "      <td>3810.000000</td>\n",
       "    </tr>\n",
       "    <tr>\n",
       "      <th>mean</th>\n",
       "      <td>31.675591</td>\n",
       "      <td>52.458530</td>\n",
       "      <td>174.239108</td>\n",
       "      <td>33.596325</td>\n",
       "      <td>5.234908</td>\n",
       "      <td>291.969554</td>\n",
       "      <td>58.218898</td>\n",
       "      <td>86.995276</td>\n",
       "    </tr>\n",
       "    <tr>\n",
       "      <th>std</th>\n",
       "      <td>13.826220</td>\n",
       "      <td>21.255277</td>\n",
       "      <td>67.867288</td>\n",
       "      <td>1.644992</td>\n",
       "      <td>1.288595</td>\n",
       "      <td>82.799299</td>\n",
       "      <td>17.785037</td>\n",
       "      <td>16.181774</td>\n",
       "    </tr>\n",
       "    <tr>\n",
       "      <th>min</th>\n",
       "      <td>0.000000</td>\n",
       "      <td>9.000000</td>\n",
       "      <td>0.000000</td>\n",
       "      <td>29.000000</td>\n",
       "      <td>2.000000</td>\n",
       "      <td>62.000000</td>\n",
       "      <td>12.000000</td>\n",
       "      <td>58.000000</td>\n",
       "    </tr>\n",
       "    <tr>\n",
       "      <th>25%</th>\n",
       "      <td>25.000000</td>\n",
       "      <td>38.000000</td>\n",
       "      <td>119.000000</td>\n",
       "      <td>32.000000</td>\n",
       "      <td>4.000000</td>\n",
       "      <td>225.000000</td>\n",
       "      <td>45.000000</td>\n",
       "      <td>74.000000</td>\n",
       "    </tr>\n",
       "    <tr>\n",
       "      <th>50%</th>\n",
       "      <td>31.000000</td>\n",
       "      <td>47.000000</td>\n",
       "      <td>178.000000</td>\n",
       "      <td>34.000000</td>\n",
       "      <td>5.000000</td>\n",
       "      <td>294.000000</td>\n",
       "      <td>57.000000</td>\n",
       "      <td>86.000000</td>\n",
       "    </tr>\n",
       "    <tr>\n",
       "      <th>75%</th>\n",
       "      <td>39.000000</td>\n",
       "      <td>62.000000</td>\n",
       "      <td>228.000000</td>\n",
       "      <td>35.000000</td>\n",
       "      <td>6.000000</td>\n",
       "      <td>358.000000</td>\n",
       "      <td>70.000000</td>\n",
       "      <td>98.000000</td>\n",
       "    </tr>\n",
       "    <tr>\n",
       "      <th>max</th>\n",
       "      <td>75.000000</td>\n",
       "      <td>152.000000</td>\n",
       "      <td>372.000000</td>\n",
       "      <td>38.000000</td>\n",
       "      <td>9.000000</td>\n",
       "      <td>547.000000</td>\n",
       "      <td>115.000000</td>\n",
       "      <td>138.000000</td>\n",
       "    </tr>\n",
       "  </tbody>\n",
       "</table>\n",
       "</div>"
      ],
      "text/plain": [
       "       fitness_gym  hiking_running    teamgames  outdooractivities  \\\n",
       "count  3810.000000     3810.000000  3810.000000        3810.000000   \n",
       "mean     31.675591       52.458530   174.239108          33.596325   \n",
       "std      13.826220       21.255277    67.867288           1.644992   \n",
       "min       0.000000        9.000000     0.000000          29.000000   \n",
       "25%      25.000000       38.000000   119.000000          32.000000   \n",
       "50%      31.000000       47.000000   178.000000          34.000000   \n",
       "75%      39.000000       62.000000   228.000000          35.000000   \n",
       "max      75.000000      152.000000   372.000000          38.000000   \n",
       "\n",
       "       totalproducts  total_spent    Avg_Spent  Days_Since_Last_Purchase  \n",
       "count    3810.000000  3810.000000  3810.000000               3810.000000  \n",
       "mean        5.234908   291.969554    58.218898                 86.995276  \n",
       "std         1.288595    82.799299    17.785037                 16.181774  \n",
       "min         2.000000    62.000000    12.000000                 58.000000  \n",
       "25%         4.000000   225.000000    45.000000                 74.000000  \n",
       "50%         5.000000   294.000000    57.000000                 86.000000  \n",
       "75%         6.000000   358.000000    70.000000                 98.000000  \n",
       "max         9.000000   547.000000   115.000000                138.000000  "
      ]
     },
     "execution_count": 59,
     "metadata": {},
     "output_type": "execute_result"
    }
   ],
   "source": [
    "Products_cleanzscores = Products_cleanzscores[(z_scores < 3).all(axis=1)]\n",
    "Products_cleanzscores.describe()"
   ]
  },
  {
   "cell_type": "code",
   "execution_count": 60,
   "id": "b550c32b-51b4-4723-9da1-d7b10df3de33",
   "metadata": {},
   "outputs": [
    {
     "name": "stdout",
     "output_type": "stream",
     "text": [
      "ekiminated entries: 190\n"
     ]
    }
   ],
   "source": [
    "Products_cleanzscores = Products_cleanzscores.dropna()\n",
    "print(f'ekiminated entries: {4000-len(Products_cleanzscores)}')"
   ]
  },
  {
   "cell_type": "markdown",
   "id": "b85eb404-e23c-4014-9889-1492a8d74502",
   "metadata": {},
   "source": [
    "### 99 percentile technique - 299 entries eliminated"
   ]
  },
  {
   "cell_type": "code",
   "execution_count": 21,
   "id": "13a0250c-78ec-4b25-9ad1-98219b310b02",
   "metadata": {},
   "outputs": [
    {
     "data": {
      "text/plain": [
       "fitness_gym                  74.00\n",
       "hiking_running              179.05\n",
       "teamgames                   309.01\n",
       "outdooractivities            38.00\n",
       "totalproducts                10.00\n",
       "total_spent                 510.03\n",
       "Avg_Spent                   107.00\n",
       "Days_Since_Last_Purchase    131.01\n",
       "Name: 0.99, dtype: float64"
      ]
     },
     "execution_count": 21,
     "metadata": {},
     "output_type": "execute_result"
    }
   ],
   "source": [
    "#make copy\n",
    "Products_clean99quantile = Products.copy()\n",
    "upper_limit = Products_clean99quantile.quantile(0.99)\n",
    "upper_limit"
   ]
  },
  {
   "cell_type": "code",
   "execution_count": 22,
   "id": "c928e8df-c51a-4ec2-be4c-506a45b614be",
   "metadata": {},
   "outputs": [
    {
     "data": {
      "text/html": [
       "<div>\n",
       "<style scoped>\n",
       "    .dataframe tbody tr th:only-of-type {\n",
       "        vertical-align: middle;\n",
       "    }\n",
       "\n",
       "    .dataframe tbody tr th {\n",
       "        vertical-align: top;\n",
       "    }\n",
       "\n",
       "    .dataframe thead th {\n",
       "        text-align: right;\n",
       "    }\n",
       "</style>\n",
       "<table border=\"1\" class=\"dataframe\">\n",
       "  <thead>\n",
       "    <tr style=\"text-align: right;\">\n",
       "      <th></th>\n",
       "      <th>fitness_gym</th>\n",
       "      <th>hiking_running</th>\n",
       "      <th>teamgames</th>\n",
       "      <th>outdooractivities</th>\n",
       "      <th>totalproducts</th>\n",
       "      <th>total_spent</th>\n",
       "      <th>Avg_Spent</th>\n",
       "      <th>Days_Since_Last_Purchase</th>\n",
       "    </tr>\n",
       "  </thead>\n",
       "  <tbody>\n",
       "    <tr>\n",
       "      <th>count</th>\n",
       "      <td>3955.000000</td>\n",
       "      <td>3960.000000</td>\n",
       "      <td>3960.000000</td>\n",
       "      <td>3929.000000</td>\n",
       "      <td>3944.000000</td>\n",
       "      <td>3960.000000</td>\n",
       "      <td>3957.000000</td>\n",
       "      <td>3960.000000</td>\n",
       "    </tr>\n",
       "    <tr>\n",
       "      <th>mean</th>\n",
       "      <td>31.483944</td>\n",
       "      <td>53.675253</td>\n",
       "      <td>174.276768</td>\n",
       "      <td>33.514126</td>\n",
       "      <td>5.242394</td>\n",
       "      <td>294.231566</td>\n",
       "      <td>58.036644</td>\n",
       "      <td>86.625758</td>\n",
       "    </tr>\n",
       "    <tr>\n",
       "      <th>std</th>\n",
       "      <td>13.601356</td>\n",
       "      <td>23.747463</td>\n",
       "      <td>66.534296</td>\n",
       "      <td>1.589126</td>\n",
       "      <td>1.303176</td>\n",
       "      <td>83.452895</td>\n",
       "      <td>17.893911</td>\n",
       "      <td>16.050213</td>\n",
       "    </tr>\n",
       "    <tr>\n",
       "      <th>min</th>\n",
       "      <td>0.000000</td>\n",
       "      <td>9.000000</td>\n",
       "      <td>0.000000</td>\n",
       "      <td>28.000000</td>\n",
       "      <td>2.000000</td>\n",
       "      <td>62.000000</td>\n",
       "      <td>12.000000</td>\n",
       "      <td>58.000000</td>\n",
       "    </tr>\n",
       "    <tr>\n",
       "      <th>25%</th>\n",
       "      <td>25.000000</td>\n",
       "      <td>38.000000</td>\n",
       "      <td>120.000000</td>\n",
       "      <td>32.000000</td>\n",
       "      <td>4.000000</td>\n",
       "      <td>227.000000</td>\n",
       "      <td>45.000000</td>\n",
       "      <td>74.000000</td>\n",
       "    </tr>\n",
       "    <tr>\n",
       "      <th>50%</th>\n",
       "      <td>31.000000</td>\n",
       "      <td>47.000000</td>\n",
       "      <td>178.000000</td>\n",
       "      <td>33.000000</td>\n",
       "      <td>5.000000</td>\n",
       "      <td>296.500000</td>\n",
       "      <td>57.000000</td>\n",
       "      <td>85.000000</td>\n",
       "    </tr>\n",
       "    <tr>\n",
       "      <th>75%</th>\n",
       "      <td>39.000000</td>\n",
       "      <td>64.000000</td>\n",
       "      <td>229.000000</td>\n",
       "      <td>35.000000</td>\n",
       "      <td>6.000000</td>\n",
       "      <td>361.000000</td>\n",
       "      <td>70.000000</td>\n",
       "      <td>98.000000</td>\n",
       "    </tr>\n",
       "    <tr>\n",
       "      <th>max</th>\n",
       "      <td>73.000000</td>\n",
       "      <td>179.000000</td>\n",
       "      <td>309.000000</td>\n",
       "      <td>37.000000</td>\n",
       "      <td>9.000000</td>\n",
       "      <td>510.000000</td>\n",
       "      <td>106.000000</td>\n",
       "      <td>131.000000</td>\n",
       "    </tr>\n",
       "  </tbody>\n",
       "</table>\n",
       "</div>"
      ],
      "text/plain": [
       "       fitness_gym  hiking_running    teamgames  outdooractivities  \\\n",
       "count  3955.000000     3960.000000  3960.000000        3929.000000   \n",
       "mean     31.483944       53.675253   174.276768          33.514126   \n",
       "std      13.601356       23.747463    66.534296           1.589126   \n",
       "min       0.000000        9.000000     0.000000          28.000000   \n",
       "25%      25.000000       38.000000   120.000000          32.000000   \n",
       "50%      31.000000       47.000000   178.000000          33.000000   \n",
       "75%      39.000000       64.000000   229.000000          35.000000   \n",
       "max      73.000000      179.000000   309.000000          37.000000   \n",
       "\n",
       "       totalproducts  total_spent    Avg_Spent  Days_Since_Last_Purchase  \n",
       "count    3944.000000  3960.000000  3957.000000               3960.000000  \n",
       "mean        5.242394   294.231566    58.036644                 86.625758  \n",
       "std         1.303176    83.452895    17.893911                 16.050213  \n",
       "min         2.000000    62.000000    12.000000                 58.000000  \n",
       "25%         4.000000   227.000000    45.000000                 74.000000  \n",
       "50%         5.000000   296.500000    57.000000                 85.000000  \n",
       "75%         6.000000   361.000000    70.000000                 98.000000  \n",
       "max         9.000000   510.000000   106.000000                131.000000  "
      ]
     },
     "execution_count": 22,
     "metadata": {},
     "output_type": "execute_result"
    }
   ],
   "source": [
    "#get clean df\n",
    "Products_clean99quantile = Products_clean99quantile[Products_clean99quantile < upper_limit]\n",
    "Products_clean99quantile.describe()"
   ]
  },
  {
   "cell_type": "markdown",
   "id": "bdc8aa90-9b1e-4f52-a53a-fa2eaca7ef20",
   "metadata": {},
   "source": [
    "Different number of entries are eliminated."
   ]
  },
  {
   "cell_type": "code",
   "execution_count": 23,
   "id": "26a5a3c5-9a7b-4676-8e62-f7310ac1a235",
   "metadata": {},
   "outputs": [
    {
     "data": {
      "text/plain": [
       "array([[<Axes: title={'center': 'fitness_gym'}>,\n",
       "        <Axes: title={'center': 'hiking_running'}>,\n",
       "        <Axes: title={'center': 'teamgames'}>],\n",
       "       [<Axes: title={'center': 'outdooractivities'}>,\n",
       "        <Axes: title={'center': 'totalproducts'}>,\n",
       "        <Axes: title={'center': 'total_spent'}>],\n",
       "       [<Axes: title={'center': 'Avg_Spent'}>,\n",
       "        <Axes: title={'center': 'Days_Since_Last_Purchase'}>, <Axes: >]],\n",
       "      dtype=object)"
      ]
     },
     "execution_count": 23,
     "metadata": {},
     "output_type": "execute_result"
    },
    {
     "data": {
      "image/png": "[encoded data removed]",
      "text/plain": [
       "<Figure size 640x480 with 9 Axes>"
      ]
     },
     "metadata": {},
     "output_type": "display_data"
    }
   ],
   "source": [
    "Products_clean99quantile.hist()"
   ]
  },
  {
   "cell_type": "markdown",
   "id": "92862dbc-a7aa-4c22-ac5f-5b6afd289585",
   "metadata": {},
   "source": [
    "- Better distributions \n",
    "- but eliminated values even if they were not far away\n",
    "- created some null values"
   ]
  },
  {
   "cell_type": "code",
   "execution_count": 24,
   "id": "30474242-47cd-4816-978d-a977513164b6",
   "metadata": {},
   "outputs": [
    {
     "name": "stdout",
     "output_type": "stream",
     "text": [
      "length of df:  4000\n",
      "remanining null values:\n"
     ]
    },
    {
     "data": {
      "text/plain": [
       "fitness_gym                 45\n",
       "hiking_running              40\n",
       "teamgames                   40\n",
       "outdooractivities           71\n",
       "totalproducts               56\n",
       "total_spent                 40\n",
       "Avg_Spent                   43\n",
       "Days_Since_Last_Purchase    40\n",
       "dtype: int64"
      ]
     },
     "execution_count": 24,
     "metadata": {},
     "output_type": "execute_result"
    }
   ],
   "source": [
    "print('length of df: ', len(Products_clean99quantile))\n",
    "print('remanining null values:')\n",
    "Products_clean99quantile.isna().sum()"
   ]
  },
  {
   "cell_type": "markdown",
   "id": "279175ef-9185-45fa-a72e-87812a2a37ec",
   "metadata": {},
   "source": [
    "Maximum of eliminated entries would be 71."
   ]
  },
  {
   "cell_type": "code",
   "execution_count": 39,
   "id": "7747aa4d-745d-4c84-8259-86102ab5d844",
   "metadata": {},
   "outputs": [
    {
     "name": "stdout",
     "output_type": "stream",
     "text": [
      "ekiminated entries: 299\n"
     ]
    }
   ],
   "source": [
    "Products_clean99quantile = Products_clean99quantile.dropna()\n",
    "print(f'ekiminated entries: {4000-len(Products_clean99quantile)}')"
   ]
  },
  {
   "cell_type": "markdown",
   "id": "ef7f10fa-c2eb-4dc8-b172-d5491e1b373a",
   "metadata": {},
   "source": [
    "### 99percentile and zscore rule - 132 entries deleted (99percentile & 4xzscore - 64 entries eliminated)"
   ]
  },
  {
   "cell_type": "code",
   "execution_count": 72,
   "id": "f4a9f062-bae2-431a-a874-c40981935b1f",
   "metadata": {},
   "outputs": [
    {
     "data": {
      "text/html": [
       "<div>\n",
       "<style scoped>\n",
       "    .dataframe tbody tr th:only-of-type {\n",
       "        vertical-align: middle;\n",
       "    }\n",
       "\n",
       "    .dataframe tbody tr th {\n",
       "        vertical-align: top;\n",
       "    }\n",
       "\n",
       "    .dataframe thead th {\n",
       "        text-align: right;\n",
       "    }\n",
       "</style>\n",
       "<table border=\"1\" class=\"dataframe\">\n",
       "  <thead>\n",
       "    <tr style=\"text-align: right;\">\n",
       "      <th></th>\n",
       "      <th>fitness_gym</th>\n",
       "      <th>hiking_running</th>\n",
       "      <th>teamgames</th>\n",
       "      <th>outdooractivities</th>\n",
       "      <th>totalproducts</th>\n",
       "      <th>total_spent</th>\n",
       "      <th>Avg_Spent</th>\n",
       "      <th>Days_Since_Last_Purchase</th>\n",
       "    </tr>\n",
       "  </thead>\n",
       "  <tbody>\n",
       "    <tr>\n",
       "      <th>count</th>\n",
       "      <td>3984.000000</td>\n",
       "      <td>3960.000000</td>\n",
       "      <td>3999.000000</td>\n",
       "      <td>3976.000000</td>\n",
       "      <td>3974.000000</td>\n",
       "      <td>3976.000000</td>\n",
       "      <td>3980.000000</td>\n",
       "      <td>3981.000000</td>\n",
       "    </tr>\n",
       "    <tr>\n",
       "      <th>mean</th>\n",
       "      <td>31.793675</td>\n",
       "      <td>53.675253</td>\n",
       "      <td>175.828207</td>\n",
       "      <td>33.567153</td>\n",
       "      <td>5.278309</td>\n",
       "      <td>295.184105</td>\n",
       "      <td>58.338442</td>\n",
       "      <td>86.879176</td>\n",
       "    </tr>\n",
       "    <tr>\n",
       "      <th>std</th>\n",
       "      <td>14.026287</td>\n",
       "      <td>23.747463</td>\n",
       "      <td>68.062122</td>\n",
       "      <td>1.652448</td>\n",
       "      <td>1.362009</td>\n",
       "      <td>84.629515</td>\n",
       "      <td>18.277022</td>\n",
       "      <td>16.382357</td>\n",
       "    </tr>\n",
       "    <tr>\n",
       "      <th>min</th>\n",
       "      <td>0.000000</td>\n",
       "      <td>9.000000</td>\n",
       "      <td>0.000000</td>\n",
       "      <td>28.000000</td>\n",
       "      <td>2.000000</td>\n",
       "      <td>62.000000</td>\n",
       "      <td>12.000000</td>\n",
       "      <td>58.000000</td>\n",
       "    </tr>\n",
       "    <tr>\n",
       "      <th>25%</th>\n",
       "      <td>25.000000</td>\n",
       "      <td>38.000000</td>\n",
       "      <td>121.000000</td>\n",
       "      <td>32.000000</td>\n",
       "      <td>4.000000</td>\n",
       "      <td>227.000000</td>\n",
       "      <td>45.000000</td>\n",
       "      <td>74.000000</td>\n",
       "    </tr>\n",
       "    <tr>\n",
       "      <th>50%</th>\n",
       "      <td>31.000000</td>\n",
       "      <td>47.000000</td>\n",
       "      <td>180.000000</td>\n",
       "      <td>33.000000</td>\n",
       "      <td>5.000000</td>\n",
       "      <td>297.000000</td>\n",
       "      <td>57.000000</td>\n",
       "      <td>85.000000</td>\n",
       "    </tr>\n",
       "    <tr>\n",
       "      <th>75%</th>\n",
       "      <td>39.000000</td>\n",
       "      <td>64.000000</td>\n",
       "      <td>229.500000</td>\n",
       "      <td>35.000000</td>\n",
       "      <td>6.000000</td>\n",
       "      <td>362.000000</td>\n",
       "      <td>70.000000</td>\n",
       "      <td>98.000000</td>\n",
       "    </tr>\n",
       "    <tr>\n",
       "      <th>max</th>\n",
       "      <td>75.000000</td>\n",
       "      <td>179.000000</td>\n",
       "      <td>384.000000</td>\n",
       "      <td>38.000000</td>\n",
       "      <td>10.000000</td>\n",
       "      <td>567.000000</td>\n",
       "      <td>115.000000</td>\n",
       "      <td>138.000000</td>\n",
       "    </tr>\n",
       "  </tbody>\n",
       "</table>\n",
       "</div>"
      ],
      "text/plain": [
       "       fitness_gym  hiking_running    teamgames  outdooractivities  \\\n",
       "count  3984.000000     3960.000000  3999.000000        3976.000000   \n",
       "mean     31.793675       53.675253   175.828207          33.567153   \n",
       "std      14.026287       23.747463    68.062122           1.652448   \n",
       "min       0.000000        9.000000     0.000000          28.000000   \n",
       "25%      25.000000       38.000000   121.000000          32.000000   \n",
       "50%      31.000000       47.000000   180.000000          33.000000   \n",
       "75%      39.000000       64.000000   229.500000          35.000000   \n",
       "max      75.000000      179.000000   384.000000          38.000000   \n",
       "\n",
       "       totalproducts  total_spent    Avg_Spent  Days_Since_Last_Purchase  \n",
       "count    3974.000000  3976.000000  3980.000000               3981.000000  \n",
       "mean        5.278309   295.184105    58.338442                 86.879176  \n",
       "std         1.362009    84.629515    18.277022                 16.382357  \n",
       "min         2.000000    62.000000    12.000000                 58.000000  \n",
       "25%         4.000000   227.000000    45.000000                 74.000000  \n",
       "50%         5.000000   297.000000    57.000000                 85.000000  \n",
       "75%         6.000000   362.000000    70.000000                 98.000000  \n",
       "max        10.000000   567.000000   115.000000                138.000000  "
      ]
     },
     "execution_count": 72,
     "metadata": {},
     "output_type": "execute_result"
    }
   ],
   "source": [
    "Products_clean99andZscore = Products.copy()\n",
    "\n",
    "#Calculate Z-scores for each feature\n",
    "z_scores = np.abs(stats.zscore(Products_clean99andZscore))\n",
    "\n",
    "# Convert Z-scores into a DataFrame for easier handling\n",
    "z_scores_df = pd.DataFrame(z_scores, columns=Products_clean99andZscore.columns, index=Products_clean99andZscore.index)\n",
    "\n",
    "# Create a mask for Z-scores greater than 3\n",
    "zscore_mask = z_scores_df > 3\n",
    "\n",
    "# Step 3: Apply both filters\n",
    "# Create a mask for values above the 99th percentile\n",
    "upper_limit = Products.quantile(0.99)\n",
    "quantile_mask = Products > upper_limit\n",
    "\n",
    "#combined mask\n",
    "combined_mask = zscore_mask & quantile_mask \n",
    "\n",
    "\n",
    "#filter\n",
    "Products_clean99andZscore = Products[~combined_mask]\n",
    "\n",
    "Products_clean99andZscore.describe()\n"
   ]
  },
  {
   "cell_type": "code",
   "execution_count": 73,
   "id": "a93649af-6ac9-4c7d-b5e3-2caa7f7ed795",
   "metadata": {},
   "outputs": [
    {
     "name": "stdout",
     "output_type": "stream",
     "text": [
      "<class 'pandas.core.frame.DataFrame'>\n",
      "Index: 4000 entries, 4 to 6496\n",
      "Data columns (total 8 columns):\n",
      " #   Column                    Non-Null Count  Dtype  \n",
      "---  ------                    --------------  -----  \n",
      " 0   fitness_gym               3984 non-null   float64\n",
      " 1   hiking_running            3960 non-null   float64\n",
      " 2   teamgames                 3999 non-null   float64\n",
      " 3   outdooractivities         3976 non-null   float64\n",
      " 4   totalproducts             3974 non-null   float64\n",
      " 5   total_spent               3976 non-null   float64\n",
      " 6   Avg_Spent                 3980 non-null   float64\n",
      " 7   Days_Since_Last_Purchase  3981 non-null   float64\n",
      "dtypes: float64(8)\n",
      "memory usage: 410.3 KB\n"
     ]
    }
   ],
   "source": [
    "Products_clean99andZscore.info()"
   ]
  },
  {
   "cell_type": "code",
   "execution_count": 74,
   "id": "2a6cb920-0a2f-4d1a-8189-d4c42c8d9e11",
   "metadata": {},
   "outputs": [
    {
     "data": {
      "text/plain": [
       "fitness_gym                 16\n",
       "hiking_running              40\n",
       "teamgames                    1\n",
       "outdooractivities           24\n",
       "totalproducts               26\n",
       "total_spent                 24\n",
       "Avg_Spent                   20\n",
       "Days_Since_Last_Purchase    19\n",
       "dtype: int64"
      ]
     },
     "execution_count": 74,
     "metadata": {},
     "output_type": "execute_result"
    }
   ],
   "source": [
    "Products_clean99andZscore.isna().sum()"
   ]
  },
  {
   "cell_type": "markdown",
   "id": "c0b99347-1b48-43a0-9042-1d98b984cc60",
   "metadata": {},
   "source": [
    "Deletes between 1 and 40 entries which is an aceptable number (may be more when combined)"
   ]
  },
  {
   "cell_type": "code",
   "execution_count": 75,
   "id": "88f3817f-b710-4521-859d-3a9ed562a1ee",
   "metadata": {},
   "outputs": [
    {
     "name": "stdout",
     "output_type": "stream",
     "text": [
      "<class 'pandas.core.frame.DataFrame'>\n",
      "Index: 3868 entries, 4 to 6496\n",
      "Data columns (total 8 columns):\n",
      " #   Column                    Non-Null Count  Dtype  \n",
      "---  ------                    --------------  -----  \n",
      " 0   fitness_gym               3868 non-null   float64\n",
      " 1   hiking_running            3868 non-null   float64\n",
      " 2   teamgames                 3868 non-null   float64\n",
      " 3   outdooractivities         3868 non-null   float64\n",
      " 4   totalproducts             3868 non-null   float64\n",
      " 5   total_spent               3868 non-null   float64\n",
      " 6   Avg_Spent                 3868 non-null   float64\n",
      " 7   Days_Since_Last_Purchase  3868 non-null   float64\n",
      "dtypes: float64(8)\n",
      "memory usage: 272.0 KB\n"
     ]
    }
   ],
   "source": [
    "Products_clean99andZscore = Products_clean99andZscore.dropna()\n",
    "Products_clean99andZscore.info()"
   ]
  },
  {
   "cell_type": "code",
   "execution_count": 76,
   "id": "aa738309-766b-437b-b3d8-8cfaa17b3b9d",
   "metadata": {},
   "outputs": [
    {
     "name": "stdout",
     "output_type": "stream",
     "text": [
      "% of deleted entries: 3.3\n",
      "deleted entries: 132\n"
     ]
    }
   ],
   "source": [
    "print(f'% of deleted entries: {(4000-len(Products_clean99andZscore))/4000*100:.1f}')\n",
    "print(f'deleted entries: {4000-len(Products_clean99andZscore)}')"
   ]
  },
  {
   "cell_type": "markdown",
   "id": "7639fcc8-7f91-4bdb-8092-7e35b0b6d9d5",
   "metadata": {},
   "source": [
    "### 4x ZScores - eliminated 64 entries"
   ]
  },
  {
   "cell_type": "code",
   "execution_count": 64,
   "id": "7f9b7a87-392b-42a9-801e-650ad078b969",
   "metadata": {},
   "outputs": [],
   "source": [
    "Products_cleanzscoresextra = Products.copy()\n",
    "z_scores = np.abs(stats.zscore(Products_cleanzscoresextra))"
   ]
  },
  {
   "cell_type": "code",
   "execution_count": 65,
   "id": "adaea031-fa4e-414d-8c64-ae89727b38ff",
   "metadata": {},
   "outputs": [
    {
     "data": {
      "text/html": [
       "<div>\n",
       "<style scoped>\n",
       "    .dataframe tbody tr th:only-of-type {\n",
       "        vertical-align: middle;\n",
       "    }\n",
       "\n",
       "    .dataframe tbody tr th {\n",
       "        vertical-align: top;\n",
       "    }\n",
       "\n",
       "    .dataframe thead th {\n",
       "        text-align: right;\n",
       "    }\n",
       "</style>\n",
       "<table border=\"1\" class=\"dataframe\">\n",
       "  <thead>\n",
       "    <tr style=\"text-align: right;\">\n",
       "      <th></th>\n",
       "      <th>fitness_gym</th>\n",
       "      <th>hiking_running</th>\n",
       "      <th>teamgames</th>\n",
       "      <th>outdooractivities</th>\n",
       "      <th>totalproducts</th>\n",
       "      <th>total_spent</th>\n",
       "      <th>Avg_Spent</th>\n",
       "      <th>Days_Since_Last_Purchase</th>\n",
       "    </tr>\n",
       "  </thead>\n",
       "  <tbody>\n",
       "    <tr>\n",
       "      <th>count</th>\n",
       "      <td>3936.000000</td>\n",
       "      <td>3936.000000</td>\n",
       "      <td>3936.000000</td>\n",
       "      <td>3936.000000</td>\n",
       "      <td>3936.000000</td>\n",
       "      <td>3936.000000</td>\n",
       "      <td>3936.000000</td>\n",
       "      <td>3936.000000</td>\n",
       "    </tr>\n",
       "    <tr>\n",
       "      <th>mean</th>\n",
       "      <td>31.845528</td>\n",
       "      <td>53.717988</td>\n",
       "      <td>175.089431</td>\n",
       "      <td>33.611280</td>\n",
       "      <td>5.283537</td>\n",
       "      <td>294.264228</td>\n",
       "      <td>58.451220</td>\n",
       "      <td>87.104675</td>\n",
       "    </tr>\n",
       "    <tr>\n",
       "      <th>std</th>\n",
       "      <td>14.148586</td>\n",
       "      <td>23.977642</td>\n",
       "      <td>67.906548</td>\n",
       "      <td>1.695593</td>\n",
       "      <td>1.380530</td>\n",
       "      <td>84.023496</td>\n",
       "      <td>18.489453</td>\n",
       "      <td>16.587643</td>\n",
       "    </tr>\n",
       "    <tr>\n",
       "      <th>min</th>\n",
       "      <td>0.000000</td>\n",
       "      <td>9.000000</td>\n",
       "      <td>0.000000</td>\n",
       "      <td>28.000000</td>\n",
       "      <td>2.000000</td>\n",
       "      <td>62.000000</td>\n",
       "      <td>12.000000</td>\n",
       "      <td>58.000000</td>\n",
       "    </tr>\n",
       "    <tr>\n",
       "      <th>25%</th>\n",
       "      <td>25.000000</td>\n",
       "      <td>38.000000</td>\n",
       "      <td>120.000000</td>\n",
       "      <td>32.000000</td>\n",
       "      <td>4.000000</td>\n",
       "      <td>226.000000</td>\n",
       "      <td>45.000000</td>\n",
       "      <td>74.000000</td>\n",
       "    </tr>\n",
       "    <tr>\n",
       "      <th>50%</th>\n",
       "      <td>31.000000</td>\n",
       "      <td>47.000000</td>\n",
       "      <td>178.000000</td>\n",
       "      <td>33.500000</td>\n",
       "      <td>5.000000</td>\n",
       "      <td>296.000000</td>\n",
       "      <td>57.000000</td>\n",
       "      <td>86.000000</td>\n",
       "    </tr>\n",
       "    <tr>\n",
       "      <th>75%</th>\n",
       "      <td>39.000000</td>\n",
       "      <td>64.000000</td>\n",
       "      <td>229.000000</td>\n",
       "      <td>35.000000</td>\n",
       "      <td>6.000000</td>\n",
       "      <td>361.000000</td>\n",
       "      <td>70.000000</td>\n",
       "      <td>98.000000</td>\n",
       "    </tr>\n",
       "    <tr>\n",
       "      <th>max</th>\n",
       "      <td>86.000000</td>\n",
       "      <td>186.000000</td>\n",
       "      <td>372.000000</td>\n",
       "      <td>40.000000</td>\n",
       "      <td>11.000000</td>\n",
       "      <td>573.000000</td>\n",
       "      <td>133.000000</td>\n",
       "      <td>155.000000</td>\n",
       "    </tr>\n",
       "  </tbody>\n",
       "</table>\n",
       "</div>"
      ],
      "text/plain": [
       "       fitness_gym  hiking_running    teamgames  outdooractivities  \\\n",
       "count  3936.000000     3936.000000  3936.000000        3936.000000   \n",
       "mean     31.845528       53.717988   175.089431          33.611280   \n",
       "std      14.148586       23.977642    67.906548           1.695593   \n",
       "min       0.000000        9.000000     0.000000          28.000000   \n",
       "25%      25.000000       38.000000   120.000000          32.000000   \n",
       "50%      31.000000       47.000000   178.000000          33.500000   \n",
       "75%      39.000000       64.000000   229.000000          35.000000   \n",
       "max      86.000000      186.000000   372.000000          40.000000   \n",
       "\n",
       "       totalproducts  total_spent    Avg_Spent  Days_Since_Last_Purchase  \n",
       "count    3936.000000  3936.000000  3936.000000               3936.000000  \n",
       "mean        5.283537   294.264228    58.451220                 87.104675  \n",
       "std         1.380530    84.023496    18.489453                 16.587643  \n",
       "min         2.000000    62.000000    12.000000                 58.000000  \n",
       "25%         4.000000   226.000000    45.000000                 74.000000  \n",
       "50%         5.000000   296.000000    57.000000                 86.000000  \n",
       "75%         6.000000   361.000000    70.000000                 98.000000  \n",
       "max        11.000000   573.000000   133.000000                155.000000  "
      ]
     },
     "execution_count": 65,
     "metadata": {},
     "output_type": "execute_result"
    }
   ],
   "source": [
    "Products_cleanzscoresextra = Products_cleanzscoresextra[(z_scores < 4).all(axis=1)]\n",
    "Products_cleanzscoresextra.describe()"
   ]
  },
  {
   "cell_type": "code",
   "execution_count": 159,
   "id": "46cf7541-fdb7-4ce2-9b54-d8582b7ee86f",
   "metadata": {},
   "outputs": [
    {
     "name": "stdout",
     "output_type": "stream",
     "text": [
      "eliminated entries: 64\n"
     ]
    }
   ],
   "source": [
    "Products_cleanzscoresextra = Products_cleanzscoresextra.dropna()\n",
    "print(f'eliminated entries: {4000-len(Products_cleanzscoresextra)}')"
   ]
  },
  {
   "cell_type": "markdown",
   "id": "1150d5f9-90e0-4e0e-ac0f-798eb6e67d88",
   "metadata": {},
   "source": [
    "### clean df"
   ]
  },
  {
   "cell_type": "code",
   "execution_count": 82,
   "id": "ccdf24e9-2ebc-4048-bbab-e85246fae249",
   "metadata": {},
   "outputs": [
    {
     "data": {
      "text/html": [
       "<div>\n",
       "<style scoped>\n",
       "    .dataframe tbody tr th:only-of-type {\n",
       "        vertical-align: middle;\n",
       "    }\n",
       "\n",
       "    .dataframe tbody tr th {\n",
       "        vertical-align: top;\n",
       "    }\n",
       "\n",
       "    .dataframe thead th {\n",
       "        text-align: right;\n",
       "    }\n",
       "</style>\n",
       "<table border=\"1\" class=\"dataframe\">\n",
       "  <thead>\n",
       "    <tr style=\"text-align: right;\">\n",
       "      <th></th>\n",
       "      <th>fitness_gym</th>\n",
       "      <th>hiking_running</th>\n",
       "      <th>teamgames</th>\n",
       "      <th>outdooractivities</th>\n",
       "      <th>totalproducts</th>\n",
       "      <th>total_spent</th>\n",
       "      <th>Avg_Spent</th>\n",
       "      <th>Days_Since_Last_Purchase</th>\n",
       "    </tr>\n",
       "    <tr>\n",
       "      <th>Cust_ID</th>\n",
       "      <th></th>\n",
       "      <th></th>\n",
       "      <th></th>\n",
       "      <th></th>\n",
       "      <th></th>\n",
       "      <th></th>\n",
       "      <th></th>\n",
       "      <th></th>\n",
       "    </tr>\n",
       "  </thead>\n",
       "  <tbody>\n",
       "    <tr>\n",
       "      <th>4</th>\n",
       "      <td>0</td>\n",
       "      <td>76</td>\n",
       "      <td>248</td>\n",
       "      <td>37</td>\n",
       "      <td>6</td>\n",
       "      <td>361</td>\n",
       "      <td>61</td>\n",
       "      <td>68</td>\n",
       "    </tr>\n",
       "    <tr>\n",
       "      <th>5</th>\n",
       "      <td>0</td>\n",
       "      <td>75</td>\n",
       "      <td>248</td>\n",
       "      <td>37</td>\n",
       "      <td>6</td>\n",
       "      <td>360</td>\n",
       "      <td>60</td>\n",
       "      <td>70</td>\n",
       "    </tr>\n",
       "    <tr>\n",
       "      <th>6</th>\n",
       "      <td>6</td>\n",
       "      <td>69</td>\n",
       "      <td>215</td>\n",
       "      <td>34</td>\n",
       "      <td>5</td>\n",
       "      <td>324</td>\n",
       "      <td>65</td>\n",
       "      <td>72</td>\n",
       "    </tr>\n",
       "    <tr>\n",
       "      <th>9</th>\n",
       "      <td>36</td>\n",
       "      <td>71</td>\n",
       "      <td>248</td>\n",
       "      <td>35</td>\n",
       "      <td>8</td>\n",
       "      <td>390</td>\n",
       "      <td>49</td>\n",
       "      <td>74</td>\n",
       "    </tr>\n",
       "    <tr>\n",
       "      <th>10</th>\n",
       "      <td>8</td>\n",
       "      <td>97</td>\n",
       "      <td>204</td>\n",
       "      <td>34</td>\n",
       "      <td>5</td>\n",
       "      <td>343</td>\n",
       "      <td>69</td>\n",
       "      <td>72</td>\n",
       "    </tr>\n",
       "  </tbody>\n",
       "</table>\n",
       "</div>"
      ],
      "text/plain": [
       "         fitness_gym  hiking_running  teamgames  outdooractivities  \\\n",
       "Cust_ID                                                              \n",
       "4                  0              76        248                 37   \n",
       "5                  0              75        248                 37   \n",
       "6                  6              69        215                 34   \n",
       "9                 36              71        248                 35   \n",
       "10                 8              97        204                 34   \n",
       "\n",
       "         totalproducts  total_spent  Avg_Spent  Days_Since_Last_Purchase  \n",
       "Cust_ID                                                                   \n",
       "4                    6          361         61                        68  \n",
       "5                    6          360         60                        70  \n",
       "6                    5          324         65                        72  \n",
       "9                    8          390         49                        74  \n",
       "10                   5          343         69                        72  "
      ]
     },
     "execution_count": 82,
     "metadata": {},
     "output_type": "execute_result"
    }
   ],
   "source": [
    "Products_clean = Products_cleanzscoresextra\n",
    "Products_clean.head()"
   ]
  },
  {
   "cell_type": "markdown",
   "id": "9bbc495d-540d-4811-b966-a0f3246ff723",
   "metadata": {},
   "source": [
    "# Transform"
   ]
  },
  {
   "cell_type": "markdown",
   "id": "aa43172f-7fd4-4510-aae0-9dd774834c90",
   "metadata": {},
   "source": [
    "#scaling\n",
    "scaler = StandardScaler()\n",
    "Products_scaled = pd.DataFrame(scaler.fit_transform(Products_clean), columns = Products.columns) #applied to all columns because all are numeric\n",
    "Products_scaled = Products_scaled.drop('total_spent', axis=1) #because of high correlation to teamgames\n",
    "Products_scaled.head()"
   ]
  },
  {
   "cell_type": "markdown",
   "id": "1071d997-1337-4cd3-ad77-2f25ea6d29c0",
   "metadata": {},
   "source": [
    "#check data variability\n",
    "sns.boxplot(data=Products_scaled)\n",
    "plt.xticks(rotation=90)\n",
    "plt.show() "
   ]
  },
  {
   "cell_type": "code",
   "execution_count": 87,
   "id": "9590aee9-4cd4-4d20-aeaf-c164cc3b5ac3",
   "metadata": {},
   "outputs": [],
   "source": [
    "#get IDs\n",
    "ids = Products_clean.index"
   ]
  },
  {
   "cell_type": "code",
   "execution_count": 88,
   "id": "c27c2b7e-0023-46bb-9f72-cf14a5b803f8",
   "metadata": {},
   "outputs": [
    {
     "data": {
      "text/plain": [
       "array([[<Axes: title={'center': 'fitness_gym'}>,\n",
       "        <Axes: title={'center': 'hiking_running'}>,\n",
       "        <Axes: title={'center': 'teamgames'}>],\n",
       "       [<Axes: title={'center': 'outdooractivities'}>,\n",
       "        <Axes: title={'center': 'totalproducts'}>,\n",
       "        <Axes: title={'center': 'total_spent'}>],\n",
       "       [<Axes: title={'center': 'Avg_Spent'}>,\n",
       "        <Axes: title={'center': 'Days_Since_Last_Purchase'}>, <Axes: >]],\n",
       "      dtype=object)"
      ]
     },
     "execution_count": 88,
     "metadata": {},
     "output_type": "execute_result"
    },
    {
     "data": {
      "image/png": "[encoded data removed]",
      "text/plain": [
       "<Figure size 640x480 with 9 Axes>"
      ]
     },
     "metadata": {},
     "output_type": "display_data"
    }
   ],
   "source": [
    "Products_clean.hist()"
   ]
  },
  {
   "cell_type": "code",
   "execution_count": 92,
   "id": "03ad82dd-b5e1-4b7c-9919-488c961ae953",
   "metadata": {},
   "outputs": [
    {
     "name": "stdout",
     "output_type": "stream",
     "text": [
      "original skewness\n"
     ]
    },
    {
     "data": {
      "text/plain": [
       "fitness_gym                 0.346342\n",
       "hiking_running              4.671687\n",
       "teamgames                   0.740859\n",
       "outdooractivities           0.414896\n",
       "totalproducts               1.791119\n",
       "total_spent                 0.829234\n",
       "Avg_Spent                   0.559660\n",
       "Days_Since_Last_Purchase    0.715300\n",
       "dtype: float64"
      ]
     },
     "metadata": {},
     "output_type": "display_data"
    },
    {
     "name": "stdout",
     "output_type": "stream",
     "text": [
      "cleaned skewness\n"
     ]
    },
    {
     "data": {
      "text/plain": [
       "fitness_gym                 0.185997\n",
       "hiking_running              1.746290\n",
       "teamgames                  -0.045738\n",
       "outdooractivities           0.354366\n",
       "totalproducts               0.848180\n",
       "total_spent                 0.073696\n",
       "Avg_Spent                   0.457438\n",
       "Days_Since_Last_Purchase    0.510210\n",
       "dtype: float64"
      ]
     },
     "execution_count": 92,
     "metadata": {},
     "output_type": "execute_result"
    }
   ],
   "source": [
    "#skewness\n",
    "print('original skewness')\n",
    "display(Products.skew())\n",
    "print('cleaned skewness')\n",
    "Products_clean.skew()"
   ]
  },
  {
   "cell_type": "markdown",
   "id": "0c401271-1253-4076-a09a-8ae93855fcb0",
   "metadata": {},
   "source": [
    "**Great improvement in skewness.** \n",
    "\n",
    "**Transform all with skewness above 0.5.**\n"
   ]
  },
  {
   "cell_type": "markdown",
   "id": "affd0ca7-d51a-42d5-a6d3-dc6a0341e53d",
   "metadata": {},
   "source": [
    "### Hiking_running"
   ]
  },
  {
   "cell_type": "code",
   "execution_count": 93,
   "id": "a464368a-0224-4d85-8496-484c8ff2dc43",
   "metadata": {},
   "outputs": [
    {
     "name": "stdout",
     "output_type": "stream",
     "text": [
      "Skewness of original data: 1.74629\n",
      "Skewness after Log Transformation: 0.36105\n",
      "Skewness after Square Root Transformation: 1.01750\n",
      "Skewness after Cubic Root Transformation: 0.79611\n"
     ]
    }
   ],
   "source": [
    "# Applying Transformations to hiking_running\n",
    "hiking_running_log = np.log(Products_clean.hiking_running)\n",
    "hiking_running_sqrt = np.sqrt(Products_clean.hiking_running)\n",
    "hiking_running_cbrt = np.cbrt(Products_clean.hiking_running)\n",
    "\n",
    "print(f'Skewness of original data: {Products_clean.hiking_running.skew():.5f}')\n",
    "print(f'Skewness after Log Transformation: {hiking_running_log.skew():.5f}')\n",
    "print(f'Skewness after Square Root Transformation: {hiking_running_sqrt.skew():.5f}')\n",
    "print(f'Skewness after Cubic Root Transformation: {hiking_running_cbrt.skew():.5f}')"
   ]
  },
  {
   "cell_type": "code",
   "execution_count": 94,
   "id": "2bcd0492-5fca-44c3-8543-b1cbd61131cd",
   "metadata": {},
   "outputs": [
    {
     "name": "stdout",
     "output_type": "stream",
     "text": [
      "Skewness after Box-Cox Transformation: -0.01312\n"
     ]
    }
   ],
   "source": [
    "# Applying Box-Cox Transformation after checking all values are positive\n",
    "if (Products_clean.hiking_running > 0).all(): #needs all values to be positive\n",
    "    hiking_running_boxcox, _ = boxcox(Products_clean.hiking_running)\n",
    "    hiking_running_boxcox = pd.Series(hiking_running_boxcox)\n",
    "else:\n",
    "    # Consider alternative transformations or handling strategies\n",
    "    print(\"Not all SalePrice values are positive. Consider using Yeo-Johnson or handling negative values.\")\n",
    "print(f\"Skewness after Box-Cox Transformation: {hiking_running_boxcox.skew():.5f}\")"
   ]
  },
  {
   "cell_type": "code",
   "execution_count": 95,
   "id": "09a775cf-14b3-4c61-b07c-1cb0bc44fa6b",
   "metadata": {},
   "outputs": [
    {
     "data": {
      "text/plain": [
       "<Axes: >"
      ]
     },
     "execution_count": 95,
     "metadata": {},
     "output_type": "execute_result"
    },
    {
     "data": {
      "image/png": "[encoded data removed]",
      "text/plain": [
       "<Figure size 640x480 with 1 Axes>"
      ]
     },
     "metadata": {},
     "output_type": "display_data"
    }
   ],
   "source": [
    "#check box cox transform\n",
    "hiking_running_boxcox.hist(bins=30)"
   ]
  },
  {
   "cell_type": "code",
   "execution_count": 96,
   "id": "dcef0537-a8f3-45c2-9121-805d7862761c",
   "metadata": {},
   "outputs": [
    {
     "data": {
      "text/plain": [
       "<Axes: >"
      ]
     },
     "execution_count": 96,
     "metadata": {},
     "output_type": "execute_result"
    },
    {
     "data": {
      "image/png": "[encoded data removed]",
      "text/plain": [
       "<Figure size 640x480 with 1 Axes>"
      ]
     },
     "metadata": {},
     "output_type": "display_data"
    }
   ],
   "source": [
    "#check log transform\n",
    "hiking_running_log.hist(bins=30)"
   ]
  },
  {
   "cell_type": "markdown",
   "id": "46d5e71a-a955-435c-b305-e7fcdb3c5336",
   "metadata": {},
   "source": [
    "Similar. Box Cox transform is better: lower skewness value.\n",
    "However Box Cox insert empty values to df, so we will use Log method."
   ]
  },
  {
   "cell_type": "code",
   "execution_count": 97,
   "id": "7abebafd-771c-497e-802f-3c358d1c56cc",
   "metadata": {},
   "outputs": [],
   "source": [
    "#apply to original dataset\n",
    "Products_trans = Products_clean.copy()\n",
    "Products_trans.hiking_running = hiking_running_log"
   ]
  },
  {
   "cell_type": "markdown",
   "id": "32cbf6d3-198d-4f54-80b7-49b03390cb71",
   "metadata": {},
   "source": [
    "### totalproducts"
   ]
  },
  {
   "cell_type": "code",
   "execution_count": 98,
   "id": "01ef6c98-80c7-424d-a727-9fc8baa9717d",
   "metadata": {},
   "outputs": [
    {
     "name": "stdout",
     "output_type": "stream",
     "text": [
      "Skewness of original data: 0.84818\n",
      "Skewness after Log Transformation: 0.09908\n",
      "Skewness after Square Root Transformation: 0.46847\n",
      "Skewness after Cubic Root Transformation: 0.34485\n"
     ]
    }
   ],
   "source": [
    "# Applying Transformations to hiking_running\n",
    "totalproducts_log = np.log(Products_clean.totalproducts)\n",
    "totalproducts_sqrt = np.sqrt(Products_clean.totalproducts)\n",
    "totalproducts_cbrt = np.cbrt(Products_clean.totalproducts)\n",
    "\n",
    "print(f'Skewness of original data: {Products_clean.totalproducts.skew():.5f}')\n",
    "print(f'Skewness after Log Transformation: {totalproducts_log.skew():.5f}')\n",
    "print(f'Skewness after Square Root Transformation: {totalproducts_sqrt.skew():.5f}')\n",
    "print(f'Skewness after Cubic Root Transformation: {totalproducts_cbrt.skew():.5f}')"
   ]
  },
  {
   "cell_type": "markdown",
   "id": "ba1dad22-df78-45c5-8031-7007a3d749f0",
   "metadata": {},
   "source": [
    "De novo, Log apresenta boa transformação levando a um skewness reduzido."
   ]
  },
  {
   "cell_type": "code",
   "execution_count": 99,
   "id": "36774224-a165-4e77-ae7e-616a531721ca",
   "metadata": {},
   "outputs": [
    {
     "data": {
      "image/png": "[encoded data removed]",
      "text/plain": [
       "<Figure size 640x480 with 1 Axes>"
      ]
     },
     "metadata": {},
     "output_type": "display_data"
    },
    {
     "data": {
      "image/png": "[encoded data removed]",
      "text/plain": [
       "<Figure size 640x480 with 1 Axes>"
      ]
     },
     "metadata": {},
     "output_type": "display_data"
    }
   ],
   "source": [
    "sns.histplot(Products_clean.totalproducts, bins=15)\n",
    "plt.show()\n",
    "sns.histplot(totalproducts_log, bins=15)\n",
    "plt.show()"
   ]
  },
  {
   "cell_type": "code",
   "execution_count": 100,
   "id": "d70ba9ab-8b85-434f-ba50-5066e7516ee3",
   "metadata": {},
   "outputs": [],
   "source": [
    "#transform df\n",
    "Products_trans.totalproducts = totalproducts_log"
   ]
  },
  {
   "cell_type": "markdown",
   "id": "7b41d19d-d67c-4772-b20b-5b6d708db919",
   "metadata": {},
   "source": [
    "# Saling on transformed data"
   ]
  },
  {
   "cell_type": "code",
   "execution_count": 109,
   "id": "23145601-f858-4a67-aa84-1174de3664f7",
   "metadata": {},
   "outputs": [
    {
     "data": {
      "text/html": [
       "<div>\n",
       "<style scoped>\n",
       "    .dataframe tbody tr th:only-of-type {\n",
       "        vertical-align: middle;\n",
       "    }\n",
       "\n",
       "    .dataframe tbody tr th {\n",
       "        vertical-align: top;\n",
       "    }\n",
       "\n",
       "    .dataframe thead th {\n",
       "        text-align: right;\n",
       "    }\n",
       "</style>\n",
       "<table border=\"1\" class=\"dataframe\">\n",
       "  <thead>\n",
       "    <tr style=\"text-align: right;\">\n",
       "      <th></th>\n",
       "      <th>fitness_gym</th>\n",
       "      <th>hiking_running</th>\n",
       "      <th>teamgames</th>\n",
       "      <th>outdooractivities</th>\n",
       "      <th>totalproducts</th>\n",
       "      <th>Avg_Spent</th>\n",
       "      <th>Days_Since_Last_Purchase</th>\n",
       "    </tr>\n",
       "    <tr>\n",
       "      <th>Cust_ID</th>\n",
       "      <th></th>\n",
       "      <th></th>\n",
       "      <th></th>\n",
       "      <th></th>\n",
       "      <th></th>\n",
       "      <th></th>\n",
       "      <th></th>\n",
       "    </tr>\n",
       "  </thead>\n",
       "  <tbody>\n",
       "    <tr>\n",
       "      <th>4</th>\n",
       "      <td>-2.251078</td>\n",
       "      <td>1.082187</td>\n",
       "      <td>1.073826</td>\n",
       "      <td>1.998800</td>\n",
       "      <td>0.628263</td>\n",
       "      <td>0.137868</td>\n",
       "      <td>-1.151888</td>\n",
       "    </tr>\n",
       "    <tr>\n",
       "      <th>5</th>\n",
       "      <td>-2.251078</td>\n",
       "      <td>1.048844</td>\n",
       "      <td>1.073826</td>\n",
       "      <td>1.998800</td>\n",
       "      <td>0.628263</td>\n",
       "      <td>0.083776</td>\n",
       "      <td>-1.031301</td>\n",
       "    </tr>\n",
       "    <tr>\n",
       "      <th>6</th>\n",
       "      <td>-1.826954</td>\n",
       "      <td>0.838944</td>\n",
       "      <td>0.587803</td>\n",
       "      <td>0.229282</td>\n",
       "      <td>-0.088779</td>\n",
       "      <td>0.354235</td>\n",
       "      <td>-0.910714</td>\n",
       "    </tr>\n",
       "    <tr>\n",
       "      <th>9</th>\n",
       "      <td>0.293669</td>\n",
       "      <td>0.910873</td>\n",
       "      <td>1.073826</td>\n",
       "      <td>0.819121</td>\n",
       "      <td>1.759670</td>\n",
       "      <td>-0.511233</td>\n",
       "      <td>-0.790127</td>\n",
       "    </tr>\n",
       "    <tr>\n",
       "      <th>10</th>\n",
       "      <td>-1.685579</td>\n",
       "      <td>1.696361</td>\n",
       "      <td>0.425795</td>\n",
       "      <td>0.229282</td>\n",
       "      <td>-0.088779</td>\n",
       "      <td>0.570602</td>\n",
       "      <td>-0.910714</td>\n",
       "    </tr>\n",
       "  </tbody>\n",
       "</table>\n",
       "</div>"
      ],
      "text/plain": [
       "         fitness_gym  hiking_running  teamgames  outdooractivities  \\\n",
       "Cust_ID                                                              \n",
       "4          -2.251078        1.082187   1.073826           1.998800   \n",
       "5          -2.251078        1.048844   1.073826           1.998800   \n",
       "6          -1.826954        0.838944   0.587803           0.229282   \n",
       "9           0.293669        0.910873   1.073826           0.819121   \n",
       "10         -1.685579        1.696361   0.425795           0.229282   \n",
       "\n",
       "         totalproducts  Avg_Spent  Days_Since_Last_Purchase  \n",
       "Cust_ID                                                      \n",
       "4             0.628263   0.137868                 -1.151888  \n",
       "5             0.628263   0.083776                 -1.031301  \n",
       "6            -0.088779   0.354235                 -0.910714  \n",
       "9             1.759670  -0.511233                 -0.790127  \n",
       "10           -0.088779   0.570602                 -0.910714  "
      ]
     },
     "execution_count": 109,
     "metadata": {},
     "output_type": "execute_result"
    }
   ],
   "source": [
    "#run scaling\n",
    "scaler = StandardScaler()\n",
    "Products_trans_scaled = pd.DataFrame(scaler.fit_transform(Products_trans), columns = Products_trans.columns) #applied to all columns because all are numeric\n",
    "Products_trans_scaled = Products_trans_scaled.drop('total_spent', axis=1) #because of high correlation to teamgames\n",
    "Products_trans_scaled.index = Products_trans.index\n",
    "Products_trans_scaled.head()"
   ]
  },
  {
   "cell_type": "code",
   "execution_count": 110,
   "id": "758958d5-c46d-42f3-81b2-acf280720630",
   "metadata": {},
   "outputs": [
    {
     "name": "stdout",
     "output_type": "stream",
     "text": [
      "<class 'pandas.core.frame.DataFrame'>\n",
      "Index: 3936 entries, 4 to 6496\n",
      "Data columns (total 7 columns):\n",
      " #   Column                    Non-Null Count  Dtype  \n",
      "---  ------                    --------------  -----  \n",
      " 0   fitness_gym               3936 non-null   float64\n",
      " 1   hiking_running            3936 non-null   float64\n",
      " 2   teamgames                 3936 non-null   float64\n",
      " 3   outdooractivities         3936 non-null   float64\n",
      " 4   totalproducts             3936 non-null   float64\n",
      " 5   Avg_Spent                 3936 non-null   float64\n",
      " 6   Days_Since_Last_Purchase  3936 non-null   float64\n",
      "dtypes: float64(7)\n",
      "memory usage: 246.0 KB\n"
     ]
    }
   ],
   "source": [
    "Products_trans_scaled.info()"
   ]
  },
  {
   "cell_type": "markdown",
   "id": "099ade20-5b46-41ca-b5fc-1ac8534d02ae",
   "metadata": {},
   "source": [
    "# kmeans clustering"
   ]
  },
  {
   "cell_type": "code",
   "execution_count": 111,
   "id": "803be9f0-5a54-4112-98b7-45af2040a45e",
   "metadata": {},
   "outputs": [
    {
     "data": {
      "image/png": "[encoded data removed]",
      "text/plain": [
       "<Figure size 500x400 with 1 Axes>"
      ]
     },
     "metadata": {},
     "output_type": "display_data"
    },
    {
     "data": {
      "image/png": "[encoded data removed]",
      "text/plain": [
       "<Figure size 500x400 with 1 Axes>"
      ]
     },
     "metadata": {},
     "output_type": "display_data"
    }
   ],
   "source": [
    "# Calculate distortion for a range of number of cluster\n",
    "distortions = [] #for elbow method\n",
    "\n",
    "#for silhouette method\n",
    "features = Products_trans_scaled\n",
    "silhouette_scores = []\n",
    "\n",
    "#calculate relevant measurements for both elbow and silhouette methods\n",
    "for i in range(1, 11):\n",
    "    km = KMeans(n_clusters=i, init='k-means++', n_init=10, max_iter=300, random_state=42) #kmean++ to get a better spreading of the initial centroids\n",
    "    cluster_labels = km.fit_predict(features)  # Fit and predict simultaneously\n",
    "    #calculate inertia score\n",
    "    distortions.append(km.inertia_)\n",
    "\n",
    "    # Calculate silhouette scores\n",
    "    if i > 1:\n",
    "        silhouette_avg = silhouette_score(features, cluster_labels)\n",
    "        silhouette_scores.append(silhouette_avg)\n",
    "\n",
    "# Plot the elbow graph\n",
    "plt.figure(figsize=(5, 4))\n",
    "plt.plot(range(1, 11), distortions, marker='o')\n",
    "plt.title('Elbow Method For Optimal k')\n",
    "plt.xlabel('Number of clusters')\n",
    "plt.ylabel('Distortion')\n",
    "plt.show()\n",
    "\n",
    "# Plot the silhouette scores, note the range adjustment for x-axis\n",
    "if len(silhouette_scores) > 0:  # Check if list is not empty\n",
    "    plt.figure(figsize=(5, 4))\n",
    "    plt.plot(range(2, 11), silhouette_scores, marker='o')\n",
    "    plt.title('Silhouette Scores for Different k Values')\n",
    "    plt.xlabel('Number of clusters (k)')\n",
    "    plt.ylabel('Silhouette Score')\n",
    "    plt.show()"
   ]
  },
  {
   "cell_type": "markdown",
   "id": "3e5ce89f-633e-4422-9ba7-5a2c281c1687",
   "metadata": {},
   "source": [
    "### Conclusion on clusters\n",
    "- elbow method not clear on the best number of cluster with a smooth curve\n",
    "- silhuette method suggests 3 clusters, followed by 4, then by 2.\n",
    "\n",
    "We will get **3** clusters first. Depending on difficulties in interpreting the data, we may go to 2."
   ]
  },
  {
   "cell_type": "code",
   "execution_count": 112,
   "id": "b57ecba7-e8bd-4a18-81c6-f49aef58ca42",
   "metadata": {},
   "outputs": [],
   "source": [
    "#save model and assign clusters\n",
    "n_clusters=3\n",
    "km = KMeans(n_clusters=n_clusters, init='k-means++', n_init=10, max_iter=300, random_state=42)\n",
    "km.fit(Products_trans_scaled) #create model\n",
    "clusters = km.labels_ #assign clusters"
   ]
  },
  {
   "cell_type": "markdown",
   "id": "8a9c0509-fef2-437d-9ee4-1e3a8b26d807",
   "metadata": {},
   "source": [
    "## Assigning labels to datasets"
   ]
  },
  {
   "cell_type": "code",
   "execution_count": 113,
   "id": "4609405f-94b5-4e04-a08e-fa17902cc71f",
   "metadata": {},
   "outputs": [
    {
     "data": {
      "text/html": [
       "<div>\n",
       "<style scoped>\n",
       "    .dataframe tbody tr th:only-of-type {\n",
       "        vertical-align: middle;\n",
       "    }\n",
       "\n",
       "    .dataframe tbody tr th {\n",
       "        vertical-align: top;\n",
       "    }\n",
       "\n",
       "    .dataframe thead th {\n",
       "        text-align: right;\n",
       "    }\n",
       "</style>\n",
       "<table border=\"1\" class=\"dataframe\">\n",
       "  <thead>\n",
       "    <tr style=\"text-align: right;\">\n",
       "      <th></th>\n",
       "      <th>fitness_gym</th>\n",
       "      <th>hiking_running</th>\n",
       "      <th>teamgames</th>\n",
       "      <th>outdooractivities</th>\n",
       "      <th>totalproducts</th>\n",
       "      <th>Avg_Spent</th>\n",
       "      <th>Days_Since_Last_Purchase</th>\n",
       "      <th>cluster_label</th>\n",
       "    </tr>\n",
       "    <tr>\n",
       "      <th>Cust_ID</th>\n",
       "      <th></th>\n",
       "      <th></th>\n",
       "      <th></th>\n",
       "      <th></th>\n",
       "      <th></th>\n",
       "      <th></th>\n",
       "      <th></th>\n",
       "      <th></th>\n",
       "    </tr>\n",
       "  </thead>\n",
       "  <tbody>\n",
       "    <tr>\n",
       "      <th>4</th>\n",
       "      <td>-2.251078</td>\n",
       "      <td>1.082187</td>\n",
       "      <td>1.073826</td>\n",
       "      <td>1.998800</td>\n",
       "      <td>0.628263</td>\n",
       "      <td>0.137868</td>\n",
       "      <td>-1.151888</td>\n",
       "      <td>0</td>\n",
       "    </tr>\n",
       "    <tr>\n",
       "      <th>5</th>\n",
       "      <td>-2.251078</td>\n",
       "      <td>1.048844</td>\n",
       "      <td>1.073826</td>\n",
       "      <td>1.998800</td>\n",
       "      <td>0.628263</td>\n",
       "      <td>0.083776</td>\n",
       "      <td>-1.031301</td>\n",
       "      <td>0</td>\n",
       "    </tr>\n",
       "    <tr>\n",
       "      <th>6</th>\n",
       "      <td>-1.826954</td>\n",
       "      <td>0.838944</td>\n",
       "      <td>0.587803</td>\n",
       "      <td>0.229282</td>\n",
       "      <td>-0.088779</td>\n",
       "      <td>0.354235</td>\n",
       "      <td>-0.910714</td>\n",
       "      <td>0</td>\n",
       "    </tr>\n",
       "    <tr>\n",
       "      <th>9</th>\n",
       "      <td>0.293669</td>\n",
       "      <td>0.910873</td>\n",
       "      <td>1.073826</td>\n",
       "      <td>0.819121</td>\n",
       "      <td>1.759670</td>\n",
       "      <td>-0.511233</td>\n",
       "      <td>-0.790127</td>\n",
       "      <td>0</td>\n",
       "    </tr>\n",
       "    <tr>\n",
       "      <th>10</th>\n",
       "      <td>-1.685579</td>\n",
       "      <td>1.696361</td>\n",
       "      <td>0.425795</td>\n",
       "      <td>0.229282</td>\n",
       "      <td>-0.088779</td>\n",
       "      <td>0.570602</td>\n",
       "      <td>-0.910714</td>\n",
       "      <td>0</td>\n",
       "    </tr>\n",
       "  </tbody>\n",
       "</table>\n",
       "</div>"
      ],
      "text/plain": [
       "         fitness_gym  hiking_running  teamgames  outdooractivities  \\\n",
       "Cust_ID                                                              \n",
       "4          -2.251078        1.082187   1.073826           1.998800   \n",
       "5          -2.251078        1.048844   1.073826           1.998800   \n",
       "6          -1.826954        0.838944   0.587803           0.229282   \n",
       "9           0.293669        0.910873   1.073826           0.819121   \n",
       "10         -1.685579        1.696361   0.425795           0.229282   \n",
       "\n",
       "         totalproducts  Avg_Spent  Days_Since_Last_Purchase  cluster_label  \n",
       "Cust_ID                                                                     \n",
       "4             0.628263   0.137868                 -1.151888              0  \n",
       "5             0.628263   0.083776                 -1.031301              0  \n",
       "6            -0.088779   0.354235                 -0.910714              0  \n",
       "9             1.759670  -0.511233                 -0.790127              0  \n",
       "10           -0.088779   0.570602                 -0.910714              0  "
      ]
     },
     "execution_count": 113,
     "metadata": {},
     "output_type": "execute_result"
    }
   ],
   "source": [
    "#Products transformed e scaled\n",
    "Products_trans_scaled['cluster_label']=clusters\n",
    "\n",
    "Products_trans_scaled.head()"
   ]
  },
  {
   "cell_type": "code",
   "execution_count": 126,
   "id": "e892eba3-8b40-4009-bfef-aba92c9ae5e1",
   "metadata": {},
   "outputs": [
    {
     "data": {
      "text/html": [
       "<div>\n",
       "<style scoped>\n",
       "    .dataframe tbody tr th:only-of-type {\n",
       "        vertical-align: middle;\n",
       "    }\n",
       "\n",
       "    .dataframe tbody tr th {\n",
       "        vertical-align: top;\n",
       "    }\n",
       "\n",
       "    .dataframe thead th {\n",
       "        text-align: right;\n",
       "    }\n",
       "</style>\n",
       "<table border=\"1\" class=\"dataframe\">\n",
       "  <thead>\n",
       "    <tr style=\"text-align: right;\">\n",
       "      <th></th>\n",
       "      <th>fitness_gym</th>\n",
       "      <th>hiking_running</th>\n",
       "      <th>teamgames</th>\n",
       "      <th>outdooractivities</th>\n",
       "      <th>totalproducts</th>\n",
       "      <th>Avg_Spent</th>\n",
       "      <th>Days_Since_Last_Purchase</th>\n",
       "      <th>cluster_label</th>\n",
       "    </tr>\n",
       "    <tr>\n",
       "      <th>Cust_ID</th>\n",
       "      <th></th>\n",
       "      <th></th>\n",
       "      <th></th>\n",
       "      <th></th>\n",
       "      <th></th>\n",
       "      <th></th>\n",
       "      <th></th>\n",
       "      <th></th>\n",
       "    </tr>\n",
       "  </thead>\n",
       "  <tbody>\n",
       "    <tr>\n",
       "      <th>4</th>\n",
       "      <td>0</td>\n",
       "      <td>76</td>\n",
       "      <td>248</td>\n",
       "      <td>37</td>\n",
       "      <td>6</td>\n",
       "      <td>61</td>\n",
       "      <td>68</td>\n",
       "      <td>0</td>\n",
       "    </tr>\n",
       "    <tr>\n",
       "      <th>5</th>\n",
       "      <td>0</td>\n",
       "      <td>75</td>\n",
       "      <td>248</td>\n",
       "      <td>37</td>\n",
       "      <td>6</td>\n",
       "      <td>60</td>\n",
       "      <td>70</td>\n",
       "      <td>0</td>\n",
       "    </tr>\n",
       "    <tr>\n",
       "      <th>6</th>\n",
       "      <td>6</td>\n",
       "      <td>69</td>\n",
       "      <td>215</td>\n",
       "      <td>34</td>\n",
       "      <td>5</td>\n",
       "      <td>65</td>\n",
       "      <td>72</td>\n",
       "      <td>0</td>\n",
       "    </tr>\n",
       "    <tr>\n",
       "      <th>9</th>\n",
       "      <td>36</td>\n",
       "      <td>71</td>\n",
       "      <td>248</td>\n",
       "      <td>35</td>\n",
       "      <td>8</td>\n",
       "      <td>49</td>\n",
       "      <td>74</td>\n",
       "      <td>0</td>\n",
       "    </tr>\n",
       "    <tr>\n",
       "      <th>10</th>\n",
       "      <td>8</td>\n",
       "      <td>97</td>\n",
       "      <td>204</td>\n",
       "      <td>34</td>\n",
       "      <td>5</td>\n",
       "      <td>69</td>\n",
       "      <td>72</td>\n",
       "      <td>0</td>\n",
       "    </tr>\n",
       "  </tbody>\n",
       "</table>\n",
       "</div>"
      ],
      "text/plain": [
       "         fitness_gym  hiking_running  teamgames  outdooractivities  \\\n",
       "Cust_ID                                                              \n",
       "4                  0              76        248                 37   \n",
       "5                  0              75        248                 37   \n",
       "6                  6              69        215                 34   \n",
       "9                 36              71        248                 35   \n",
       "10                 8              97        204                 34   \n",
       "\n",
       "         totalproducts  Avg_Spent  Days_Since_Last_Purchase  cluster_label  \n",
       "Cust_ID                                                                     \n",
       "4                    6         61                        68              0  \n",
       "5                    6         60                        70              0  \n",
       "6                    5         65                        72              0  \n",
       "9                    8         49                        74              0  \n",
       "10                   5         69                        72              0  "
      ]
     },
     "execution_count": 126,
     "metadata": {},
     "output_type": "execute_result"
    }
   ],
   "source": [
    "#Products original (menos outliers)\n",
    "Products_final = Products.loc[Products_trans_scaled.index]\n",
    "Products_final['cluster_label']= clusters #assign clusters to df\n",
    "Products_final.drop('total_spent', axis=1, inplace=True)\n",
    "Products_final.head()"
   ]
  },
  {
   "cell_type": "code",
   "execution_count": 127,
   "id": "e7460f4c-3de5-46d7-943d-11f8067bebe3",
   "metadata": {},
   "outputs": [
    {
     "name": "stdout",
     "output_type": "stream",
     "text": [
      "<class 'pandas.core.frame.DataFrame'>\n",
      "Index: 3936 entries, 4 to 6496\n",
      "Data columns (total 8 columns):\n",
      " #   Column                    Non-Null Count  Dtype\n",
      "---  ------                    --------------  -----\n",
      " 0   fitness_gym               3936 non-null   int64\n",
      " 1   hiking_running            3936 non-null   int64\n",
      " 2   teamgames                 3936 non-null   int64\n",
      " 3   outdooractivities         3936 non-null   int64\n",
      " 4   totalproducts             3936 non-null   int64\n",
      " 5   Avg_Spent                 3936 non-null   int32\n",
      " 6   Days_Since_Last_Purchase  3936 non-null   int64\n",
      " 7   cluster_label             3936 non-null   int32\n",
      "dtypes: int32(2), int64(6)\n",
      "memory usage: 246.0 KB\n"
     ]
    }
   ],
   "source": [
    "Products_final.info()"
   ]
  },
  {
   "cell_type": "markdown",
   "id": "188bd5a5-8d86-4d54-8264-bcfa81082e4a",
   "metadata": {},
   "source": [
    "# Export DFs"
   ]
  },
  {
   "cell_type": "code",
   "execution_count": 131,
   "id": "52ae3dc9-bb1d-4295-9559-32e473f2dbcf",
   "metadata": {},
   "outputs": [],
   "source": [
    "#export final df with original cleaned data and a column with clusters\n",
    "Products_final.to_csv('exported_data/Product_clustered.csv', index=True) #includes indices\n",
    "\n",
    "#then import with:\n",
    "#pd.read_csv('exported_data/Product_clustered.csv', index_col=0)"
   ]
  },
  {
   "cell_type": "markdown",
   "id": "af63c414-ecdc-42e7-a258-44ff91800675",
   "metadata": {},
   "source": [
    "# Clusters analysis"
   ]
  },
  {
   "cell_type": "code",
   "execution_count": 132,
   "id": "4720756c-a883-4cc9-810d-a48072d594d5",
   "metadata": {},
   "outputs": [
    {
     "data": {
      "text/plain": [
       "cluster_label\n",
       "0    1114\n",
       "1    1230\n",
       "2    1592\n",
       "Name: cluster_label, dtype: int64"
      ]
     },
     "execution_count": 132,
     "metadata": {},
     "output_type": "execute_result"
    }
   ],
   "source": [
    "#count entries in each cluster\n",
    "Products_final.groupby('cluster_label').cluster_label.count().transpose()"
   ]
  },
  {
   "cell_type": "code",
   "execution_count": 133,
   "id": "4d4995e4-2857-4c66-84eb-a7f476585e0b",
   "metadata": {},
   "outputs": [
    {
     "data": {
      "text/html": [
       "<div>\n",
       "<style scoped>\n",
       "    .dataframe tbody tr th:only-of-type {\n",
       "        vertical-align: middle;\n",
       "    }\n",
       "\n",
       "    .dataframe tbody tr th {\n",
       "        vertical-align: top;\n",
       "    }\n",
       "\n",
       "    .dataframe thead th {\n",
       "        text-align: right;\n",
       "    }\n",
       "</style>\n",
       "<table border=\"1\" class=\"dataframe\">\n",
       "  <thead>\n",
       "    <tr style=\"text-align: right;\">\n",
       "      <th>cluster_label</th>\n",
       "      <th>0</th>\n",
       "      <th>1</th>\n",
       "      <th>2</th>\n",
       "    </tr>\n",
       "  </thead>\n",
       "  <tbody>\n",
       "    <tr>\n",
       "      <th>fitness_gym</th>\n",
       "      <td>26.268402</td>\n",
       "      <td>37.223577</td>\n",
       "      <td>31.592965</td>\n",
       "    </tr>\n",
       "    <tr>\n",
       "      <th>hiking_running</th>\n",
       "      <td>77.332136</td>\n",
       "      <td>52.682114</td>\n",
       "      <td>37.994347</td>\n",
       "    </tr>\n",
       "    <tr>\n",
       "      <th>teamgames</th>\n",
       "      <td>218.937163</td>\n",
       "      <td>217.892683</td>\n",
       "      <td>111.336683</td>\n",
       "    </tr>\n",
       "    <tr>\n",
       "      <th>outdooractivities</th>\n",
       "      <td>34.793537</td>\n",
       "      <td>32.767480</td>\n",
       "      <td>33.435930</td>\n",
       "    </tr>\n",
       "    <tr>\n",
       "      <th>totalproducts</th>\n",
       "      <td>6.358169</td>\n",
       "      <td>4.548780</td>\n",
       "      <td>5.099246</td>\n",
       "    </tr>\n",
       "    <tr>\n",
       "      <th>Avg_Spent</th>\n",
       "      <td>58.156194</td>\n",
       "      <td>77.024390</td>\n",
       "      <td>44.307789</td>\n",
       "    </tr>\n",
       "    <tr>\n",
       "      <th>Days_Since_Last_Purchase</th>\n",
       "      <td>74.517953</td>\n",
       "      <td>98.570732</td>\n",
       "      <td>87.053392</td>\n",
       "    </tr>\n",
       "  </tbody>\n",
       "</table>\n",
       "</div>"
      ],
      "text/plain": [
       "cluster_label                      0           1           2\n",
       "fitness_gym                26.268402   37.223577   31.592965\n",
       "hiking_running             77.332136   52.682114   37.994347\n",
       "teamgames                 218.937163  217.892683  111.336683\n",
       "outdooractivities          34.793537   32.767480   33.435930\n",
       "totalproducts               6.358169    4.548780    5.099246\n",
       "Avg_Spent                  58.156194   77.024390   44.307789\n",
       "Days_Since_Last_Purchase   74.517953   98.570732   87.053392"
      ]
     },
     "execution_count": 133,
     "metadata": {},
     "output_type": "execute_result"
    }
   ],
   "source": [
    "#look at means\n",
    "Products_final.groupby('cluster_label').mean().transpose()"
   ]
  },
  {
   "cell_type": "markdown",
   "id": "19a52936-2758-4537-9dd5-2513cc523da4",
   "metadata": {},
   "source": [
    "Análise dos 3 clusters em curso  \n",
    "\n",
    "1114, 1230, 1592 – boa divisão  \n",
    "\n",
    "\n",
    "in order:\n",
    "fitness_gym:..............1 2 0  \n",
    "hiking_running:...........0 1 2  \n",
    "teamgames:................0+1 2  \n",
    "outdooractivities:........  =  \n",
    "totalproducts:............  \n",
    "Avg_spent:................1 0 2  \n",
    "Days_Since_Last_Purchase: 1 2 0  \n",
    "\n",
    "cluster 0:\n",
    "- buyer of hiking_running and teamgames\n",
    "- medium spent money and medium buying frequency\n",
    "\n",
    "cluster 1:\n",
    "- buys more expensive products\n",
    "- fitness & gym best buyer\n",
    "- takes longer to return to store\n",
    "\n",
    "cluster 2\n",
    "- goes more freuqently\n",
    "- buys cheaper items"
   ]
  },
  {
   "cell_type": "markdown",
   "id": "850d7c2c-680c-47d1-8b04-580a254c7a5c",
   "metadata": {},
   "source": [
    "### Days_Since_Last_Purchase"
   ]
  },
  {
   "cell_type": "code",
   "execution_count": 136,
   "id": "dd91414f-73c0-4dde-a302-c689d07b41d4",
   "metadata": {},
   "outputs": [
    {
     "data": {
      "image/png": "[encoded data removed]",
      "text/plain": [
       "<Figure size 800x600 with 1 Axes>"
      ]
     },
     "metadata": {},
     "output_type": "display_data"
    }
   ],
   "source": [
    "#Products.query(\"cluster_label == 0\")['Days_Since_Last_Purchase'].plot())\n",
    "\n",
    "# Filtering data for cluster_label == 0\n",
    "data = Products_final[Products_final['cluster_label'].isin([0, 1])]\n",
    "\n",
    "# Create a boxplot\n",
    "plt.figure(figsize=(8, 6))\n",
    "sns.boxplot(data=data, x='cluster_label', y='Days_Since_Last_Purchase')\n",
    "plt.title('Days Since Last Purchase by Cluster')\n",
    "plt.xlabel('Cluster Label')\n",
    "plt.ylabel('Days Since Last Purchase')\n",
    "plt.show()\n"
   ]
  },
  {
   "cell_type": "code",
   "execution_count": 137,
   "id": "92302fa1-b652-427c-91f1-1b4ac47fa29b",
   "metadata": {},
   "outputs": [
    {
     "name": "stdout",
     "output_type": "stream",
     "text": [
      "T-statistic: -42.77132805866067\n",
      "P-value: 1.7052759436493478e-292\n"
     ]
    }
   ],
   "source": [
    "#statistics\n",
    "feature = 'Days_Since_Last_Purchase'\n",
    "# Extracting data for each cluster\n",
    "cluster_0_data = Products_final.query(\"cluster_label == 0\")[feature]\n",
    "cluster_1_data = Products_final.query(\"cluster_label == 1\")[feature]\n",
    "\n",
    "# Performing the t-test\n",
    "t_stat, p_value = ttest_ind(cluster_0_data, cluster_1_data, equal_var=False)\n",
    "\n",
    "# Printing the results\n",
    "print(\"T-statistic:\", t_stat)\n",
    "print(\"P-value:\", p_value)"
   ]
  },
  {
   "cell_type": "markdown",
   "id": "c2f04e04-8f92-4145-8215-a506206ab165",
   "metadata": {},
   "source": [
    "**They are statistically significant**"
   ]
  },
  {
   "cell_type": "markdown",
   "id": "18b962e7-534f-494d-8d4c-0be5a1ba7846",
   "metadata": {},
   "source": [
    "### fitness_gym"
   ]
  },
  {
   "cell_type": "code",
   "execution_count": 138,
   "id": "ad782df2-63b5-46c0-a12e-f2066d8bbfd9",
   "metadata": {},
   "outputs": [
    {
     "name": "stdout",
     "output_type": "stream",
     "text": [
      "T-statistic: -9.271075797481245\n",
      "P-value: 5.787250766446733e-20\n"
     ]
    }
   ],
   "source": [
    "#statistics\n",
    "feature = 'fitness_gym'\n",
    "# Extracting data for each cluster\n",
    "cluster_0_data = Products_final.query(\"cluster_label == 0\")[feature]\n",
    "cluster_2_data = Products_final.query(\"cluster_label == 2\")[feature]\n",
    "\n",
    "# Performing the t-test\n",
    "t_stat, p_value = ttest_ind(cluster_0_data, cluster_2_data, equal_var=False)\n",
    "\n",
    "# Printing the results\n",
    "print(\"T-statistic:\", t_stat)\n",
    "print(\"P-value:\", p_value)"
   ]
  },
  {
   "cell_type": "markdown",
   "id": "5ed943c3-8171-4a16-ae00-137cb760b696",
   "metadata": {},
   "source": [
    "**fitness_gym is statistically different**"
   ]
  },
  {
   "cell_type": "markdown",
   "id": "808961c5-36c1-48ee-aaca-4f31b18993a7",
   "metadata": {},
   "source": [
    "### hiking_running"
   ]
  },
  {
   "cell_type": "code",
   "execution_count": 139,
   "id": "5825818a-7e86-4a6e-b8fa-240a08ba2c5f",
   "metadata": {},
   "outputs": [
    {
     "name": "stdout",
     "output_type": "stream",
     "text": [
      "T-statistic: 55.52449465698657\n",
      "P-value: 0.0\n"
     ]
    }
   ],
   "source": [
    "#statistics\n",
    "feature = 'hiking_running'\n",
    "# Extracting data for each cluster\n",
    "cluster_0_data = Products_final.query(\"cluster_label == 0\")[feature]\n",
    "cluster_2_data = Products_final.query(\"cluster_label == 2\")[feature]\n",
    "\n",
    "# Performing the t-test\n",
    "t_stat, p_value = ttest_ind(cluster_0_data, cluster_2_data, equal_var=False)\n",
    "\n",
    "# Printing the results\n",
    "print(\"T-statistic:\", t_stat)\n",
    "print(\"P-value:\", p_value)"
   ]
  },
  {
   "cell_type": "markdown",
   "id": "6b6af99b-0bbf-46c6-8637-aaffa958792c",
   "metadata": {},
   "source": [
    "**hiking_running is statistically different**"
   ]
  },
  {
   "cell_type": "markdown",
   "id": "f976d051-f97b-4adb-a711-d978f2c84ed0",
   "metadata": {},
   "source": [
    "# PCA visualization"
   ]
  },
  {
   "cell_type": "code",
   "execution_count": 150,
   "id": "89337c69-9c49-47d7-afc1-ff9e1e409bfa",
   "metadata": {},
   "outputs": [
    {
     "data": {
      "text/html": [
       "<div>\n",
       "<style scoped>\n",
       "    .dataframe tbody tr th:only-of-type {\n",
       "        vertical-align: middle;\n",
       "    }\n",
       "\n",
       "    .dataframe tbody tr th {\n",
       "        vertical-align: top;\n",
       "    }\n",
       "\n",
       "    .dataframe thead th {\n",
       "        text-align: right;\n",
       "    }\n",
       "</style>\n",
       "<table border=\"1\" class=\"dataframe\">\n",
       "  <thead>\n",
       "    <tr style=\"text-align: right;\">\n",
       "      <th></th>\n",
       "      <th>fitness_gym</th>\n",
       "      <th>hiking_running</th>\n",
       "      <th>teamgames</th>\n",
       "      <th>outdooractivities</th>\n",
       "      <th>totalproducts</th>\n",
       "      <th>Avg_Spent</th>\n",
       "      <th>Days_Since_Last_Purchase</th>\n",
       "      <th>cluster_label</th>\n",
       "    </tr>\n",
       "    <tr>\n",
       "      <th>Cust_ID</th>\n",
       "      <th></th>\n",
       "      <th></th>\n",
       "      <th></th>\n",
       "      <th></th>\n",
       "      <th></th>\n",
       "      <th></th>\n",
       "      <th></th>\n",
       "      <th></th>\n",
       "    </tr>\n",
       "  </thead>\n",
       "  <tbody>\n",
       "    <tr>\n",
       "      <th>4</th>\n",
       "      <td>-2.251078</td>\n",
       "      <td>1.082187</td>\n",
       "      <td>1.073826</td>\n",
       "      <td>1.998800</td>\n",
       "      <td>0.628263</td>\n",
       "      <td>0.137868</td>\n",
       "      <td>-1.151888</td>\n",
       "      <td>0</td>\n",
       "    </tr>\n",
       "    <tr>\n",
       "      <th>5</th>\n",
       "      <td>-2.251078</td>\n",
       "      <td>1.048844</td>\n",
       "      <td>1.073826</td>\n",
       "      <td>1.998800</td>\n",
       "      <td>0.628263</td>\n",
       "      <td>0.083776</td>\n",
       "      <td>-1.031301</td>\n",
       "      <td>0</td>\n",
       "    </tr>\n",
       "    <tr>\n",
       "      <th>6</th>\n",
       "      <td>-1.826954</td>\n",
       "      <td>0.838944</td>\n",
       "      <td>0.587803</td>\n",
       "      <td>0.229282</td>\n",
       "      <td>-0.088779</td>\n",
       "      <td>0.354235</td>\n",
       "      <td>-0.910714</td>\n",
       "      <td>0</td>\n",
       "    </tr>\n",
       "    <tr>\n",
       "      <th>9</th>\n",
       "      <td>0.293669</td>\n",
       "      <td>0.910873</td>\n",
       "      <td>1.073826</td>\n",
       "      <td>0.819121</td>\n",
       "      <td>1.759670</td>\n",
       "      <td>-0.511233</td>\n",
       "      <td>-0.790127</td>\n",
       "      <td>0</td>\n",
       "    </tr>\n",
       "    <tr>\n",
       "      <th>10</th>\n",
       "      <td>-1.685579</td>\n",
       "      <td>1.696361</td>\n",
       "      <td>0.425795</td>\n",
       "      <td>0.229282</td>\n",
       "      <td>-0.088779</td>\n",
       "      <td>0.570602</td>\n",
       "      <td>-0.910714</td>\n",
       "      <td>0</td>\n",
       "    </tr>\n",
       "  </tbody>\n",
       "</table>\n",
       "</div>"
      ],
      "text/plain": [
       "         fitness_gym  hiking_running  teamgames  outdooractivities  \\\n",
       "Cust_ID                                                              \n",
       "4          -2.251078        1.082187   1.073826           1.998800   \n",
       "5          -2.251078        1.048844   1.073826           1.998800   \n",
       "6          -1.826954        0.838944   0.587803           0.229282   \n",
       "9           0.293669        0.910873   1.073826           0.819121   \n",
       "10         -1.685579        1.696361   0.425795           0.229282   \n",
       "\n",
       "         totalproducts  Avg_Spent  Days_Since_Last_Purchase  cluster_label  \n",
       "Cust_ID                                                                     \n",
       "4             0.628263   0.137868                 -1.151888              0  \n",
       "5             0.628263   0.083776                 -1.031301              0  \n",
       "6            -0.088779   0.354235                 -0.910714              0  \n",
       "9             1.759670  -0.511233                 -0.790127              0  \n",
       "10           -0.088779   0.570602                 -0.910714              0  "
      ]
     },
     "execution_count": 150,
     "metadata": {},
     "output_type": "execute_result"
    }
   ],
   "source": [
    "Products_trans_scaled.head()"
   ]
  },
  {
   "cell_type": "code",
   "execution_count": 151,
   "id": "1896ad37-cfed-41cb-8acc-5b264308f7f0",
   "metadata": {},
   "outputs": [
    {
     "data": {
      "text/html": [
       "<div>\n",
       "<style scoped>\n",
       "    .dataframe tbody tr th:only-of-type {\n",
       "        vertical-align: middle;\n",
       "    }\n",
       "\n",
       "    .dataframe tbody tr th {\n",
       "        vertical-align: top;\n",
       "    }\n",
       "\n",
       "    .dataframe thead th {\n",
       "        text-align: right;\n",
       "    }\n",
       "</style>\n",
       "<table border=\"1\" class=\"dataframe\">\n",
       "  <thead>\n",
       "    <tr style=\"text-align: right;\">\n",
       "      <th></th>\n",
       "      <th>0</th>\n",
       "      <th>1</th>\n",
       "      <th>2</th>\n",
       "      <th>3</th>\n",
       "      <th>4</th>\n",
       "      <th>5</th>\n",
       "      <th>6</th>\n",
       "    </tr>\n",
       "  </thead>\n",
       "  <tbody>\n",
       "    <tr>\n",
       "      <th>0</th>\n",
       "      <td>-1.408423</td>\n",
       "      <td>2.682074</td>\n",
       "      <td>-1.902591</td>\n",
       "      <td>0.273236</td>\n",
       "      <td>-0.108514</td>\n",
       "      <td>-0.491424</td>\n",
       "      <td>-0.048903</td>\n",
       "    </tr>\n",
       "    <tr>\n",
       "      <th>1</th>\n",
       "      <td>-1.354927</td>\n",
       "      <td>2.647977</td>\n",
       "      <td>-1.878847</td>\n",
       "      <td>0.382541</td>\n",
       "      <td>-0.137509</td>\n",
       "      <td>-0.481043</td>\n",
       "      <td>-0.081986</td>\n",
       "    </tr>\n",
       "    <tr>\n",
       "      <th>2</th>\n",
       "      <td>-0.937268</td>\n",
       "      <td>1.104598</td>\n",
       "      <td>-1.489800</td>\n",
       "      <td>-0.536064</td>\n",
       "      <td>-0.875171</td>\n",
       "      <td>-0.172192</td>\n",
       "      <td>-0.037176</td>\n",
       "    </tr>\n",
       "    <tr>\n",
       "      <th>3</th>\n",
       "      <td>-1.236771</td>\n",
       "      <td>1.946345</td>\n",
       "      <td>1.092355</td>\n",
       "      <td>0.147159</td>\n",
       "      <td>0.267376</td>\n",
       "      <td>-0.325199</td>\n",
       "      <td>-0.109963</td>\n",
       "    </tr>\n",
       "    <tr>\n",
       "      <th>4</th>\n",
       "      <td>-1.429877</td>\n",
       "      <td>1.189813</td>\n",
       "      <td>-1.465674</td>\n",
       "      <td>-0.681434</td>\n",
       "      <td>-0.846840</td>\n",
       "      <td>0.569179</td>\n",
       "      <td>0.041164</td>\n",
       "    </tr>\n",
       "  </tbody>\n",
       "</table>\n",
       "</div>"
      ],
      "text/plain": [
       "          0         1         2         3         4         5         6\n",
       "0 -1.408423  2.682074 -1.902591  0.273236 -0.108514 -0.491424 -0.048903\n",
       "1 -1.354927  2.647977 -1.878847  0.382541 -0.137509 -0.481043 -0.081986\n",
       "2 -0.937268  1.104598 -1.489800 -0.536064 -0.875171 -0.172192 -0.037176\n",
       "3 -1.236771  1.946345  1.092355  0.147159  0.267376 -0.325199 -0.109963\n",
       "4 -1.429877  1.189813 -1.465674 -0.681434 -0.846840  0.569179  0.041164"
      ]
     },
     "execution_count": 151,
     "metadata": {},
     "output_type": "execute_result"
    }
   ],
   "source": [
    "#get features\n",
    "Products_trans_scaled_noclusters = Products_trans_scaled.drop('cluster_label', axis=1)\n",
    "nr_features = Products_trans_scaled_noclusters.shape[1]\n",
    "pca = PCA(n_components=nr_features)\n",
    "Products_pca= pd.DataFrame(pca.fit_transform(Products_trans_scaled_noclusters))\n",
    "Products_pca.head()"
   ]
  },
  {
   "cell_type": "code",
   "execution_count": 152,
   "id": "22c5ad9e-b34c-45e1-95d1-f23c774e29f2",
   "metadata": {},
   "outputs": [
    {
     "data": {
      "text/html": [
       "<div>\n",
       "<style scoped>\n",
       "    .dataframe tbody tr th:only-of-type {\n",
       "        vertical-align: middle;\n",
       "    }\n",
       "\n",
       "    .dataframe tbody tr th {\n",
       "        vertical-align: top;\n",
       "    }\n",
       "\n",
       "    .dataframe thead th {\n",
       "        text-align: right;\n",
       "    }\n",
       "</style>\n",
       "<table border=\"1\" class=\"dataframe\">\n",
       "  <thead>\n",
       "    <tr style=\"text-align: right;\">\n",
       "      <th></th>\n",
       "      <th>0</th>\n",
       "      <th>1</th>\n",
       "      <th>2</th>\n",
       "      <th>3</th>\n",
       "      <th>4</th>\n",
       "      <th>5</th>\n",
       "      <th>6</th>\n",
       "    </tr>\n",
       "    <tr>\n",
       "      <th>Cust_ID</th>\n",
       "      <th></th>\n",
       "      <th></th>\n",
       "      <th></th>\n",
       "      <th></th>\n",
       "      <th></th>\n",
       "      <th></th>\n",
       "      <th></th>\n",
       "    </tr>\n",
       "  </thead>\n",
       "  <tbody>\n",
       "    <tr>\n",
       "      <th>4</th>\n",
       "      <td>-1.408423</td>\n",
       "      <td>2.682074</td>\n",
       "      <td>-1.902591</td>\n",
       "      <td>0.273236</td>\n",
       "      <td>-0.108514</td>\n",
       "      <td>-0.491424</td>\n",
       "      <td>-0.048903</td>\n",
       "    </tr>\n",
       "    <tr>\n",
       "      <th>5</th>\n",
       "      <td>-1.354927</td>\n",
       "      <td>2.647977</td>\n",
       "      <td>-1.878847</td>\n",
       "      <td>0.382541</td>\n",
       "      <td>-0.137509</td>\n",
       "      <td>-0.481043</td>\n",
       "      <td>-0.081986</td>\n",
       "    </tr>\n",
       "    <tr>\n",
       "      <th>6</th>\n",
       "      <td>-0.937268</td>\n",
       "      <td>1.104598</td>\n",
       "      <td>-1.489800</td>\n",
       "      <td>-0.536064</td>\n",
       "      <td>-0.875171</td>\n",
       "      <td>-0.172192</td>\n",
       "      <td>-0.037176</td>\n",
       "    </tr>\n",
       "    <tr>\n",
       "      <th>9</th>\n",
       "      <td>-1.236771</td>\n",
       "      <td>1.946345</td>\n",
       "      <td>1.092355</td>\n",
       "      <td>0.147159</td>\n",
       "      <td>0.267376</td>\n",
       "      <td>-0.325199</td>\n",
       "      <td>-0.109963</td>\n",
       "    </tr>\n",
       "    <tr>\n",
       "      <th>10</th>\n",
       "      <td>-1.429877</td>\n",
       "      <td>1.189813</td>\n",
       "      <td>-1.465674</td>\n",
       "      <td>-0.681434</td>\n",
       "      <td>-0.846840</td>\n",
       "      <td>0.569179</td>\n",
       "      <td>0.041164</td>\n",
       "    </tr>\n",
       "  </tbody>\n",
       "</table>\n",
       "</div>"
      ],
      "text/plain": [
       "                0         1         2         3         4         5         6\n",
       "Cust_ID                                                                      \n",
       "4       -1.408423  2.682074 -1.902591  0.273236 -0.108514 -0.491424 -0.048903\n",
       "5       -1.354927  2.647977 -1.878847  0.382541 -0.137509 -0.481043 -0.081986\n",
       "6       -0.937268  1.104598 -1.489800 -0.536064 -0.875171 -0.172192 -0.037176\n",
       "9       -1.236771  1.946345  1.092355  0.147159  0.267376 -0.325199 -0.109963\n",
       "10      -1.429877  1.189813 -1.465674 -0.681434 -0.846840  0.569179  0.041164"
      ]
     },
     "execution_count": 152,
     "metadata": {},
     "output_type": "execute_result"
    }
   ],
   "source": [
    "#recover index values\n",
    "Products_pca.index = Products_trans_scaled.index\n",
    "Products_pca.head()"
   ]
  },
  {
   "cell_type": "code",
   "execution_count": 153,
   "id": "4424cea2-2e66-4a70-b529-51a0860f111e",
   "metadata": {},
   "outputs": [
    {
     "name": "stdout",
     "output_type": "stream",
     "text": [
      "PCA Summary\n",
      "No. of features:  7\n",
      "No. of samples:  3936\n",
      "No. of components:  7\n",
      "Explained variance ratio:  [0.29584245 0.27445803 0.16030744 0.12490417 0.08717623 0.05419417\n",
      " 0.0031175 ]\n"
     ]
    }
   ],
   "source": [
    "# Print the results\n",
    "print('PCA Summary')\n",
    "print('No. of features: ', Products_pca.shape[1])\n",
    "print('No. of samples: ', Products_pca.shape[0])\n",
    "print('No. of components: ', pca.n_components_)\n",
    "print('Explained variance ratio: ', pca.explained_variance_ratio_)"
   ]
  },
  {
   "cell_type": "code",
   "execution_count": 154,
   "id": "a2b81dbf-2f2c-4666-bfcb-f8698d2f9414",
   "metadata": {},
   "outputs": [
    {
     "name": "stdout",
     "output_type": "stream",
     "text": [
      "Cumulative variance ratio over PCs:  [0.2958424532618348, 0.5703004785895556, 0.7306079147587692, 0.8555120885427875, 0.9426883228948733, 0.9968824971660045, 1.0000000000000002]\n"
     ]
    }
   ],
   "source": [
    "#let's analyze how many components we should keep\n",
    "#plot cumulative explained variance\n",
    "cum_variance=[]\n",
    "for i, value in enumerate(pca.explained_variance_ratio_):\n",
    "    if i==0:\n",
    "        cum_variance.append(value)\n",
    "    else:\n",
    "        cum_variance.append(value+cum_variance[i-1])\n",
    "print('Cumulative variance ratio over PCs: ', cum_variance)"
   ]
  },
  {
   "cell_type": "code",
   "execution_count": 155,
   "id": "8615d8b4-9193-440f-a4f2-520f36aa653f",
   "metadata": {},
   "outputs": [
    {
     "data": {
      "image/png": "[encoded data removed]",
      "text/plain": [
       "<Figure size 640x480 with 1 Axes>"
      ]
     },
     "metadata": {},
     "output_type": "display_data"
    }
   ],
   "source": [
    "#Graphical representation of PCs' cumulative variance ratio\n",
    "sns.barplot(data=cum_variance)\n",
    "plt.title('Cumulative Explained Variance')\n",
    "plt.xlabel('Principal Component')\n",
    "plt.ylabel('Explained Variance (%)')\n",
    "plt.show()"
   ]
  },
  {
   "cell_type": "code",
   "execution_count": 156,
   "id": "84d6035b-6d86-4554-bd72-9e7bbeb71faf",
   "metadata": {},
   "outputs": [
    {
     "name": "stdout",
     "output_type": "stream",
     "text": [
      "the cumulative explained variance of the first 2 PCs is: 0.57\n"
     ]
    }
   ],
   "source": [
    "print(f'the cumulative explained variance of the first 2 PCs is: {cum_variance[1]:.2f}')"
   ]
  },
  {
   "cell_type": "code",
   "execution_count": 158,
   "id": "ca1fcdef-18e1-4003-b387-526624f0d50b",
   "metadata": {},
   "outputs": [
    {
     "data": {
      "image/png": "[encoded data removed]",
      "text/plain": [
       "<Figure size 640x480 with 1 Axes>"
      ]
     },
     "metadata": {},
     "output_type": "display_data"
    }
   ],
   "source": [
    "#look at clusters in 2D, with clustering with 2 components\n",
    "sns.scatterplot(data=Products_pca, x=Products_pca[0], y=Products_pca[1], hue=Products_trans_scaled['cluster_label'])\n",
    "plt.xlabel('PC1')\n",
    "plt.ylabel('PC2')\n",
    "plt.title('K-Means Clustering of 2D PCA-Transformed Data')\n",
    "plt.show()"
   ]
  },
  {
   "cell_type": "code",
   "execution_count": null,
   "id": "1e73f12c-5ded-446f-93cf-f1388402a2ea",
   "metadata": {},
   "outputs": [],
   "source": []
  }
 ],
 "metadata": {
  "kernelspec": {
   "display_name": "Python 3 (ipykernel)",
   "language": "python",
   "name": "python3"
  },
  "language_info": {
   "codemirror_mode": {
    "name": "ipython",
    "version": 3
   },
   "file_extension": ".py",
   "mimetype": "text/x-python",
   "name": "python",
   "nbconvert_exporter": "python",
   "pygments_lexer": "ipython3",
   "version": "3.12.2"
  }
 },
 "nbformat": 4,
 "nbformat_minor": 5
}
