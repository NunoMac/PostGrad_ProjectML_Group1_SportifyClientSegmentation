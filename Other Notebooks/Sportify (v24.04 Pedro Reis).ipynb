{
 "cells": [
  {
   "cell_type": "code",
   "execution_count": 1,
   "id": "455d6b21",
   "metadata": {},
   "outputs": [],
   "source": [
    "import pandas as pd\n",
    "import numpy as np\n",
    "import matplotlib.pyplot as plt\n",
    "import seaborn as sns\n",
    "from sklearn.cluster import KMeans\n",
    "from sklearn.metrics.pairwise import euclidean_distances\n",
    "from datetime import datetime\n",
    "from scipy.cluster import hierarchy\n",
    "from sklearn.preprocessing import MinMaxScaler\n",
    "from sklearn.impute import KNNImputer\n",
    "from sklearn.decomposition import PCA\n",
    "from sklearn.preprocessing import StandardScaler\n",
    "from sklearn.metrics import silhouette_score"
   ]
  },
  {
   "cell_type": "markdown",
   "id": "055c2b4f",
   "metadata": {},
   "source": [
    "**Passo 1 - Importar os dados**"
   ]
  },
  {
   "cell_type": "code",
   "execution_count": 3,
   "id": "49b2f616",
   "metadata": {},
   "outputs": [
    {
     "data": {
      "text/html": [
       "<div>\n",
       "<style scoped>\n",
       "    .dataframe tbody tr th:only-of-type {\n",
       "        vertical-align: middle;\n",
       "    }\n",
       "\n",
       "    .dataframe tbody tr th {\n",
       "        vertical-align: top;\n",
       "    }\n",
       "\n",
       "    .dataframe thead th {\n",
       "        text-align: right;\n",
       "    }\n",
       "</style>\n",
       "<table border=\"1\" class=\"dataframe\">\n",
       "  <thead>\n",
       "    <tr style=\"text-align: right;\">\n",
       "      <th></th>\n",
       "      <th>Email_Clicks</th>\n",
       "      <th>SM_Comments</th>\n",
       "      <th>App_Clicks</th>\n",
       "      <th>SM_Likes</th>\n",
       "      <th>SM_Shares</th>\n",
       "      <th>SM_Clicks</th>\n",
       "    </tr>\n",
       "    <tr>\n",
       "      <th>Cust_ID</th>\n",
       "      <th></th>\n",
       "      <th></th>\n",
       "      <th></th>\n",
       "      <th></th>\n",
       "      <th></th>\n",
       "      <th></th>\n",
       "    </tr>\n",
       "  </thead>\n",
       "  <tbody>\n",
       "    <tr>\n",
       "      <th>4</th>\n",
       "      <td>72</td>\n",
       "      <td>1</td>\n",
       "      <td>7</td>\n",
       "      <td>7</td>\n",
       "      <td>1.0</td>\n",
       "      <td>73</td>\n",
       "    </tr>\n",
       "    <tr>\n",
       "      <th>5</th>\n",
       "      <td>15</td>\n",
       "      <td>20</td>\n",
       "      <td>1</td>\n",
       "      <td>35</td>\n",
       "      <td>15.0</td>\n",
       "      <td>16</td>\n",
       "    </tr>\n",
       "    <tr>\n",
       "      <th>6</th>\n",
       "      <td>9</td>\n",
       "      <td>7</td>\n",
       "      <td>3</td>\n",
       "      <td>73</td>\n",
       "      <td>19.0</td>\n",
       "      <td>10</td>\n",
       "    </tr>\n",
       "    <tr>\n",
       "      <th>9</th>\n",
       "      <td>67</td>\n",
       "      <td>0</td>\n",
       "      <td>2</td>\n",
       "      <td>0</td>\n",
       "      <td>1.0</td>\n",
       "      <td>101</td>\n",
       "    </tr>\n",
       "    <tr>\n",
       "      <th>10</th>\n",
       "      <td>38</td>\n",
       "      <td>0</td>\n",
       "      <td>1</td>\n",
       "      <td>9</td>\n",
       "      <td>0.0</td>\n",
       "      <td>56</td>\n",
       "    </tr>\n",
       "    <tr>\n",
       "      <th>...</th>\n",
       "      <td>...</td>\n",
       "      <td>...</td>\n",
       "      <td>...</td>\n",
       "      <td>...</td>\n",
       "      <td>...</td>\n",
       "      <td>...</td>\n",
       "    </tr>\n",
       "    <tr>\n",
       "      <th>6489</th>\n",
       "      <td>13</td>\n",
       "      <td>14</td>\n",
       "      <td>1</td>\n",
       "      <td>83</td>\n",
       "      <td>22.0</td>\n",
       "      <td>13</td>\n",
       "    </tr>\n",
       "    <tr>\n",
       "      <th>6491</th>\n",
       "      <td>17</td>\n",
       "      <td>13</td>\n",
       "      <td>2</td>\n",
       "      <td>22</td>\n",
       "      <td>21.0</td>\n",
       "      <td>7</td>\n",
       "    </tr>\n",
       "    <tr>\n",
       "      <th>6492</th>\n",
       "      <td>34</td>\n",
       "      <td>1</td>\n",
       "      <td>2</td>\n",
       "      <td>1</td>\n",
       "      <td>2.0</td>\n",
       "      <td>53</td>\n",
       "    </tr>\n",
       "    <tr>\n",
       "      <th>6495</th>\n",
       "      <td>12</td>\n",
       "      <td>17</td>\n",
       "      <td>0</td>\n",
       "      <td>15</td>\n",
       "      <td>11.0</td>\n",
       "      <td>11</td>\n",
       "    </tr>\n",
       "    <tr>\n",
       "      <th>6496</th>\n",
       "      <td>10</td>\n",
       "      <td>10</td>\n",
       "      <td>2</td>\n",
       "      <td>25</td>\n",
       "      <td>21.0</td>\n",
       "      <td>15</td>\n",
       "    </tr>\n",
       "  </tbody>\n",
       "</table>\n",
       "<p>4000 rows × 6 columns</p>\n",
       "</div>"
      ],
      "text/plain": [
       "         Email_Clicks  SM_Comments  App_Clicks  SM_Likes  SM_Shares  SM_Clicks\n",
       "Cust_ID                                                                       \n",
       "4                  72            1           7         7        1.0         73\n",
       "5                  15           20           1        35       15.0         16\n",
       "6                   9            7           3        73       19.0         10\n",
       "9                  67            0           2         0        1.0        101\n",
       "10                 38            0           1         9        0.0         56\n",
       "...               ...          ...         ...       ...        ...        ...\n",
       "6489               13           14           1        83       22.0         13\n",
       "6491               17           13           2        22       21.0          7\n",
       "6492               34            1           2         1        2.0         53\n",
       "6495               12           17           0        15       11.0         11\n",
       "6496               10           10           2        25       21.0         15\n",
       "\n",
       "[4000 rows x 6 columns]"
      ]
     },
     "execution_count": 3,
     "metadata": {},
     "output_type": "execute_result"
    }
   ],
   "source": [
    "Digital_Contact=pd.read_csv(\"data/Digital_Contact.csv\", delimiter=\";\")\n",
    "Digital_Contact.set_index('Cust_ID', inplace = True)\n",
    "Digital_Contact"
   ]
  },
  {
   "cell_type": "code",
   "execution_count": 4,
   "id": "c19b472e",
   "metadata": {},
   "outputs": [
    {
     "data": {
      "text/html": [
       "<div>\n",
       "<style scoped>\n",
       "    .dataframe tbody tr th:only-of-type {\n",
       "        vertical-align: middle;\n",
       "    }\n",
       "\n",
       "    .dataframe tbody tr th {\n",
       "        vertical-align: top;\n",
       "    }\n",
       "\n",
       "    .dataframe thead th {\n",
       "        text-align: right;\n",
       "    }\n",
       "</style>\n",
       "<table border=\"1\" class=\"dataframe\">\n",
       "  <thead>\n",
       "    <tr style=\"text-align: right;\">\n",
       "      <th></th>\n",
       "      <th>Email_Clicks</th>\n",
       "      <th>SM_Comments</th>\n",
       "      <th>App_Clicks</th>\n",
       "      <th>SM_Likes</th>\n",
       "      <th>SM_Shares</th>\n",
       "      <th>SM_Clicks</th>\n",
       "    </tr>\n",
       "    <tr>\n",
       "      <th>Cust_ID</th>\n",
       "      <th></th>\n",
       "      <th></th>\n",
       "      <th></th>\n",
       "      <th></th>\n",
       "      <th></th>\n",
       "      <th></th>\n",
       "    </tr>\n",
       "  </thead>\n",
       "  <tbody>\n",
       "  </tbody>\n",
       "</table>\n",
       "</div>"
      ],
      "text/plain": [
       "Empty DataFrame\n",
       "Columns: [Email_Clicks, SM_Comments, App_Clicks, SM_Likes, SM_Shares, SM_Clicks]\n",
       "Index: []"
      ]
     },
     "execution_count": 4,
     "metadata": {},
     "output_type": "execute_result"
    }
   ],
   "source": [
    "Digital_Contact[Digital_Contact.duplicated()]\n",
    "#não vejo duplicados, logo não há problemas com linhas repetidas."
   ]
  },
  {
   "cell_type": "markdown",
   "id": "7eb9ca63-6c68-4f3f-983d-e25f72063082",
   "metadata": {},
   "source": [
    "Products=pd.read_excel(\"Products.xlsx\")\n",
    "Products.set_index('Cust_ID', inplace = True)\n",
    "Products"
   ]
  },
  {
   "cell_type": "markdown",
   "id": "cc236030-1e18-4604-8c61-1e73250e24bd",
   "metadata": {},
   "source": [
    "Products[Products.duplicated()]\n",
    "#vejo duplicados, então vou remover estas transações e seguir com 1 novo DF."
   ]
  },
  {
   "cell_type": "markdown",
   "id": "4cd12854-d688-4874-b74f-a5746070d4fc",
   "metadata": {},
   "source": [
    "duplicadas = Products[Products.duplicated(keep=False)]\n",
    "duplicadas"
   ]
  },
  {
   "cell_type": "markdown",
   "id": "daee6c56-75b9-47f2-956a-8cfe304d2120",
   "metadata": {},
   "source": [
    "Demographic=pd.read_csv(\"Demographic.txt\", sep='\\t')\n",
    "Demographic.set_index(\"Cust_ID\", inplace=True)\n",
    "Demographic"
   ]
  },
  {
   "cell_type": "markdown",
   "id": "d16f65ea-0703-4fd9-a6fa-5bd8c7021302",
   "metadata": {},
   "source": [
    "Demographic[Demographic.duplicated()]\n",
    "#não vejo duplicados, logo não há problemas com linhas repetidas."
   ]
  },
  {
   "cell_type": "markdown",
   "id": "dc9e7a7b",
   "metadata": {},
   "source": [
    "**Visualização de Característias básicas dos DF**"
   ]
  },
  {
   "cell_type": "code",
   "execution_count": 5,
   "id": "4297a94a",
   "metadata": {},
   "outputs": [
    {
     "data": {
      "text/html": [
       "<div>\n",
       "<style scoped>\n",
       "    .dataframe tbody tr th:only-of-type {\n",
       "        vertical-align: middle;\n",
       "    }\n",
       "\n",
       "    .dataframe tbody tr th {\n",
       "        vertical-align: top;\n",
       "    }\n",
       "\n",
       "    .dataframe thead th {\n",
       "        text-align: right;\n",
       "    }\n",
       "</style>\n",
       "<table border=\"1\" class=\"dataframe\">\n",
       "  <thead>\n",
       "    <tr style=\"text-align: right;\">\n",
       "      <th></th>\n",
       "      <th>Email_Clicks</th>\n",
       "      <th>SM_Comments</th>\n",
       "      <th>App_Clicks</th>\n",
       "      <th>SM_Likes</th>\n",
       "      <th>SM_Shares</th>\n",
       "      <th>SM_Clicks</th>\n",
       "    </tr>\n",
       "  </thead>\n",
       "  <tbody>\n",
       "    <tr>\n",
       "      <th>count</th>\n",
       "      <td>4000.00000</td>\n",
       "      <td>4000.000000</td>\n",
       "      <td>4000.000000</td>\n",
       "      <td>4000.000000</td>\n",
       "      <td>3961.000000</td>\n",
       "      <td>4000.000000</td>\n",
       "    </tr>\n",
       "    <tr>\n",
       "      <th>mean</th>\n",
       "      <td>25.76225</td>\n",
       "      <td>8.247750</td>\n",
       "      <td>19.526500</td>\n",
       "      <td>26.957000</td>\n",
       "      <td>8.355971</td>\n",
       "      <td>30.349250</td>\n",
       "    </tr>\n",
       "    <tr>\n",
       "      <th>std</th>\n",
       "      <td>23.65998</td>\n",
       "      <td>8.064963</td>\n",
       "      <td>34.237945</td>\n",
       "      <td>27.742658</td>\n",
       "      <td>8.696192</td>\n",
       "      <td>32.254974</td>\n",
       "    </tr>\n",
       "    <tr>\n",
       "      <th>min</th>\n",
       "      <td>0.00000</td>\n",
       "      <td>0.000000</td>\n",
       "      <td>0.000000</td>\n",
       "      <td>0.000000</td>\n",
       "      <td>0.000000</td>\n",
       "      <td>0.000000</td>\n",
       "    </tr>\n",
       "    <tr>\n",
       "      <th>25%</th>\n",
       "      <td>8.00000</td>\n",
       "      <td>1.000000</td>\n",
       "      <td>2.000000</td>\n",
       "      <td>4.000000</td>\n",
       "      <td>1.000000</td>\n",
       "      <td>7.000000</td>\n",
       "    </tr>\n",
       "    <tr>\n",
       "      <th>50%</th>\n",
       "      <td>16.00000</td>\n",
       "      <td>4.000000</td>\n",
       "      <td>4.000000</td>\n",
       "      <td>11.000000</td>\n",
       "      <td>2.000000</td>\n",
       "      <td>15.000000</td>\n",
       "    </tr>\n",
       "    <tr>\n",
       "      <th>75%</th>\n",
       "      <td>36.00000</td>\n",
       "      <td>15.000000</td>\n",
       "      <td>7.000000</td>\n",
       "      <td>50.000000</td>\n",
       "      <td>16.000000</td>\n",
       "      <td>60.000000</td>\n",
       "    </tr>\n",
       "    <tr>\n",
       "      <th>max</th>\n",
       "      <td>86.00000</td>\n",
       "      <td>24.000000</td>\n",
       "      <td>127.000000</td>\n",
       "      <td>88.000000</td>\n",
       "      <td>26.000000</td>\n",
       "      <td>102.000000</td>\n",
       "    </tr>\n",
       "  </tbody>\n",
       "</table>\n",
       "</div>"
      ],
      "text/plain": [
       "       Email_Clicks  SM_Comments   App_Clicks     SM_Likes    SM_Shares  \\\n",
       "count    4000.00000  4000.000000  4000.000000  4000.000000  3961.000000   \n",
       "mean       25.76225     8.247750    19.526500    26.957000     8.355971   \n",
       "std        23.65998     8.064963    34.237945    27.742658     8.696192   \n",
       "min         0.00000     0.000000     0.000000     0.000000     0.000000   \n",
       "25%         8.00000     1.000000     2.000000     4.000000     1.000000   \n",
       "50%        16.00000     4.000000     4.000000    11.000000     2.000000   \n",
       "75%        36.00000    15.000000     7.000000    50.000000    16.000000   \n",
       "max        86.00000    24.000000   127.000000    88.000000    26.000000   \n",
       "\n",
       "         SM_Clicks  \n",
       "count  4000.000000  \n",
       "mean     30.349250  \n",
       "std      32.254974  \n",
       "min       0.000000  \n",
       "25%       7.000000  \n",
       "50%      15.000000  \n",
       "75%      60.000000  \n",
       "max     102.000000  "
      ]
     },
     "execution_count": 5,
     "metadata": {},
     "output_type": "execute_result"
    }
   ],
   "source": [
    "Digital_Contact.describe()"
   ]
  },
  {
   "cell_type": "code",
   "execution_count": 6,
   "id": "fc8d201a",
   "metadata": {},
   "outputs": [
    {
     "name": "stdout",
     "output_type": "stream",
     "text": [
      "<class 'pandas.core.frame.DataFrame'>\n",
      "Index: 4000 entries, 4 to 6496\n",
      "Data columns (total 6 columns):\n",
      " #   Column        Non-Null Count  Dtype  \n",
      "---  ------        --------------  -----  \n",
      " 0   Email_Clicks  4000 non-null   int64  \n",
      " 1   SM_Comments   4000 non-null   int64  \n",
      " 2   App_Clicks    4000 non-null   int64  \n",
      " 3   SM_Likes      4000 non-null   int64  \n",
      " 4   SM_Shares     3961 non-null   float64\n",
      " 5   SM_Clicks     4000 non-null   int64  \n",
      "dtypes: float64(1), int64(5)\n",
      "memory usage: 218.8 KB\n"
     ]
    }
   ],
   "source": [
    "Digital_Contact.info()"
   ]
  },
  {
   "cell_type": "markdown",
   "id": "75f1ee80",
   "metadata": {},
   "source": [
    "Vemos que faltam 9 valores no 'SM_Shares'. Temos de preender de alguma forma, ou alternativamente, apagar essas linhas, umas ve z que são menos de 1%."
   ]
  },
  {
   "cell_type": "markdown",
   "id": "b9beeba8-e3ed-43fe-b7fa-99aecfb72935",
   "metadata": {},
   "source": [
    "Products.describe()"
   ]
  },
  {
   "cell_type": "markdown",
   "id": "fd090778-5a12-4315-8beb-5ae1e27487ad",
   "metadata": {},
   "source": [
    "Products.info()"
   ]
  },
  {
   "cell_type": "markdown",
   "id": "da09c3fc-e799-4b7f-a6df-9acdb8ffaed2",
   "metadata": {},
   "source": [
    "Demographic.describe()"
   ]
  },
  {
   "cell_type": "markdown",
   "id": "89549876-9d32-4f8a-ace3-c8f689d655ac",
   "metadata": {},
   "source": [
    "Demographic.info()"
   ]
  },
  {
   "cell_type": "markdown",
   "id": "9cef514f-9bb0-44eb-aa1d-c30ed82400c3",
   "metadata": {},
   "source": [
    "Products.skew()"
   ]
  },
  {
   "cell_type": "markdown",
   "id": "7a572e6b",
   "metadata": {},
   "source": [
    "O Hiking&Running tem um skew eleveado, o que significa que é pouco simétrico, com cauda à direita. tem outliers"
   ]
  },
  {
   "cell_type": "markdown",
   "id": "df2ea77b-4ce3-4cc0-b234-554f44716251",
   "metadata": {},
   "source": [
    "Products.kurt()"
   ]
  },
  {
   "cell_type": "code",
   "execution_count": 7,
   "id": "3f887ddd",
   "metadata": {},
   "outputs": [
    {
     "data": {
      "text/plain": [
       "Email_Clicks    1.102590\n",
       "SM_Comments     0.582926\n",
       "App_Clicks      1.824939\n",
       "SM_Likes        0.785024\n",
       "SM_Shares       0.632466\n",
       "SM_Clicks       0.958356\n",
       "dtype: float64"
      ]
     },
     "execution_count": 7,
     "metadata": {},
     "output_type": "execute_result"
    }
   ],
   "source": [
    "Digital_Contact.skew()"
   ]
  },
  {
   "cell_type": "code",
   "execution_count": 8,
   "id": "bcefd29a",
   "metadata": {},
   "outputs": [
    {
     "data": {
      "text/plain": [
       "Email_Clicks    0.053571\n",
       "SM_Comments    -1.171921\n",
       "App_Clicks      1.900722\n",
       "SM_Likes       -0.844043\n",
       "SM_Shares      -1.119464\n",
       "SM_Clicks      -0.696066\n",
       "dtype: float64"
      ]
     },
     "execution_count": 8,
     "metadata": {},
     "output_type": "execute_result"
    }
   ],
   "source": [
    "Digital_Contact.kurt()"
   ]
  },
  {
   "cell_type": "markdown",
   "id": "c79ee674-3762-4d4d-b633-78da69a29ce4",
   "metadata": {},
   "source": [
    "Demographic.skew()"
   ]
  },
  {
   "cell_type": "markdown",
   "id": "894b26dd-644a-41b1-9fb5-08ed92662d12",
   "metadata": {},
   "source": [
    "Demographic.kurt()"
   ]
  },
  {
   "cell_type": "markdown",
   "id": "0f793427",
   "metadata": {},
   "source": [
    "**Passo 2- Pré-processadamente dos DF**"
   ]
  },
  {
   "cell_type": "markdown",
   "id": "174a1ee7",
   "metadata": {},
   "source": [
    "No Df Digital_Contact temos valores em branco na SM_Shares, e são valores separados por . Tratarmos com o KNN Imputer."
   ]
  },
  {
   "cell_type": "code",
   "execution_count": 4,
   "id": "b68fba86",
   "metadata": {},
   "outputs": [],
   "source": [
    "# Selecione as colunas relevantes para o KNN Imputer\n",
    "cols_para_imputer = ['SM_Shares', 'SM_Comments', 'SM_Likes', 'SM_Clicks']\n",
    "\n",
    "# Subset do DataFrame para as colunas relevantes\n",
    "df_para_imputer = Digital_Contact[cols_para_imputer]\n",
    "# Configurar o imputer\n",
    "imputer = KNNImputer(n_neighbors=5, weights='uniform')  # 'distance' também é uma opção\n",
    "# Aplicar o KNN Imputer\n",
    "df_imputed = imputer.fit_transform(df_para_imputer)\n",
    "\n",
    "# Converter a matriz para um DataFrame\n",
    "df_imputed = pd.DataFrame(df_imputed, columns=cols_para_imputer, index=Digital_Contact.index)\n",
    "\n",
    "# Atualizar o DataFrame original\n",
    "Digital_Contact.update(df_imputed)  # Atualiza com os valores preenchidos\n",
    "# Arredondar os valores para o inteiro mais próximo\n",
    "Digital_Contact['SM_Shares'] = Digital_Contact['SM_Shares'].round()\n",
    "\n",
    "# Converter para tipo inteiro (int64)\n",
    "Digital_Contact['SM_Shares'] = Digital_Contact['SM_Shares'].astype('int64')"
   ]
  },
  {
   "cell_type": "code",
   "execution_count": null,
   "id": "d8057627",
   "metadata": {},
   "outputs": [],
   "source": []
  },
  {
   "cell_type": "markdown",
   "id": "af6995f1",
   "metadata": {},
   "source": [
    "No Df Products, criamos 1) Coluna de Total de Gasto, 2) Gasto médio por produto e 3) Trocamos data de última compra por #dias desde da última compra (assumindo 21-04-2024) 4) Removemos os duplicados 5) Deixar cair a coluna 'TotalProducts' porque não dá grande informação."
   ]
  },
  {
   "cell_type": "markdown",
   "id": "0ffda863-18d2-4a32-a06a-c6af9fbbb934",
   "metadata": {},
   "source": [
    "# Criar a nova coluna \"Total_Expensed\" com a soma das colunas especificadas\n",
    "Products['Total_Expensed'] = Products[['Fitness&Gym', 'Hiking&Running', 'TeamGames', 'OutdoorActivities']].sum(axis=1)"
   ]
  },
  {
   "cell_type": "markdown",
   "id": "3da485d1-5549-4d28-9c81-b4d2d32a7ac4",
   "metadata": {},
   "source": [
    "Products['Avg_Spent']=Products['Total_Expensed']/Products['TotalProducts']\n",
    "Products['Avg_Spent'] = np.ceil(Products['Avg_Spent'])  # Arredondar para cima\n",
    "Products['Avg_Spent']=Products['Avg_Spent'].astype(int)\n",
    "Products"
   ]
  },
  {
   "cell_type": "markdown",
   "id": "5e90f23c-5a37-4e3e-8b70-5ee0d4405293",
   "metadata": {},
   "source": [
    "Products['Last_Purchase'] = pd.to_datetime(Products['Last_Purchase'])\n",
    "today = pd.Timestamp(datetime.today().date())  # ou pd.Timestamp('today')\n",
    "Products['Days_Since_Last_Purchase'] = (today - Products['Last_Purchase']).dt.days\n",
    "Products.drop('Last_Purchase', axis=1, inplace=True)\n",
    "Products"
   ]
  },
  {
   "cell_type": "markdown",
   "id": "5677d9ab-d550-4361-9325-4f4e1fc0cabb",
   "metadata": {},
   "source": [
    "Produtos_unicos=Products.copy()\n",
    "# Remover linhas duplicadas no DataFrame Products\n",
    "Produtos_unicos.drop_duplicates(inplace=True)\n",
    "Produtos_unicos.drop('TotalProducts', axis=1, inplace=True)\n",
    "# Exibir o DataFrame para verificar se as duplicatas foram removidas\n",
    "Produtos_unicos"
   ]
  },
  {
   "cell_type": "markdown",
   "id": "d148de64",
   "metadata": {},
   "source": [
    "No Demographic, temos 1) Birmingham mal escrito, 2) Número de dependentes como 2 (é variável binária), 3) Localidade desconhecida, 4) Falta da Coluna \"Sexo\" 5) Trocar Education Level por numerico e 6) Trocar City Por numérico"
   ]
  },
  {
   "cell_type": "markdown",
   "id": "fee71781",
   "metadata": {},
   "source": [
    "1) Correção de Brimingham"
   ]
  },
  {
   "cell_type": "markdown",
   "id": "d6c9ef8c-1b62-4be2-b358-06ebc8c5ac02",
   "metadata": {},
   "source": [
    "Demographic['City']=Demographic['City'].replace('Brimingham', 'Birmingham')\n",
    "Demographic['City'].value_counts()"
   ]
  },
  {
   "cell_type": "markdown",
   "id": "e8ce4625",
   "metadata": {},
   "source": [
    "2) Correção do # de dependentes"
   ]
  },
  {
   "cell_type": "markdown",
   "id": "e7a3ae7d-9996-4eab-8cdd-997357661c98",
   "metadata": {},
   "source": [
    "Demographic['dependents'].value_counts()"
   ]
  },
  {
   "cell_type": "markdown",
   "id": "1e3eece3-8a6f-43bc-a96a-b1a8be6a4288",
   "metadata": {},
   "source": [
    "Demographic.loc[Demographic['dependents'] == 2, 'dependents'] = 1\n",
    "Demographic['dependents'].value_counts()"
   ]
  },
  {
   "cell_type": "markdown",
   "id": "38b34a0d",
   "metadata": {},
   "source": [
    "3) Localidade desconhecida"
   ]
  },
  {
   "cell_type": "markdown",
   "id": "daa710fb-6b79-4642-bd9f-11bba4f87f91",
   "metadata": {},
   "source": [
    "# Substituir valores NaN na coluna 'City' por 'Other location'\n",
    "Demographic['City'].fillna(\"Other location\", inplace=True)\n",
    "Demographic['City'].value_counts()"
   ]
  },
  {
   "cell_type": "markdown",
   "id": "3d128055",
   "metadata": {},
   "source": [
    "4) Criar coluna Sexo com base no nome"
   ]
  },
  {
   "cell_type": "markdown",
   "id": "554bd577-8d96-4008-9332-e67fd5806156",
   "metadata": {},
   "source": [
    "# Função para determinar o sexo com base no nome\n",
    "def determinar_sexo(name):\n",
    "    if name.startswith('Mr'):\n",
    "        return 'male'\n",
    "    else:\n",
    "        return 'female'\n",
    "\n",
    "# Aplicar a função à coluna 'name' para criar a nova coluna 'sex'\n",
    "Demographic['sex'] = Demographic['name'].apply(determinar_sexo)\n",
    "Demographic['sex'].value_counts()"
   ]
  },
  {
   "cell_type": "markdown",
   "id": "447bb87e",
   "metadata": {},
   "source": [
    "5. Corrigir Education"
   ]
  },
  {
   "cell_type": "markdown",
   "id": "247be948-ba25-4ec0-bb75-539c901b99e1",
   "metadata": {},
   "source": [
    "# Criar um dicionário para mapear os valores de texto para números\n",
    "education_mapping = {\n",
    "    'PHD': 'PhD',\n",
    "    'PhD':'PhD',\n",
    "    'Bachelor':'Bachelor',\n",
    "    'High School':'High School',\n",
    "    'high school': 'High School',\n",
    "    'Master':'Master',\n",
    "    'less than high school':'less than high school',\n",
    "    }\n",
    "\n",
    "# Aplicar o mapeamento na coluna 'education_level'\n",
    "Demographic['education_level'] = Demographic['education_level'].map(education_mapping)\n",
    "Demographic['education_level'].value_counts()"
   ]
  },
  {
   "cell_type": "markdown",
   "id": "2edcfebf-d038-45c9-bf1e-b4de9903b5cb",
   "metadata": {},
   "source": [
    "Demographic.info()"
   ]
  },
  {
   "cell_type": "markdown",
   "id": "ae28a192",
   "metadata": {},
   "source": [
    "6. Trocar City por numérico"
   ]
  },
  {
   "cell_type": "markdown",
   "id": "ee63ba15-a805-41bd-9023-7067c4383a8b",
   "metadata": {},
   "source": [
    "city_mapping = {\n",
    "    'Other location': 0,\n",
    "    'Birmingham': 1,\n",
    "    'London': 2\n",
    "}\n",
    "\n",
    "# Aplicar o mapeamento no DataFrame\n",
    "Demographic['City_number'] = Demographic['City'].map(city_mapping)"
   ]
  },
  {
   "cell_type": "markdown",
   "id": "00456ecc-4e71-41db-94d4-125e40044491",
   "metadata": {},
   "source": [
    "sex_mapping = {\n",
    "    'female': 0,\n",
    "    'male': 1,\n",
    "    \n",
    "}\n",
    "\n",
    "# Aplicar o mapeamento no DataFrame\n",
    "Demographic['sex_number'] = Demographic['sex'].map(sex_mapping)"
   ]
  },
  {
   "cell_type": "markdown",
   "id": "a7fa83de-d437-4885-93f4-0c6f47ca89d9",
   "metadata": {},
   "source": [
    "Demographic['age'] = 2024 - Demographic['birth_year']\n",
    "\n",
    "# Mostrar as primeiras linhas para verificar se está correto\n",
    "print(Demographic[['birth_year', 'age']].head())\n",
    "Demographic.drop('birth_year', axis=1, inplace=True)"
   ]
  },
  {
   "cell_type": "markdown",
   "id": "eba73fc6-81c2-4186-8600-d0b76dad536b",
   "metadata": {},
   "source": [
    "# Criar um dicionário para mapear os valores de texto para números\n",
    "education_mapping_2 = {\n",
    "    'PhD':5,\n",
    "    'Bachelor':3,\n",
    "    'High School':2,\n",
    "    'Master':4,\n",
    "    'less than high school':1,\n",
    "    }\n",
    "\n",
    "# Aplicar o mapeamento na coluna 'education_level'\n",
    "Demographic['education_level_number'] = Demographic['education_level'].map(education_mapping_2)\n",
    "Demographic['education_level_number'].value_counts()"
   ]
  },
  {
   "cell_type": "markdown",
   "id": "5bfd6736-ac60-4ce0-a498-8a81e97b915f",
   "metadata": {},
   "source": [
    "stop"
   ]
  },
  {
   "cell_type": "markdown",
   "id": "b2930a41",
   "metadata": {},
   "source": [
    "**Digital Contact DF**"
   ]
  },
  {
   "cell_type": "markdown",
   "id": "82668b79",
   "metadata": {},
   "source": [
    "Identificar o número de Clusters"
   ]
  },
  {
   "cell_type": "code",
   "execution_count": 6,
   "id": "b8c5d2ce",
   "metadata": {},
   "outputs": [
    {
     "name": "stderr",
     "output_type": "stream",
     "text": [
      "C:\\Users\\pedro.reis\\AppData\\Local\\anaconda3\\Lib\\site-packages\\sklearn\\cluster\\_kmeans.py:1412: FutureWarning: The default value of `n_init` will change from 10 to 'auto' in 1.4. Set the value of `n_init` explicitly to suppress the warning\n",
      "  super()._check_params_vs_input(X, default_n_init=10)\n",
      "C:\\Users\\pedro.reis\\AppData\\Local\\anaconda3\\Lib\\site-packages\\sklearn\\cluster\\_kmeans.py:1412: FutureWarning: The default value of `n_init` will change from 10 to 'auto' in 1.4. Set the value of `n_init` explicitly to suppress the warning\n",
      "  super()._check_params_vs_input(X, default_n_init=10)\n",
      "C:\\Users\\pedro.reis\\AppData\\Local\\anaconda3\\Lib\\site-packages\\sklearn\\cluster\\_kmeans.py:1412: FutureWarning: The default value of `n_init` will change from 10 to 'auto' in 1.4. Set the value of `n_init` explicitly to suppress the warning\n",
      "  super()._check_params_vs_input(X, default_n_init=10)\n",
      "C:\\Users\\pedro.reis\\AppData\\Local\\anaconda3\\Lib\\site-packages\\sklearn\\cluster\\_kmeans.py:1412: FutureWarning: The default value of `n_init` will change from 10 to 'auto' in 1.4. Set the value of `n_init` explicitly to suppress the warning\n",
      "  super()._check_params_vs_input(X, default_n_init=10)\n",
      "C:\\Users\\pedro.reis\\AppData\\Local\\anaconda3\\Lib\\site-packages\\sklearn\\cluster\\_kmeans.py:1412: FutureWarning: The default value of `n_init` will change from 10 to 'auto' in 1.4. Set the value of `n_init` explicitly to suppress the warning\n",
      "  super()._check_params_vs_input(X, default_n_init=10)\n",
      "C:\\Users\\pedro.reis\\AppData\\Local\\anaconda3\\Lib\\site-packages\\sklearn\\cluster\\_kmeans.py:1412: FutureWarning: The default value of `n_init` will change from 10 to 'auto' in 1.4. Set the value of `n_init` explicitly to suppress the warning\n",
      "  super()._check_params_vs_input(X, default_n_init=10)\n",
      "C:\\Users\\pedro.reis\\AppData\\Local\\anaconda3\\Lib\\site-packages\\sklearn\\cluster\\_kmeans.py:1412: FutureWarning: The default value of `n_init` will change from 10 to 'auto' in 1.4. Set the value of `n_init` explicitly to suppress the warning\n",
      "  super()._check_params_vs_input(X, default_n_init=10)\n",
      "C:\\Users\\pedro.reis\\AppData\\Local\\anaconda3\\Lib\\site-packages\\sklearn\\cluster\\_kmeans.py:1412: FutureWarning: The default value of `n_init` will change from 10 to 'auto' in 1.4. Set the value of `n_init` explicitly to suppress the warning\n",
      "  super()._check_params_vs_input(X, default_n_init=10)\n",
      "C:\\Users\\pedro.reis\\AppData\\Local\\anaconda3\\Lib\\site-packages\\sklearn\\cluster\\_kmeans.py:1412: FutureWarning: The default value of `n_init` will change from 10 to 'auto' in 1.4. Set the value of `n_init` explicitly to suppress the warning\n",
      "  super()._check_params_vs_input(X, default_n_init=10)\n"
     ]
    },
    {
     "data": {
      "image/png": "[encoded data removed]",
      "text/plain": [
       "<Figure size 640x480 with 1 Axes>"
      ]
     },
     "metadata": {},
     "output_type": "display_data"
    }
   ],
   "source": [
    "ks_digital = range(1, 10)\n",
    "inertias_digital = []\n",
    "\n",
    "for k in ks_digital:\n",
    "    model_digital = KMeans(n_clusters=k).fit(Digital_Contact)\n",
    "    inertias_digital.append(model_digital.inertia_)\n",
    "\n",
    "    \n",
    "# Plotar a curva de cotovelo\n",
    "plt.plot(ks_digital, inertias_digital, '-o')\n",
    "plt.xlabel('Número de Clusters, k')\n",
    "plt.ylabel('Inércia')\n",
    "plt.title('Método do Cotovelo para Determinar o Número de Clusters')\n",
    "plt.xticks(ks_digital)\n",
    "plt.show()\n",
    "\n",
    "#pelo grafico, 3 parece ser o número certo de Klusters porque é onde a curva estabiliza"
   ]
  },
  {
   "cell_type": "markdown",
   "id": "f3767a02",
   "metadata": {},
   "source": [
    "Pelo gráfico, 3 ou 4 parece o número correto de Clusters para o DF Digital."
   ]
  },
  {
   "cell_type": "code",
   "execution_count": 12,
   "id": "18eefa18",
   "metadata": {},
   "outputs": [
    {
     "name": "stderr",
     "output_type": "stream",
     "text": [
      "C:\\Users\\pedro.reis\\AppData\\Local\\anaconda3\\Lib\\site-packages\\sklearn\\cluster\\_kmeans.py:1412: FutureWarning: The default value of `n_init` will change from 10 to 'auto' in 1.4. Set the value of `n_init` explicitly to suppress the warning\n",
      "  super()._check_params_vs_input(X, default_n_init=10)\n"
     ]
    }
   ],
   "source": [
    "Digital_Contact_k3= KMeans(n_clusters=3, random_state = 100).fit(Digital_Contact)"
   ]
  },
  {
   "cell_type": "code",
   "execution_count": 13,
   "id": "d5d90642",
   "metadata": {},
   "outputs": [
    {
     "data": {
      "text/html": [
       "<div>\n",
       "<style scoped>\n",
       "    .dataframe tbody tr th:only-of-type {\n",
       "        vertical-align: middle;\n",
       "    }\n",
       "\n",
       "    .dataframe tbody tr th {\n",
       "        vertical-align: top;\n",
       "    }\n",
       "\n",
       "    .dataframe thead th {\n",
       "        text-align: right;\n",
       "    }\n",
       "</style>\n",
       "<table border=\"1\" class=\"dataframe\">\n",
       "  <thead>\n",
       "    <tr style=\"text-align: right;\">\n",
       "      <th></th>\n",
       "      <th>Email_Clicks</th>\n",
       "      <th>SM_Comments</th>\n",
       "      <th>App_Clicks</th>\n",
       "      <th>SM_Likes</th>\n",
       "      <th>SM_Shares</th>\n",
       "      <th>SM_Clicks</th>\n",
       "      <th>label_digital</th>\n",
       "    </tr>\n",
       "    <tr>\n",
       "      <th>Cust_ID</th>\n",
       "      <th></th>\n",
       "      <th></th>\n",
       "      <th></th>\n",
       "      <th></th>\n",
       "      <th></th>\n",
       "      <th></th>\n",
       "      <th></th>\n",
       "    </tr>\n",
       "  </thead>\n",
       "  <tbody>\n",
       "    <tr>\n",
       "      <th>4</th>\n",
       "      <td>72</td>\n",
       "      <td>1</td>\n",
       "      <td>7</td>\n",
       "      <td>7</td>\n",
       "      <td>1</td>\n",
       "      <td>73</td>\n",
       "      <td>1</td>\n",
       "    </tr>\n",
       "    <tr>\n",
       "      <th>5</th>\n",
       "      <td>15</td>\n",
       "      <td>20</td>\n",
       "      <td>1</td>\n",
       "      <td>35</td>\n",
       "      <td>15</td>\n",
       "      <td>16</td>\n",
       "      <td>2</td>\n",
       "    </tr>\n",
       "    <tr>\n",
       "      <th>6</th>\n",
       "      <td>9</td>\n",
       "      <td>7</td>\n",
       "      <td>3</td>\n",
       "      <td>73</td>\n",
       "      <td>19</td>\n",
       "      <td>10</td>\n",
       "      <td>2</td>\n",
       "    </tr>\n",
       "    <tr>\n",
       "      <th>9</th>\n",
       "      <td>67</td>\n",
       "      <td>0</td>\n",
       "      <td>2</td>\n",
       "      <td>0</td>\n",
       "      <td>1</td>\n",
       "      <td>101</td>\n",
       "      <td>1</td>\n",
       "    </tr>\n",
       "    <tr>\n",
       "      <th>10</th>\n",
       "      <td>38</td>\n",
       "      <td>0</td>\n",
       "      <td>1</td>\n",
       "      <td>9</td>\n",
       "      <td>0</td>\n",
       "      <td>56</td>\n",
       "      <td>1</td>\n",
       "    </tr>\n",
       "    <tr>\n",
       "      <th>...</th>\n",
       "      <td>...</td>\n",
       "      <td>...</td>\n",
       "      <td>...</td>\n",
       "      <td>...</td>\n",
       "      <td>...</td>\n",
       "      <td>...</td>\n",
       "      <td>...</td>\n",
       "    </tr>\n",
       "    <tr>\n",
       "      <th>6489</th>\n",
       "      <td>13</td>\n",
       "      <td>14</td>\n",
       "      <td>1</td>\n",
       "      <td>83</td>\n",
       "      <td>22</td>\n",
       "      <td>13</td>\n",
       "      <td>2</td>\n",
       "    </tr>\n",
       "    <tr>\n",
       "      <th>6491</th>\n",
       "      <td>17</td>\n",
       "      <td>13</td>\n",
       "      <td>2</td>\n",
       "      <td>22</td>\n",
       "      <td>21</td>\n",
       "      <td>7</td>\n",
       "      <td>2</td>\n",
       "    </tr>\n",
       "    <tr>\n",
       "      <th>6492</th>\n",
       "      <td>34</td>\n",
       "      <td>1</td>\n",
       "      <td>2</td>\n",
       "      <td>1</td>\n",
       "      <td>2</td>\n",
       "      <td>53</td>\n",
       "      <td>1</td>\n",
       "    </tr>\n",
       "    <tr>\n",
       "      <th>6495</th>\n",
       "      <td>12</td>\n",
       "      <td>17</td>\n",
       "      <td>0</td>\n",
       "      <td>15</td>\n",
       "      <td>11</td>\n",
       "      <td>11</td>\n",
       "      <td>2</td>\n",
       "    </tr>\n",
       "    <tr>\n",
       "      <th>6496</th>\n",
       "      <td>10</td>\n",
       "      <td>10</td>\n",
       "      <td>2</td>\n",
       "      <td>25</td>\n",
       "      <td>21</td>\n",
       "      <td>15</td>\n",
       "      <td>2</td>\n",
       "    </tr>\n",
       "  </tbody>\n",
       "</table>\n",
       "<p>4000 rows × 7 columns</p>\n",
       "</div>"
      ],
      "text/plain": [
       "         Email_Clicks  SM_Comments  App_Clicks  SM_Likes  SM_Shares  \\\n",
       "Cust_ID                                                               \n",
       "4                  72            1           7         7          1   \n",
       "5                  15           20           1        35         15   \n",
       "6                   9            7           3        73         19   \n",
       "9                  67            0           2         0          1   \n",
       "10                 38            0           1         9          0   \n",
       "...               ...          ...         ...       ...        ...   \n",
       "6489               13           14           1        83         22   \n",
       "6491               17           13           2        22         21   \n",
       "6492               34            1           2         1          2   \n",
       "6495               12           17           0        15         11   \n",
       "6496               10           10           2        25         21   \n",
       "\n",
       "         SM_Clicks  label_digital  \n",
       "Cust_ID                            \n",
       "4               73              1  \n",
       "5               16              2  \n",
       "6               10              2  \n",
       "9              101              1  \n",
       "10              56              1  \n",
       "...            ...            ...  \n",
       "6489            13              2  \n",
       "6491             7              2  \n",
       "6492            53              1  \n",
       "6495            11              2  \n",
       "6496            15              2  \n",
       "\n",
       "[4000 rows x 7 columns]"
      ]
     },
     "execution_count": 13,
     "metadata": {},
     "output_type": "execute_result"
    }
   ],
   "source": [
    "Digital_Contact['label_digital']=Digital_Contact_k3.labels_\n",
    "Digital_Contact #temos 3 klusters, portanto temos valores 0,1 ou 2!"
   ]
  },
  {
   "cell_type": "code",
   "execution_count": 18,
   "id": "8c9dd0d4",
   "metadata": {},
   "outputs": [
    {
     "name": "stderr",
     "output_type": "stream",
     "text": [
      "C:\\Users\\pedro.reis\\AppData\\Local\\anaconda3\\Lib\\site-packages\\sklearn\\cluster\\_kmeans.py:1412: FutureWarning: The default value of `n_init` will change from 10 to 'auto' in 1.4. Set the value of `n_init` explicitly to suppress the warning\n",
      "  super()._check_params_vs_input(X, default_n_init=10)\n",
      "C:\\Users\\pedro.reis\\AppData\\Local\\anaconda3\\Lib\\site-packages\\sklearn\\cluster\\_kmeans.py:1412: FutureWarning: The default value of `n_init` will change from 10 to 'auto' in 1.4. Set the value of `n_init` explicitly to suppress the warning\n",
      "  super()._check_params_vs_input(X, default_n_init=10)\n",
      "C:\\Users\\pedro.reis\\AppData\\Local\\anaconda3\\Lib\\site-packages\\sklearn\\cluster\\_kmeans.py:1412: FutureWarning: The default value of `n_init` will change from 10 to 'auto' in 1.4. Set the value of `n_init` explicitly to suppress the warning\n",
      "  super()._check_params_vs_input(X, default_n_init=10)\n",
      "C:\\Users\\pedro.reis\\AppData\\Local\\anaconda3\\Lib\\site-packages\\sklearn\\cluster\\_kmeans.py:1412: FutureWarning: The default value of `n_init` will change from 10 to 'auto' in 1.4. Set the value of `n_init` explicitly to suppress the warning\n",
      "  super()._check_params_vs_input(X, default_n_init=10)\n"
     ]
    },
    {
     "data": {
      "image/png": "[encoded data removed]",
      "text/plain": [
       "<Figure size 640x480 with 1 Axes>"
      ]
     },
     "metadata": {},
     "output_type": "display_data"
    }
   ],
   "source": [
    "features = Digital_Contact.drop(columns=['label_digital'])  \n",
    "\n",
    "silhouette_scores_digital = []\n",
    "k_values_digital = range(2, 6)\n",
    "for k in k_values_digital:\n",
    "    kmeans = KMeans(n_clusters=k, random_state=42)\n",
    "    cluster_labels = kmeans.fit_predict(features)\n",
    "    silhouette_avg = silhouette_score(features, cluster_labels)\n",
    "    silhouette_scores_digital.append(silhouette_avg)\n",
    "\n",
    "plt.figure()\n",
    "plt.plot(k_values_digital, silhouette_scores_digital, marker='o', linestyle='-', color='b')\n",
    "plt.title('Silhouette Scores para diferentes valores de k')\n",
    "plt.xlabel('Número de clusters (k)')\n",
    "plt.ylabel('Silhouette Score')\n",
    "plt.show()"
   ]
  },
  {
   "cell_type": "markdown",
   "id": "f081ad1b",
   "metadata": {},
   "source": [
    "Confirmarmos que são 3 o número ideal de Clusters para o DF Digital_Contact"
   ]
  },
  {
   "cell_type": "code",
   "execution_count": 9,
   "id": "86ddefbf",
   "metadata": {},
   "outputs": [
    {
     "ename": "KeyError",
     "evalue": "'label_digital'",
     "output_type": "error",
     "traceback": [
      "\u001b[1;31m---------------------------------------------------------------------------\u001b[0m",
      "\u001b[1;31mKeyError\u001b[0m                                  Traceback (most recent call last)",
      "Cell \u001b[1;32mIn[9], line 1\u001b[0m\n\u001b[1;32m----> 1\u001b[0m \u001b[43mDigital_Contact\u001b[49m\u001b[38;5;241;43m.\u001b[39;49m\u001b[43mgroupby\u001b[49m\u001b[43m(\u001b[49m\u001b[43m[\u001b[49m\u001b[38;5;124;43m'\u001b[39;49m\u001b[38;5;124;43mlabel_digital\u001b[39;49m\u001b[38;5;124;43m'\u001b[39;49m\u001b[43m]\u001b[49m\u001b[43m)\u001b[49m\u001b[38;5;241m.\u001b[39mmean()\u001b[38;5;241m.\u001b[39mtranspose()\n",
      "File \u001b[1;32m~\\anaconda3\\envs\\ds\\Lib\\site-packages\\pandas\\core\\frame.py:9170\u001b[0m, in \u001b[0;36mDataFrame.groupby\u001b[1;34m(self, by, axis, level, as_index, sort, group_keys, observed, dropna)\u001b[0m\n\u001b[0;32m   9167\u001b[0m \u001b[38;5;28;01mif\u001b[39;00m level \u001b[38;5;129;01mis\u001b[39;00m \u001b[38;5;28;01mNone\u001b[39;00m \u001b[38;5;129;01mand\u001b[39;00m by \u001b[38;5;129;01mis\u001b[39;00m \u001b[38;5;28;01mNone\u001b[39;00m:\n\u001b[0;32m   9168\u001b[0m     \u001b[38;5;28;01mraise\u001b[39;00m \u001b[38;5;167;01mTypeError\u001b[39;00m(\u001b[38;5;124m\"\u001b[39m\u001b[38;5;124mYou have to supply one of \u001b[39m\u001b[38;5;124m'\u001b[39m\u001b[38;5;124mby\u001b[39m\u001b[38;5;124m'\u001b[39m\u001b[38;5;124m and \u001b[39m\u001b[38;5;124m'\u001b[39m\u001b[38;5;124mlevel\u001b[39m\u001b[38;5;124m'\u001b[39m\u001b[38;5;124m\"\u001b[39m)\n\u001b[1;32m-> 9170\u001b[0m \u001b[38;5;28;01mreturn\u001b[39;00m \u001b[43mDataFrameGroupBy\u001b[49m\u001b[43m(\u001b[49m\n\u001b[0;32m   9171\u001b[0m \u001b[43m    \u001b[49m\u001b[43mobj\u001b[49m\u001b[38;5;241;43m=\u001b[39;49m\u001b[38;5;28;43mself\u001b[39;49m\u001b[43m,\u001b[49m\n\u001b[0;32m   9172\u001b[0m \u001b[43m    \u001b[49m\u001b[43mkeys\u001b[49m\u001b[38;5;241;43m=\u001b[39;49m\u001b[43mby\u001b[49m\u001b[43m,\u001b[49m\n\u001b[0;32m   9173\u001b[0m \u001b[43m    \u001b[49m\u001b[43maxis\u001b[49m\u001b[38;5;241;43m=\u001b[39;49m\u001b[43maxis\u001b[49m\u001b[43m,\u001b[49m\n\u001b[0;32m   9174\u001b[0m \u001b[43m    \u001b[49m\u001b[43mlevel\u001b[49m\u001b[38;5;241;43m=\u001b[39;49m\u001b[43mlevel\u001b[49m\u001b[43m,\u001b[49m\n\u001b[0;32m   9175\u001b[0m \u001b[43m    \u001b[49m\u001b[43mas_index\u001b[49m\u001b[38;5;241;43m=\u001b[39;49m\u001b[43mas_index\u001b[49m\u001b[43m,\u001b[49m\n\u001b[0;32m   9176\u001b[0m \u001b[43m    \u001b[49m\u001b[43msort\u001b[49m\u001b[38;5;241;43m=\u001b[39;49m\u001b[43msort\u001b[49m\u001b[43m,\u001b[49m\n\u001b[0;32m   9177\u001b[0m \u001b[43m    \u001b[49m\u001b[43mgroup_keys\u001b[49m\u001b[38;5;241;43m=\u001b[39;49m\u001b[43mgroup_keys\u001b[49m\u001b[43m,\u001b[49m\n\u001b[0;32m   9178\u001b[0m \u001b[43m    \u001b[49m\u001b[43mobserved\u001b[49m\u001b[38;5;241;43m=\u001b[39;49m\u001b[43mobserved\u001b[49m\u001b[43m,\u001b[49m\n\u001b[0;32m   9179\u001b[0m \u001b[43m    \u001b[49m\u001b[43mdropna\u001b[49m\u001b[38;5;241;43m=\u001b[39;49m\u001b[43mdropna\u001b[49m\u001b[43m,\u001b[49m\n\u001b[0;32m   9180\u001b[0m \u001b[43m\u001b[49m\u001b[43m)\u001b[49m\n",
      "File \u001b[1;32m~\\anaconda3\\envs\\ds\\Lib\\site-packages\\pandas\\core\\groupby\\groupby.py:1329\u001b[0m, in \u001b[0;36mGroupBy.__init__\u001b[1;34m(self, obj, keys, axis, level, grouper, exclusions, selection, as_index, sort, group_keys, observed, dropna)\u001b[0m\n\u001b[0;32m   1326\u001b[0m \u001b[38;5;28mself\u001b[39m\u001b[38;5;241m.\u001b[39mdropna \u001b[38;5;241m=\u001b[39m dropna\n\u001b[0;32m   1328\u001b[0m \u001b[38;5;28;01mif\u001b[39;00m grouper \u001b[38;5;129;01mis\u001b[39;00m \u001b[38;5;28;01mNone\u001b[39;00m:\n\u001b[1;32m-> 1329\u001b[0m     grouper, exclusions, obj \u001b[38;5;241m=\u001b[39m \u001b[43mget_grouper\u001b[49m\u001b[43m(\u001b[49m\n\u001b[0;32m   1330\u001b[0m \u001b[43m        \u001b[49m\u001b[43mobj\u001b[49m\u001b[43m,\u001b[49m\n\u001b[0;32m   1331\u001b[0m \u001b[43m        \u001b[49m\u001b[43mkeys\u001b[49m\u001b[43m,\u001b[49m\n\u001b[0;32m   1332\u001b[0m \u001b[43m        \u001b[49m\u001b[43maxis\u001b[49m\u001b[38;5;241;43m=\u001b[39;49m\u001b[43maxis\u001b[49m\u001b[43m,\u001b[49m\n\u001b[0;32m   1333\u001b[0m \u001b[43m        \u001b[49m\u001b[43mlevel\u001b[49m\u001b[38;5;241;43m=\u001b[39;49m\u001b[43mlevel\u001b[49m\u001b[43m,\u001b[49m\n\u001b[0;32m   1334\u001b[0m \u001b[43m        \u001b[49m\u001b[43msort\u001b[49m\u001b[38;5;241;43m=\u001b[39;49m\u001b[43msort\u001b[49m\u001b[43m,\u001b[49m\n\u001b[0;32m   1335\u001b[0m \u001b[43m        \u001b[49m\u001b[43mobserved\u001b[49m\u001b[38;5;241;43m=\u001b[39;49m\u001b[38;5;28;43;01mFalse\u001b[39;49;00m\u001b[43m \u001b[49m\u001b[38;5;28;43;01mif\u001b[39;49;00m\u001b[43m \u001b[49m\u001b[43mobserved\u001b[49m\u001b[43m \u001b[49m\u001b[38;5;129;43;01mis\u001b[39;49;00m\u001b[43m \u001b[49m\u001b[43mlib\u001b[49m\u001b[38;5;241;43m.\u001b[39;49m\u001b[43mno_default\u001b[49m\u001b[43m \u001b[49m\u001b[38;5;28;43;01melse\u001b[39;49;00m\u001b[43m \u001b[49m\u001b[43mobserved\u001b[49m\u001b[43m,\u001b[49m\n\u001b[0;32m   1336\u001b[0m \u001b[43m        \u001b[49m\u001b[43mdropna\u001b[49m\u001b[38;5;241;43m=\u001b[39;49m\u001b[38;5;28;43mself\u001b[39;49m\u001b[38;5;241;43m.\u001b[39;49m\u001b[43mdropna\u001b[49m\u001b[43m,\u001b[49m\n\u001b[0;32m   1337\u001b[0m \u001b[43m    \u001b[49m\u001b[43m)\u001b[49m\n\u001b[0;32m   1339\u001b[0m \u001b[38;5;28;01mif\u001b[39;00m observed \u001b[38;5;129;01mis\u001b[39;00m lib\u001b[38;5;241m.\u001b[39mno_default:\n\u001b[0;32m   1340\u001b[0m     \u001b[38;5;28;01mif\u001b[39;00m \u001b[38;5;28many\u001b[39m(ping\u001b[38;5;241m.\u001b[39m_passed_categorical \u001b[38;5;28;01mfor\u001b[39;00m ping \u001b[38;5;129;01min\u001b[39;00m grouper\u001b[38;5;241m.\u001b[39mgroupings):\n",
      "File \u001b[1;32m~\\anaconda3\\envs\\ds\\Lib\\site-packages\\pandas\\core\\groupby\\grouper.py:1043\u001b[0m, in \u001b[0;36mget_grouper\u001b[1;34m(obj, key, axis, level, sort, observed, validate, dropna)\u001b[0m\n\u001b[0;32m   1041\u001b[0m         in_axis, level, gpr \u001b[38;5;241m=\u001b[39m \u001b[38;5;28;01mFalse\u001b[39;00m, gpr, \u001b[38;5;28;01mNone\u001b[39;00m\n\u001b[0;32m   1042\u001b[0m     \u001b[38;5;28;01melse\u001b[39;00m:\n\u001b[1;32m-> 1043\u001b[0m         \u001b[38;5;28;01mraise\u001b[39;00m \u001b[38;5;167;01mKeyError\u001b[39;00m(gpr)\n\u001b[0;32m   1044\u001b[0m \u001b[38;5;28;01melif\u001b[39;00m \u001b[38;5;28misinstance\u001b[39m(gpr, Grouper) \u001b[38;5;129;01mand\u001b[39;00m gpr\u001b[38;5;241m.\u001b[39mkey \u001b[38;5;129;01mis\u001b[39;00m \u001b[38;5;129;01mnot\u001b[39;00m \u001b[38;5;28;01mNone\u001b[39;00m:\n\u001b[0;32m   1045\u001b[0m     \u001b[38;5;66;03m# Add key to exclusions\u001b[39;00m\n\u001b[0;32m   1046\u001b[0m     exclusions\u001b[38;5;241m.\u001b[39madd(gpr\u001b[38;5;241m.\u001b[39mkey)\n",
      "\u001b[1;31mKeyError\u001b[0m: 'label_digital'"
     ]
    }
   ],
   "source": [
    "Digital_Contact.groupby(['label_digital']).mean().transpose()"
   ]
  },
  {
   "cell_type": "code",
   "execution_count": 20,
   "id": "7f245a0f",
   "metadata": {},
   "outputs": [
    {
     "data": {
      "text/html": [
       "<div>\n",
       "<style scoped>\n",
       "    .dataframe tbody tr th:only-of-type {\n",
       "        vertical-align: middle;\n",
       "    }\n",
       "\n",
       "    .dataframe tbody tr th {\n",
       "        vertical-align: top;\n",
       "    }\n",
       "\n",
       "    .dataframe thead th {\n",
       "        text-align: right;\n",
       "    }\n",
       "</style>\n",
       "<table border=\"1\" class=\"dataframe\">\n",
       "  <thead>\n",
       "    <tr style=\"text-align: right;\">\n",
       "      <th></th>\n",
       "      <th>label_digital</th>\n",
       "      <th>0</th>\n",
       "      <th>1</th>\n",
       "      <th>2</th>\n",
       "    </tr>\n",
       "  </thead>\n",
       "  <tbody>\n",
       "    <tr>\n",
       "      <th rowspan=\"8\" valign=\"top\">Email_Clicks</th>\n",
       "      <th>count</th>\n",
       "      <td>854.000000</td>\n",
       "      <td>1243.000000</td>\n",
       "      <td>1903.000000</td>\n",
       "    </tr>\n",
       "    <tr>\n",
       "      <th>mean</th>\n",
       "      <td>18.124122</td>\n",
       "      <td>55.628319</td>\n",
       "      <td>9.682081</td>\n",
       "    </tr>\n",
       "    <tr>\n",
       "      <th>std</th>\n",
       "      <td>10.313994</td>\n",
       "      <td>18.741488</td>\n",
       "      <td>5.663851</td>\n",
       "    </tr>\n",
       "    <tr>\n",
       "      <th>min</th>\n",
       "      <td>0.000000</td>\n",
       "      <td>23.000000</td>\n",
       "      <td>0.000000</td>\n",
       "    </tr>\n",
       "    <tr>\n",
       "      <th>25%</th>\n",
       "      <td>10.000000</td>\n",
       "      <td>40.000000</td>\n",
       "      <td>5.000000</td>\n",
       "    </tr>\n",
       "    <tr>\n",
       "      <th>50%</th>\n",
       "      <td>18.000000</td>\n",
       "      <td>55.000000</td>\n",
       "      <td>10.000000</td>\n",
       "    </tr>\n",
       "    <tr>\n",
       "      <th>75%</th>\n",
       "      <td>26.000000</td>\n",
       "      <td>72.000000</td>\n",
       "      <td>15.000000</td>\n",
       "    </tr>\n",
       "    <tr>\n",
       "      <th>max</th>\n",
       "      <td>36.000000</td>\n",
       "      <td>86.000000</td>\n",
       "      <td>19.000000</td>\n",
       "    </tr>\n",
       "    <tr>\n",
       "      <th rowspan=\"8\" valign=\"top\">SM_Comments</th>\n",
       "      <th>count</th>\n",
       "      <td>854.000000</td>\n",
       "      <td>1243.000000</td>\n",
       "      <td>1903.000000</td>\n",
       "    </tr>\n",
       "    <tr>\n",
       "      <th>mean</th>\n",
       "      <td>2.010539</td>\n",
       "      <td>0.998391</td>\n",
       "      <td>15.781923</td>\n",
       "    </tr>\n",
       "    <tr>\n",
       "      <th>std</th>\n",
       "      <td>1.418726</td>\n",
       "      <td>0.815508</td>\n",
       "      <td>5.178136</td>\n",
       "    </tr>\n",
       "    <tr>\n",
       "      <th>min</th>\n",
       "      <td>0.000000</td>\n",
       "      <td>0.000000</td>\n",
       "      <td>7.000000</td>\n",
       "    </tr>\n",
       "    <tr>\n",
       "      <th>25%</th>\n",
       "      <td>1.000000</td>\n",
       "      <td>0.000000</td>\n",
       "      <td>11.000000</td>\n",
       "    </tr>\n",
       "    <tr>\n",
       "      <th>50%</th>\n",
       "      <td>2.000000</td>\n",
       "      <td>1.000000</td>\n",
       "      <td>16.000000</td>\n",
       "    </tr>\n",
       "    <tr>\n",
       "      <th>75%</th>\n",
       "      <td>3.000000</td>\n",
       "      <td>2.000000</td>\n",
       "      <td>20.000000</td>\n",
       "    </tr>\n",
       "    <tr>\n",
       "      <th>max</th>\n",
       "      <td>4.000000</td>\n",
       "      <td>2.000000</td>\n",
       "      <td>24.000000</td>\n",
       "    </tr>\n",
       "    <tr>\n",
       "      <th rowspan=\"8\" valign=\"top\">App_Clicks</th>\n",
       "      <th>count</th>\n",
       "      <td>854.000000</td>\n",
       "      <td>1243.000000</td>\n",
       "      <td>1903.000000</td>\n",
       "    </tr>\n",
       "    <tr>\n",
       "      <th>mean</th>\n",
       "      <td>80.827869</td>\n",
       "      <td>3.501207</td>\n",
       "      <td>2.483973</td>\n",
       "    </tr>\n",
       "    <tr>\n",
       "      <th>std</th>\n",
       "      <td>26.402904</td>\n",
       "      <td>2.274402</td>\n",
       "      <td>1.710557</td>\n",
       "    </tr>\n",
       "    <tr>\n",
       "      <th>min</th>\n",
       "      <td>37.000000</td>\n",
       "      <td>0.000000</td>\n",
       "      <td>0.000000</td>\n",
       "    </tr>\n",
       "    <tr>\n",
       "      <th>25%</th>\n",
       "      <td>58.000000</td>\n",
       "      <td>1.000000</td>\n",
       "      <td>1.000000</td>\n",
       "    </tr>\n",
       "    <tr>\n",
       "      <th>50%</th>\n",
       "      <td>79.000000</td>\n",
       "      <td>4.000000</td>\n",
       "      <td>3.000000</td>\n",
       "    </tr>\n",
       "    <tr>\n",
       "      <th>75%</th>\n",
       "      <td>105.000000</td>\n",
       "      <td>5.000000</td>\n",
       "      <td>4.000000</td>\n",
       "    </tr>\n",
       "    <tr>\n",
       "      <th>max</th>\n",
       "      <td>127.000000</td>\n",
       "      <td>7.000000</td>\n",
       "      <td>5.000000</td>\n",
       "    </tr>\n",
       "    <tr>\n",
       "      <th rowspan=\"8\" valign=\"top\">SM_Likes</th>\n",
       "      <th>count</th>\n",
       "      <td>854.000000</td>\n",
       "      <td>1243.000000</td>\n",
       "      <td>1903.000000</td>\n",
       "    </tr>\n",
       "    <tr>\n",
       "      <th>mean</th>\n",
       "      <td>3.339578</td>\n",
       "      <td>5.539019</td>\n",
       "      <td>51.545455</td>\n",
       "    </tr>\n",
       "    <tr>\n",
       "      <th>std</th>\n",
       "      <td>2.320085</td>\n",
       "      <td>3.509001</td>\n",
       "      <td>21.274826</td>\n",
       "    </tr>\n",
       "    <tr>\n",
       "      <th>min</th>\n",
       "      <td>0.000000</td>\n",
       "      <td>0.000000</td>\n",
       "      <td>15.000000</td>\n",
       "    </tr>\n",
       "    <tr>\n",
       "      <th>25%</th>\n",
       "      <td>1.000000</td>\n",
       "      <td>2.000000</td>\n",
       "      <td>33.000000</td>\n",
       "    </tr>\n",
       "    <tr>\n",
       "      <th>50%</th>\n",
       "      <td>3.000000</td>\n",
       "      <td>5.000000</td>\n",
       "      <td>52.000000</td>\n",
       "    </tr>\n",
       "    <tr>\n",
       "      <th>75%</th>\n",
       "      <td>5.000000</td>\n",
       "      <td>9.000000</td>\n",
       "      <td>70.000000</td>\n",
       "    </tr>\n",
       "    <tr>\n",
       "      <th>max</th>\n",
       "      <td>7.000000</td>\n",
       "      <td>11.000000</td>\n",
       "      <td>88.000000</td>\n",
       "    </tr>\n",
       "    <tr>\n",
       "      <th rowspan=\"8\" valign=\"top\">SM_Shares</th>\n",
       "      <th>count</th>\n",
       "      <td>854.000000</td>\n",
       "      <td>1243.000000</td>\n",
       "      <td>1903.000000</td>\n",
       "    </tr>\n",
       "    <tr>\n",
       "      <th>mean</th>\n",
       "      <td>0.983607</td>\n",
       "      <td>1.009654</td>\n",
       "      <td>16.466632</td>\n",
       "    </tr>\n",
       "    <tr>\n",
       "      <th>std</th>\n",
       "      <td>0.818722</td>\n",
       "      <td>0.822335</td>\n",
       "      <td>5.715643</td>\n",
       "    </tr>\n",
       "    <tr>\n",
       "      <th>min</th>\n",
       "      <td>0.000000</td>\n",
       "      <td>0.000000</td>\n",
       "      <td>7.000000</td>\n",
       "    </tr>\n",
       "    <tr>\n",
       "      <th>25%</th>\n",
       "      <td>0.000000</td>\n",
       "      <td>0.000000</td>\n",
       "      <td>12.000000</td>\n",
       "    </tr>\n",
       "    <tr>\n",
       "      <th>50%</th>\n",
       "      <td>1.000000</td>\n",
       "      <td>1.000000</td>\n",
       "      <td>16.000000</td>\n",
       "    </tr>\n",
       "    <tr>\n",
       "      <th>75%</th>\n",
       "      <td>2.000000</td>\n",
       "      <td>2.000000</td>\n",
       "      <td>21.000000</td>\n",
       "    </tr>\n",
       "    <tr>\n",
       "      <th>max</th>\n",
       "      <td>2.000000</td>\n",
       "      <td>2.000000</td>\n",
       "      <td>26.000000</td>\n",
       "    </tr>\n",
       "    <tr>\n",
       "      <th rowspan=\"8\" valign=\"top\">SM_Clicks</th>\n",
       "      <th>count</th>\n",
       "      <td>854.000000</td>\n",
       "      <td>1243.000000</td>\n",
       "      <td>1903.000000</td>\n",
       "    </tr>\n",
       "    <tr>\n",
       "      <th>mean</th>\n",
       "      <td>10.210773</td>\n",
       "      <td>76.072405</td>\n",
       "      <td>9.521282</td>\n",
       "    </tr>\n",
       "    <tr>\n",
       "      <th>std</th>\n",
       "      <td>6.426066</td>\n",
       "      <td>15.315509</td>\n",
       "      <td>5.775273</td>\n",
       "    </tr>\n",
       "    <tr>\n",
       "      <th>min</th>\n",
       "      <td>0.000000</td>\n",
       "      <td>50.000000</td>\n",
       "      <td>0.000000</td>\n",
       "    </tr>\n",
       "    <tr>\n",
       "      <th>25%</th>\n",
       "      <td>5.000000</td>\n",
       "      <td>63.000000</td>\n",
       "      <td>5.000000</td>\n",
       "    </tr>\n",
       "    <tr>\n",
       "      <th>50%</th>\n",
       "      <td>10.000000</td>\n",
       "      <td>76.000000</td>\n",
       "      <td>9.000000</td>\n",
       "    </tr>\n",
       "    <tr>\n",
       "      <th>75%</th>\n",
       "      <td>16.000000</td>\n",
       "      <td>90.000000</td>\n",
       "      <td>15.000000</td>\n",
       "    </tr>\n",
       "    <tr>\n",
       "      <th>max</th>\n",
       "      <td>21.000000</td>\n",
       "      <td>102.000000</td>\n",
       "      <td>19.000000</td>\n",
       "    </tr>\n",
       "  </tbody>\n",
       "</table>\n",
       "</div>"
      ],
      "text/plain": [
       "label_digital                0            1            2\n",
       "Email_Clicks count  854.000000  1243.000000  1903.000000\n",
       "             mean    18.124122    55.628319     9.682081\n",
       "             std     10.313994    18.741488     5.663851\n",
       "             min      0.000000    23.000000     0.000000\n",
       "             25%     10.000000    40.000000     5.000000\n",
       "             50%     18.000000    55.000000    10.000000\n",
       "             75%     26.000000    72.000000    15.000000\n",
       "             max     36.000000    86.000000    19.000000\n",
       "SM_Comments  count  854.000000  1243.000000  1903.000000\n",
       "             mean     2.010539     0.998391    15.781923\n",
       "             std      1.418726     0.815508     5.178136\n",
       "             min      0.000000     0.000000     7.000000\n",
       "             25%      1.000000     0.000000    11.000000\n",
       "             50%      2.000000     1.000000    16.000000\n",
       "             75%      3.000000     2.000000    20.000000\n",
       "             max      4.000000     2.000000    24.000000\n",
       "App_Clicks   count  854.000000  1243.000000  1903.000000\n",
       "             mean    80.827869     3.501207     2.483973\n",
       "             std     26.402904     2.274402     1.710557\n",
       "             min     37.000000     0.000000     0.000000\n",
       "             25%     58.000000     1.000000     1.000000\n",
       "             50%     79.000000     4.000000     3.000000\n",
       "             75%    105.000000     5.000000     4.000000\n",
       "             max    127.000000     7.000000     5.000000\n",
       "SM_Likes     count  854.000000  1243.000000  1903.000000\n",
       "             mean     3.339578     5.539019    51.545455\n",
       "             std      2.320085     3.509001    21.274826\n",
       "             min      0.000000     0.000000    15.000000\n",
       "             25%      1.000000     2.000000    33.000000\n",
       "             50%      3.000000     5.000000    52.000000\n",
       "             75%      5.000000     9.000000    70.000000\n",
       "             max      7.000000    11.000000    88.000000\n",
       "SM_Shares    count  854.000000  1243.000000  1903.000000\n",
       "             mean     0.983607     1.009654    16.466632\n",
       "             std      0.818722     0.822335     5.715643\n",
       "             min      0.000000     0.000000     7.000000\n",
       "             25%      0.000000     0.000000    12.000000\n",
       "             50%      1.000000     1.000000    16.000000\n",
       "             75%      2.000000     2.000000    21.000000\n",
       "             max      2.000000     2.000000    26.000000\n",
       "SM_Clicks    count  854.000000  1243.000000  1903.000000\n",
       "             mean    10.210773    76.072405     9.521282\n",
       "             std      6.426066    15.315509     5.775273\n",
       "             min      0.000000    50.000000     0.000000\n",
       "             25%      5.000000    63.000000     5.000000\n",
       "             50%     10.000000    76.000000     9.000000\n",
       "             75%     16.000000    90.000000    15.000000\n",
       "             max     21.000000   102.000000    19.000000"
      ]
     },
     "execution_count": 20,
     "metadata": {},
     "output_type": "execute_result"
    }
   ],
   "source": [
    "descr_digital=Digital_Contact.groupby(['label_digital']).describe().transpose()\n",
    "descr_digital"
   ]
  },
  {
   "cell_type": "code",
   "execution_count": 21,
   "id": "32ed9435",
   "metadata": {},
   "outputs": [
    {
     "data": {
      "text/plain": [
       "array([[  0.        , 108.30325369,  94.67149048],\n",
       "       [108.30325369,   0.        ,  95.47359148],\n",
       "       [ 94.67149048,  95.47359148,   0.        ]])"
      ]
     },
     "execution_count": 21,
     "metadata": {},
     "output_type": "execute_result"
    }
   ],
   "source": [
    "dists_digital = euclidean_distances(Digital_Contact_k3.cluster_centers_)\n",
    "dists_digital"
   ]
  },
  {
   "cell_type": "code",
   "execution_count": 22,
   "id": "7cda5970",
   "metadata": {},
   "outputs": [],
   "source": [
    "cluster0_digital=Digital_Contact[Digital_Contact['label_digital']==0]\n",
    "cluster1_digital=Digital_Contact[Digital_Contact['label_digital']==1]\n",
    "cluster2_digital=Digital_Contact[Digital_Contact['label_digital']==2]"
   ]
  },
  {
   "cell_type": "code",
   "execution_count": 25,
   "id": "c8e76431",
   "metadata": {},
   "outputs": [
    {
     "data": {
      "image/png": "[encoded data removed]",
      "text/plain": [
       "<Figure size 640x480 with 2 Axes>"
      ]
     },
     "metadata": {},
     "output_type": "display_data"
    }
   ],
   "source": [
    "plt.scatter(Digital_Contact['App_Clicks'], Digital_Contact['SM_Clicks'], c=Digital_Contact['label_digital'], s=100)\n",
    "plt.xlabel('App_Clicks')\n",
    "plt.ylabel('Email_Clicks')\n",
    "plt.title('Scatter Plot of Education Level vs. City')\n",
    "plt.colorbar(label='Cluster Label')  # Adicionar uma barra de cores para indicar os clusters\n",
    "plt.show()"
   ]
  },
  {
   "cell_type": "code",
   "execution_count": null,
   "id": "0b6f222b",
   "metadata": {},
   "outputs": [],
   "source": []
  },
  {
   "cell_type": "markdown",
   "id": "e5a0dcd1",
   "metadata": {},
   "source": [
    "**Products DF**"
   ]
  },
  {
   "cell_type": "code",
   "execution_count": null,
   "id": "414202ff",
   "metadata": {},
   "outputs": [],
   "source": [
    "# Calcular a matriz de correlação\n",
    "correlation_matrix_Products = Products.corr()\n",
    "\n",
    "plt.figure(figsize=(8, 6))\n",
    "sns.heatmap(correlation_matrix_Products, annot=True, cmap='coolwarm', fmt=\".2f\", linewidths=.5)\n",
    "plt.title('Correlação entre métricas Products')\n",
    "plt.show() #Vejo correlação mt forte entre Total_Expensed e TeamGames"
   ]
  },
  {
   "cell_type": "code",
   "execution_count": 11,
   "id": "3fec124a",
   "metadata": {},
   "outputs": [
    {
     "name": "stderr",
     "output_type": "stream",
     "text": [
      "C:\\Users\\pedro.reis\\AppData\\Local\\anaconda3\\Lib\\site-packages\\sklearn\\cluster\\_kmeans.py:1412: FutureWarning: The default value of `n_init` will change from 10 to 'auto' in 1.4. Set the value of `n_init` explicitly to suppress the warning\n",
      "  super()._check_params_vs_input(X, default_n_init=10)\n",
      "C:\\Users\\pedro.reis\\AppData\\Local\\anaconda3\\Lib\\site-packages\\sklearn\\cluster\\_kmeans.py:1412: FutureWarning: The default value of `n_init` will change from 10 to 'auto' in 1.4. Set the value of `n_init` explicitly to suppress the warning\n",
      "  super()._check_params_vs_input(X, default_n_init=10)\n",
      "C:\\Users\\pedro.reis\\AppData\\Local\\anaconda3\\Lib\\site-packages\\sklearn\\cluster\\_kmeans.py:1412: FutureWarning: The default value of `n_init` will change from 10 to 'auto' in 1.4. Set the value of `n_init` explicitly to suppress the warning\n",
      "  super()._check_params_vs_input(X, default_n_init=10)\n",
      "C:\\Users\\pedro.reis\\AppData\\Local\\anaconda3\\Lib\\site-packages\\sklearn\\cluster\\_kmeans.py:1412: FutureWarning: The default value of `n_init` will change from 10 to 'auto' in 1.4. Set the value of `n_init` explicitly to suppress the warning\n",
      "  super()._check_params_vs_input(X, default_n_init=10)\n",
      "C:\\Users\\pedro.reis\\AppData\\Local\\anaconda3\\Lib\\site-packages\\sklearn\\cluster\\_kmeans.py:1412: FutureWarning: The default value of `n_init` will change from 10 to 'auto' in 1.4. Set the value of `n_init` explicitly to suppress the warning\n",
      "  super()._check_params_vs_input(X, default_n_init=10)\n",
      "C:\\Users\\pedro.reis\\AppData\\Local\\anaconda3\\Lib\\site-packages\\sklearn\\cluster\\_kmeans.py:1412: FutureWarning: The default value of `n_init` will change from 10 to 'auto' in 1.4. Set the value of `n_init` explicitly to suppress the warning\n",
      "  super()._check_params_vs_input(X, default_n_init=10)\n",
      "C:\\Users\\pedro.reis\\AppData\\Local\\anaconda3\\Lib\\site-packages\\sklearn\\cluster\\_kmeans.py:1412: FutureWarning: The default value of `n_init` will change from 10 to 'auto' in 1.4. Set the value of `n_init` explicitly to suppress the warning\n",
      "  super()._check_params_vs_input(X, default_n_init=10)\n",
      "C:\\Users\\pedro.reis\\AppData\\Local\\anaconda3\\Lib\\site-packages\\sklearn\\cluster\\_kmeans.py:1412: FutureWarning: The default value of `n_init` will change from 10 to 'auto' in 1.4. Set the value of `n_init` explicitly to suppress the warning\n",
      "  super()._check_params_vs_input(X, default_n_init=10)\n",
      "C:\\Users\\pedro.reis\\AppData\\Local\\anaconda3\\Lib\\site-packages\\sklearn\\cluster\\_kmeans.py:1412: FutureWarning: The default value of `n_init` will change from 10 to 'auto' in 1.4. Set the value of `n_init` explicitly to suppress the warning\n",
      "  super()._check_params_vs_input(X, default_n_init=10)\n"
     ]
    },
    {
     "data": {
      "image/png": "[encoded data removed]",
      "text/plain": [
       "<Figure size 640x480 with 1 Axes>"
      ]
     },
     "metadata": {},
     "output_type": "display_data"
    }
   ],
   "source": [
    "ks_products = range(1, 10)\n",
    "inertias_products = []\n",
    "\n",
    "for k in ks_products:\n",
    "    model_products = KMeans(n_clusters=k).fit(Products)\n",
    "    inertias_products.append(model_products.inertia_)\n",
    "\n",
    "    \n",
    "# Plotar a curva de cotovelo\n",
    "plt.plot(ks_products, inertias_products, '-o')\n",
    "plt.xlabel('Número de Clusters, k')\n",
    "plt.ylabel('Inércia')\n",
    "plt.title('Método do Cotovelo para Determinar o Número de Clusters')\n",
    "plt.xticks(ks_products)\n",
    "plt.show()\n",
    "\n",
    "#pelo grafico, 3 parece ser o número certo de Klusters porque é onde a curva estabiliza"
   ]
  },
  {
   "cell_type": "code",
   "execution_count": null,
   "id": "9b72b285",
   "metadata": {},
   "outputs": [],
   "source": [
    "Products = Products.sample(n = 4000, random_state = 100) #o numero é aleatório\n",
    "\n",
    "# create clusters using the \"ward method\"\n",
    "clusters = hierarchy.linkage(Products, method=\"ward\")\n",
    "\n",
    "# create the dendrogram using the hierarchy.dendrogram() method.\n",
    "plt.figure(figsize=(8, 6))\n",
    "dendrogram = hierarchy.dendrogram(clusters) #o resultado confirma o k=2"
   ]
  },
  {
   "cell_type": "code",
   "execution_count": null,
   "id": "ea57aca3",
   "metadata": {},
   "outputs": [],
   "source": [
    "Products_k2= KMeans(n_clusters=2, random_state = 100).fit(Products)"
   ]
  },
  {
   "cell_type": "code",
   "execution_count": null,
   "id": "93950698",
   "metadata": {},
   "outputs": [],
   "source": [
    "Products['label_pro']=Products_k2.labels_\n",
    "Products"
   ]
  },
  {
   "cell_type": "code",
   "execution_count": null,
   "id": "f32de670",
   "metadata": {},
   "outputs": [],
   "source": [
    "Products.groupby(['label_pro']).mean().transpose()"
   ]
  },
  {
   "cell_type": "code",
   "execution_count": null,
   "id": "755c1913",
   "metadata": {},
   "outputs": [],
   "source": [
    "descr_pro=Products.groupby(['label_pro']).describe().transpose()\n",
    "descr_pro"
   ]
  },
  {
   "cell_type": "code",
   "execution_count": null,
   "id": "9baf9bc8",
   "metadata": {},
   "outputs": [],
   "source": [
    "# Criar um scaler para normalizar as colunas\n",
    "scaler = MinMaxScaler()\n",
    "\n",
    "# Escolher as colunas para normalizar\n",
    "cols_to_normalize = ['Total_Expensed', 'SM_Likes']  # Adicione as colunas desejadas\n",
    "merged_df_remover_outlier_k3[cols_to_normalize] = scaler.fit_transform(merged_df_remover_outlier_k3[cols_to_normalize])\n",
    "\n",
    "# Criar o scatter plot após normalização\n",
    "plt.figure(figsize=(8, 6))\n",
    "sns.scatterplot(\n",
    "    data=merged_df_remover_outlier_k3,\n",
    "    x='Total_Expensed',  # Coluna normalizada\n",
    "    y='SM_Likes',  # Coluna normalizada\n",
    "    hue='label',  # Coluna para clusters\n",
    "    palette='viridis',\n",
    "    s=50,\n",
    "    alpha=0.7\n",
    ")\n",
    "plt.title('Scatter Plot com Dados Normalizados')\n",
    "plt.xlabel('Total_Expensed (Normalizado)')\n",
    "plt.ylabel('SM_Likes (Normalizado)')\n",
    "plt.show()"
   ]
  },
  {
   "cell_type": "code",
   "execution_count": null,
   "id": "fdd6acb1",
   "metadata": {},
   "outputs": [],
   "source": [
    "# Criar um scaler para normalizar as colunas\n",
    "scaler = MinMaxScaler()\n",
    "\n",
    "# Escolher as colunas para normalizar\n",
    "cols_to_normalize = ['Total_Expensed', 'Email_Clicks']  # Adicione as colunas desejadas\n",
    "merged_df_remover_outlier_k3[cols_to_normalize] = scaler.fit_transform(merged_df_remover_outlier_k3[cols_to_normalize])\n",
    "\n",
    "# Criar o scatter plot após normalização\n",
    "plt.figure(figsize=(8, 6))\n",
    "sns.scatterplot(\n",
    "    data=merged_df_remover_outlier_k3,\n",
    "    x='Total_Expensed',  # Coluna normalizada\n",
    "    y='Email_Clicks',  # Coluna normalizada\n",
    "    hue='label',  # Coluna para clusters\n",
    "    palette='viridis',\n",
    "    s=50,\n",
    "    alpha=0.7\n",
    ")\n",
    "plt.title('Scatter Plot com Dados Normalizados')\n",
    "plt.xlabel('Total_Expensed (Normalizado)')\n",
    "plt.ylabel('Email_Clicks (Normalizado)')\n",
    "plt.show()"
   ]
  },
  {
   "cell_type": "markdown",
   "id": "75225f03",
   "metadata": {},
   "source": [
    "**Demographic DF**"
   ]
  },
  {
   "cell_type": "code",
   "execution_count": null,
   "id": "6dc264a7",
   "metadata": {},
   "outputs": [],
   "source": [
    "Demographic_nameless=Demographic.copy() #rescue point"
   ]
  },
  {
   "cell_type": "code",
   "execution_count": null,
   "id": "154d3741",
   "metadata": {},
   "outputs": [],
   "source": [
    "Demographic_nameless.drop('name', axis=1, inplace=True)\n",
    "Demographic_nameless"
   ]
  },
  {
   "cell_type": "code",
   "execution_count": null,
   "id": "a9042c32",
   "metadata": {},
   "outputs": [],
   "source": [
    "# Selecionar apenas colunas numéricas\n",
    "Demographic_nameless = Demographic_nameless.select_dtypes(include=[np.number])\n",
    "\n",
    "# Calcular a matriz de correlação\n",
    "correlation_matrix_final = Demographic_nameless.corr()\n",
    "\n",
    "# Plotar a matriz de correlação\n",
    "plt.figure(figsize=(8, 6))\n",
    "sns.heatmap(correlation_matrix_final, annot=True, cmap='coolwarm', fmt=\".2f\", linewidths=.5)\n",
    "plt.title('Matriz de Correlação das Variáveis Numéricas')\n",
    "plt.show()"
   ]
  },
  {
   "cell_type": "code",
   "execution_count": null,
   "id": "5e1bf2c1",
   "metadata": {},
   "outputs": [],
   "source": [
    "ks = range(1, 10)\n",
    "\n",
    "# Lista para armazenar as inércias\n",
    "inertias_demographic = []\n",
    "\n",
    "# Calcular a inércia para cada valor de k\n",
    "for k in ks:\n",
    "    model = KMeans(n_clusters=k, random_state=0).fit(Demographic_nameless)\n",
    "    inertias_demographic.append(model.inertia_)  # Adicionar a inércia à lista\n",
    "\n",
    "# Plotar a curva do cotovelo\n",
    "plt.plot(ks, inertias_demographic, '-o')\n",
    "plt.xlabel('Número de Clusters, k')\n",
    "plt.ylabel('Inércia')\n",
    "plt.title('Método do Cotovelo para Determinar o Número de Clusters')\n",
    "plt.xticks(ks)\n",
    "plt.show()"
   ]
  },
  {
   "cell_type": "code",
   "execution_count": null,
   "id": "79056d00",
   "metadata": {},
   "outputs": [],
   "source": [
    "Demographic_nameless = Demographic_nameless.sample(n = 4000, random_state = 100) #o numero é aleatório\n",
    "\n",
    "# create clusters using the \"ward method\"\n",
    "clusters = hierarchy.linkage(Demographic_nameless, method=\"ward\")\n",
    "\n",
    "# create the dendrogram using the hierarchy.dendrogram() method.\n",
    "plt.figure(figsize=(8, 6))\n",
    "dendrogram = hierarchy.dendrogram(clusters) #o resultado confirma o k=2"
   ]
  },
  {
   "cell_type": "code",
   "execution_count": null,
   "id": "71e79a3f",
   "metadata": {},
   "outputs": [],
   "source": [
    "Demograhpic_k3 = KMeans(n_clusters=2, random_state = 100).fit(Demographic_nameless)"
   ]
  },
  {
   "cell_type": "code",
   "execution_count": null,
   "id": "56639dd4",
   "metadata": {},
   "outputs": [],
   "source": [
    "Demographic_nameless['label_demo']=Demograhpic_k3.labels_\n",
    "Demographic_nameless #só temos 2 klusters, portanto temos valores 0 ou 1!"
   ]
  },
  {
   "cell_type": "code",
   "execution_count": null,
   "id": "1019a9e5",
   "metadata": {},
   "outputs": [],
   "source": [
    "# Assumindo que você tenha um DataFrame chamado merged_df_k2 para análise de clusters\n",
    "# Primeiro, vamos extrair as colunas relevantes para o clustering (sem a coluna de cluster se já existir)\n",
    "features = Demographic_nameless.drop(columns=['label_demo'])  # Mude 'label' para a coluna que indica cluster se existir\n",
    "\n",
    "# Lista para armazenar a pontuação da Silhouette para diferentes valores de k\n",
    "silhouette_scores = []\n",
    "\n",
    "# Variando o número de clusters para encontrar o melhor valor de k\n",
    "k_values = range(2, 5)  # Testando de 2 a 5 clusters\n",
    "\n",
    "# Loop para calcular a Silhouette Score para cada valor de k\n",
    "for k in k_values:\n",
    "    # Crie o modelo de K-means com o valor de k\n",
    "    kmeans = KMeans(n_clusters=k, random_state=42)\n",
    "    \n",
    "    # Aplique o K-means e obtenha os rótulos dos clusters\n",
    "    cluster_labels = kmeans.fit_predict(features)\n",
    "    \n",
    "    # Calcule a pontuação da Silhouette\n",
    "    silhouette_avg = silhouette_score(features, cluster_labels)\n",
    "    \n",
    "    # Adicione a pontuação ao array de pontuações\n",
    "    silhouette_scores.append(silhouette_avg)\n",
    "\n",
    "# Agora vamos plotar a Silhouette Score para diferentes valores de k\n",
    "plt.figure()\n",
    "plt.plot(k_values, silhouette_scores, marker='o', linestyle='-', color='b')  # Crie o gráfico\n",
    "plt.title('Silhouette Scores para diferentes valores de k')\n",
    "plt.xlabel('Número de clusters (k)')\n",
    "plt.ylabel('Silhouette Score')\n",
    "plt.show()  # Exibir o gráfico"
   ]
  },
  {
   "cell_type": "markdown",
   "id": "0736552a",
   "metadata": {},
   "source": [
    "O Silhouet confirma claramente que são 2 clusters, porque tme 1 score muito alto."
   ]
  },
  {
   "cell_type": "code",
   "execution_count": null,
   "id": "535f0ead",
   "metadata": {},
   "outputs": [],
   "source": [
    "Demographic_nameless.groupby(['label_demo']).mean().transpose()"
   ]
  },
  {
   "cell_type": "code",
   "execution_count": null,
   "id": "5dc84fb7",
   "metadata": {},
   "outputs": [],
   "source": []
  },
  {
   "cell_type": "code",
   "execution_count": null,
   "id": "58fa2e1d",
   "metadata": {},
   "outputs": [],
   "source": [
    "dists = euclidean_distances(Demograhpic_k3.cluster_centers_)\n",
    "dists"
   ]
  },
  {
   "cell_type": "code",
   "execution_count": null,
   "id": "edbc4025",
   "metadata": {},
   "outputs": [],
   "source": [
    "cluster0_demo=Demographic_nameless[Demographic_nameless['label_demo']==0]\n",
    "cluster1_demo=Demographic_nameless[Demographic_nameless['label_demo']==1]"
   ]
  },
  {
   "cell_type": "code",
   "execution_count": null,
   "id": "598cbc29",
   "metadata": {},
   "outputs": [],
   "source": [
    "sns.histplot(cluster0_demo['age'], color='red',label='Age - Cluster 0',bins=20)\n",
    "sns.histplot(cluster1_demo['age'], color='yellow',label='Age - Cluster 1',bins=20)\n",
    "plt.legend()"
   ]
  },
  {
   "cell_type": "code",
   "execution_count": null,
   "id": "45d127de",
   "metadata": {},
   "outputs": [],
   "source": [
    "plt.scatter(Demographic_nameless['age'], Demographic_nameless['education_level'], c=Demographic_nameless['label_demo'], s=100)\n",
    "plt.xlabel('Education Level')\n",
    "plt.ylabel('Age')\n",
    "plt.title('Scatter Plot of Education Level vs. City')\n",
    "plt.colorbar(label='Cluster Label')  # Adicionar uma barra de cores para indicar os clusters\n",
    "plt.show()"
   ]
  },
  {
   "cell_type": "code",
   "execution_count": null,
   "id": "befdd3b4",
   "metadata": {},
   "outputs": [],
   "source": [
    "Demographic = Demographic.join(Demographic_nameless[['label_demo']], how='left')"
   ]
  },
  {
   "cell_type": "code",
   "execution_count": null,
   "id": "0f46ab8b",
   "metadata": {},
   "outputs": [],
   "source": [
    "cluster0_demo_original=Demographic[Demographic['label_demo']==0]\n",
    "cluster1_demo_original=Demographic[Demographic['label_demo']==1]"
   ]
  },
  {
   "cell_type": "code",
   "execution_count": null,
   "id": "f930a9b9",
   "metadata": {},
   "outputs": [],
   "source": [
    "print('***Descriptive Summary of Categorical variables***')\n",
    "print(cluster0_demo_original.describe(include=['O']))\n",
    "\n",
    "print(' ')\n",
    "print('***Frequency for each level of education***')\n",
    "print(round(cluster0_demo_original['education_level'].value_counts()/len(cluster0_demo_original)*100,2))\n",
    "\n",
    "print(' ')\n",
    "print('***Mean of Dependents***')\n",
    "print(cluster0_demo_original['dependents'].mean())"
   ]
  },
  {
   "cell_type": "code",
   "execution_count": null,
   "id": "ebea5d9d",
   "metadata": {},
   "outputs": [],
   "source": [
    "print('***Descriptive Summary of Categorical variables***')\n",
    "print(cluster1_demo_original.describe(include=['O']))\n",
    "\n",
    "print(' ')\n",
    "print('***Frequency for each level of education***')\n",
    "print(round(cluster1_demo_original['education_level'].value_counts()/len(cluster1_demo_original)*100,2))\n",
    "\n",
    "print(' ')\n",
    "print('***Mean of Dependents***')\n",
    "print(cluster1_demo_original['dependents'].mean())"
   ]
  },
  {
   "cell_type": "code",
   "execution_count": null,
   "id": "4ea50e85",
   "metadata": {},
   "outputs": [],
   "source": []
  },
  {
   "cell_type": "code",
   "execution_count": null,
   "id": "a7e1a66d",
   "metadata": {},
   "outputs": [],
   "source": []
  }
 ],
 "metadata": {
  "kernelspec": {
   "display_name": "Python 3 (ipykernel)",
   "language": "python",
   "name": "python3"
  },
  "language_info": {
   "codemirror_mode": {
    "name": "ipython",
    "version": 3
   },
   "file_extension": ".py",
   "mimetype": "text/x-python",
   "name": "python",
   "nbconvert_exporter": "python",
   "pygments_lexer": "ipython3",
   "version": "3.12.2"
  }
 },
 "nbformat": 4,
 "nbformat_minor": 5
}
