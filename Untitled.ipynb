{
 "cells": [
  {
   "cell_type": "code",
   "execution_count": null,
   "id": "73a4645c-a09b-4ffa-81fd-a1b1693481df",
   "metadata": {},
   "outputs": [],
   "source": [
    "Products_trans_scaled.head()"
   ]
  },
  {
   "cell_type": "code",
   "execution_count": null,
   "id": "1849e4ce-da7c-4b22-9cf7-086817fdf7ce",
   "metadata": {},
   "outputs": [],
   "source": [
    "#get features\n",
    "Products_trans_scaled_noclusters = Products_trans_scaled.drop('cluster_label', axis=1)\n",
    "nr_features = Products_trans_scaled_noclusters.shape[1]\n",
    "pca = PCA(n_components=nr_features)\n",
    "Products_pca= pd.DataFrame(pca.fit_transform(Products_trans_scaled_noclusters))\n",
    "Products_pca.head()"
   ]
  },
  {
   "cell_type": "code",
   "execution_count": null,
   "id": "d8092450-1916-4167-bba4-6db8c0f6c2ce",
   "metadata": {},
   "outputs": [],
   "source": [
    "#recover index values\n",
    "Products_pca.index = Products_trans_scaled.index\n",
    "Products_pca.head()"
   ]
  },
  {
   "cell_type": "code",
   "execution_count": null,
   "id": "74a4ae89-4919-4743-a200-425c98dd9b20",
   "metadata": {},
   "outputs": [],
   "source": [
    "# Print the results\n",
    "print('PCA Summary')\n",
    "print('No. of features: ', Products_pca.shape[1])\n",
    "print('No. of samples: ', Products_pca.shape[0])\n",
    "print('No. of components: ', pca.n_components_)\n",
    "print('Explained variance ratio: ', pca.explained_variance_ratio_)"
   ]
  },
  {
   "cell_type": "code",
   "execution_count": null,
   "id": "263f4e22-1de4-4d46-9bc9-9be81a2838e8",
   "metadata": {},
   "outputs": [],
   "source": [
    "#plot cumulative explained variance\n",
    "cum_variance=[]\n",
    "for i, value in enumerate(pca.explained_variance_ratio_):\n",
    "    if i==0:\n",
    "        cum_variance.append(value)\n",
    "    else:\n",
    "        cum_variance.append(value+cum_variance[i-1])\n",
    "print('Cumulative variance ratio over PCs: ', cum_variance)"
   ]
  },
  {
   "cell_type": "code",
   "execution_count": null,
   "id": "72d46541-e13f-432a-b2dd-74160215a466",
   "metadata": {},
   "outputs": [],
   "source": [
    "#Graphical representation of PCs' cumulative variance ratio\n",
    "sns.barplot(data=cum_variance)\n",
    "plt.title('Cumulative Explained Variance')\n",
    "plt.xlabel('Principal Component')\n",
    "plt.ylabel('Explained Variance (%)')\n",
    "plt.show()"
   ]
  },
  {
   "cell_type": "code",
   "execution_count": null,
   "id": "6f56392d-5d0b-4902-9a43-3fc570ed6e82",
   "metadata": {},
   "outputs": [],
   "source": [
    "print(f'the cumulative explained variance of the first 2 PCs is: {cum_variance[1]:.2f}')"
   ]
  },
  {
   "cell_type": "code",
   "execution_count": null,
   "id": "f3f253a2-0196-46e3-b3b0-f1e97b504ee4",
   "metadata": {},
   "outputs": [],
   "source": [
    "#look at clusters in 2D, with clustering with 2 components\n",
    "\n",
    "sns.set_style(\"ticks\")\n",
    "sns.set_context(\"notebook\")\n",
    "sns.scatterplot(data=Products_pca, x=Products_pca[0], y=Products_pca[1],\n",
    "                hue=Products_trans_scaled['cluster_label'], alpha=0.7, s=15)\n",
    "plt.xlabel('PC1')\n",
    "plt.ylabel('PC2')\n",
    "plt.title('K-Means Clustering of 2D PCA-Transformed Data')\n",
    "plt.show()"
   ]
  }
 ],
 "metadata": {
  "kernelspec": {
   "display_name": "Python 3 (ipykernel)",
   "language": "python",
   "name": "python3"
  },
  "language_info": {
   "codemirror_mode": {
    "name": "ipython",
    "version": 3
   },
   "file_extension": ".py",
   "mimetype": "text/x-python",
   "name": "python",
   "nbconvert_exporter": "python",
   "pygments_lexer": "ipython3",
   "version": "3.12.2"
  }
 },
 "nbformat": 4,
 "nbformat_minor": 5
}
