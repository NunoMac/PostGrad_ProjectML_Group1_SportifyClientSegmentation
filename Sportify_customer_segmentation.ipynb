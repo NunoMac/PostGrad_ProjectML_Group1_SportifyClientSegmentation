{
 "cells": [
  {
   "cell_type": "markdown",
   "id": "cc75aa3d-40e9-4c06-9c65-9ab5f555b041",
   "metadata": {
    "jp-MarkdownHeadingCollapsed": true
   },
   "source": [
    "# Import data"
   ]
  },
  {
   "cell_type": "code",
   "execution_count": 4,
   "id": "d436b5e0-bbee-4dd1-a284-085f457fea79",
   "metadata": {},
   "outputs": [],
   "source": [
    "#import libraries\n",
    "import pandas as pd\n",
    "import seaborn as sns\n",
    "from matplotlib import pyplot as plt\n",
    "from sklearn.preprocessing import StandardScaler\n",
    "from sklearn.cluster import KMeans\n",
    "from sklearn.decomposition import PCA"
   ]
  },
  {
   "cell_type": "code",
   "execution_count": 5,
   "id": "e8213b8f-fbb5-4987-a358-5c35da392574",
   "metadata": {},
   "outputs": [],
   "source": [
    "#import data\n",
    "df_dig = pd.read_csv('data/Digital_Contact.csv', sep=';')"
   ]
  },
  {
   "cell_type": "markdown",
   "id": "b81cf49a-4031-4faa-97ec-cff2a9955cee",
   "metadata": {
    "jp-MarkdownHeadingCollapsed": true
   },
   "source": [
    "# Explore Data"
   ]
  },
  {
   "cell_type": "code",
   "execution_count": 6,
   "id": "78f2c6ad-f3ca-4f0a-9e98-09d0d70c81c0",
   "metadata": {},
   "outputs": [
    {
     "name": "stdout",
     "output_type": "stream",
     "text": [
      "<class 'pandas.core.frame.DataFrame'>\n",
      "RangeIndex: 4000 entries, 0 to 3999\n",
      "Data columns (total 7 columns):\n",
      " #   Column        Non-Null Count  Dtype  \n",
      "---  ------        --------------  -----  \n",
      " 0   Cust_ID       4000 non-null   int64  \n",
      " 1   Email_Clicks  4000 non-null   int64  \n",
      " 2   SM_Comments   4000 non-null   int64  \n",
      " 3   App_Clicks    4000 non-null   int64  \n",
      " 4   SM_Likes      4000 non-null   int64  \n",
      " 5   SM_Shares     3961 non-null   float64\n",
      " 6   SM_Clicks     4000 non-null   int64  \n",
      "dtypes: float64(1), int64(6)\n",
      "memory usage: 218.9 KB\n"
     ]
    }
   ],
   "source": [
    "df_dig.info()"
   ]
  },
  {
   "cell_type": "markdown",
   "id": "e0151db6-92e9-4bda-8734-9aab103ecf7b",
   "metadata": {},
   "source": [
    "- Dtypes seem appropriate\n",
    "- 4000 entries, only SM_Shares have missing data\n",
    "\n",
    "Initial Suggestions:  \n",
    "- turn Cust_ID as index\n",
    "- explore correlations between features: missing values in SM_Shares may not be relevant if other feature is highly correlated"
   ]
  },
  {
   "cell_type": "code",
   "execution_count": 7,
   "id": "25b35d76-cdf8-4857-b5eb-bf6b8876a9e0",
   "metadata": {},
   "outputs": [
    {
     "data": {
      "text/html": [
       "<div>\n",
       "<style scoped>\n",
       "    .dataframe tbody tr th:only-of-type {\n",
       "        vertical-align: middle;\n",
       "    }\n",
       "\n",
       "    .dataframe tbody tr th {\n",
       "        vertical-align: top;\n",
       "    }\n",
       "\n",
       "    .dataframe thead th {\n",
       "        text-align: right;\n",
       "    }\n",
       "</style>\n",
       "<table border=\"1\" class=\"dataframe\">\n",
       "  <thead>\n",
       "    <tr style=\"text-align: right;\">\n",
       "      <th></th>\n",
       "      <th>Cust_ID</th>\n",
       "      <th>Email_Clicks</th>\n",
       "      <th>SM_Comments</th>\n",
       "      <th>App_Clicks</th>\n",
       "      <th>SM_Likes</th>\n",
       "      <th>SM_Shares</th>\n",
       "      <th>SM_Clicks</th>\n",
       "    </tr>\n",
       "  </thead>\n",
       "  <tbody>\n",
       "    <tr>\n",
       "      <th>0</th>\n",
       "      <td>4</td>\n",
       "      <td>72</td>\n",
       "      <td>1</td>\n",
       "      <td>7</td>\n",
       "      <td>7</td>\n",
       "      <td>1.0</td>\n",
       "      <td>73</td>\n",
       "    </tr>\n",
       "    <tr>\n",
       "      <th>1</th>\n",
       "      <td>5</td>\n",
       "      <td>15</td>\n",
       "      <td>20</td>\n",
       "      <td>1</td>\n",
       "      <td>35</td>\n",
       "      <td>15.0</td>\n",
       "      <td>16</td>\n",
       "    </tr>\n",
       "    <tr>\n",
       "      <th>2</th>\n",
       "      <td>6</td>\n",
       "      <td>9</td>\n",
       "      <td>7</td>\n",
       "      <td>3</td>\n",
       "      <td>73</td>\n",
       "      <td>19.0</td>\n",
       "      <td>10</td>\n",
       "    </tr>\n",
       "    <tr>\n",
       "      <th>3</th>\n",
       "      <td>9</td>\n",
       "      <td>67</td>\n",
       "      <td>0</td>\n",
       "      <td>2</td>\n",
       "      <td>0</td>\n",
       "      <td>1.0</td>\n",
       "      <td>101</td>\n",
       "    </tr>\n",
       "    <tr>\n",
       "      <th>4</th>\n",
       "      <td>10</td>\n",
       "      <td>38</td>\n",
       "      <td>0</td>\n",
       "      <td>1</td>\n",
       "      <td>9</td>\n",
       "      <td>0.0</td>\n",
       "      <td>56</td>\n",
       "    </tr>\n",
       "  </tbody>\n",
       "</table>\n",
       "</div>"
      ],
      "text/plain": [
       "   Cust_ID  Email_Clicks  SM_Comments  App_Clicks  SM_Likes  SM_Shares  \\\n",
       "0        4            72            1           7         7        1.0   \n",
       "1        5            15           20           1        35       15.0   \n",
       "2        6             9            7           3        73       19.0   \n",
       "3        9            67            0           2         0        1.0   \n",
       "4       10            38            0           1         9        0.0   \n",
       "\n",
       "   SM_Clicks  \n",
       "0         73  \n",
       "1         16  \n",
       "2         10  \n",
       "3        101  \n",
       "4         56  "
      ]
     },
     "execution_count": 7,
     "metadata": {},
     "output_type": "execute_result"
    }
   ],
   "source": [
    "df_dig.head()"
   ]
  },
  {
   "cell_type": "code",
   "execution_count": 8,
   "id": "d73ce7f6-4de0-48d5-8c80-2191b04204ad",
   "metadata": {},
   "outputs": [
    {
     "data": {
      "text/plain": [
       "4000"
      ]
     },
     "execution_count": 8,
     "metadata": {},
     "output_type": "execute_result"
    }
   ],
   "source": [
    "#Cust_IDs are unique?\n",
    "len(df_dig['Cust_ID'].unique())"
   ]
  },
  {
   "cell_type": "markdown",
   "id": "a7388560-8cf6-4d72-88bf-3a49ff404158",
   "metadata": {},
   "source": [
    "Yes, we can turn index as Cust_ID."
   ]
  },
  {
   "cell_type": "code",
   "execution_count": 9,
   "id": "9df40dfb-ee7d-4523-9807-f80dfb636c4e",
   "metadata": {},
   "outputs": [
    {
     "data": {
      "text/html": [
       "<div>\n",
       "<style scoped>\n",
       "    .dataframe tbody tr th:only-of-type {\n",
       "        vertical-align: middle;\n",
       "    }\n",
       "\n",
       "    .dataframe tbody tr th {\n",
       "        vertical-align: top;\n",
       "    }\n",
       "\n",
       "    .dataframe thead th {\n",
       "        text-align: right;\n",
       "    }\n",
       "</style>\n",
       "<table border=\"1\" class=\"dataframe\">\n",
       "  <thead>\n",
       "    <tr style=\"text-align: right;\">\n",
       "      <th></th>\n",
       "      <th>Email_Clicks</th>\n",
       "      <th>SM_Comments</th>\n",
       "      <th>App_Clicks</th>\n",
       "      <th>SM_Likes</th>\n",
       "      <th>SM_Shares</th>\n",
       "      <th>SM_Clicks</th>\n",
       "    </tr>\n",
       "    <tr>\n",
       "      <th>Cust_ID</th>\n",
       "      <th></th>\n",
       "      <th></th>\n",
       "      <th></th>\n",
       "      <th></th>\n",
       "      <th></th>\n",
       "      <th></th>\n",
       "    </tr>\n",
       "  </thead>\n",
       "  <tbody>\n",
       "    <tr>\n",
       "      <th>4</th>\n",
       "      <td>72</td>\n",
       "      <td>1</td>\n",
       "      <td>7</td>\n",
       "      <td>7</td>\n",
       "      <td>1.0</td>\n",
       "      <td>73</td>\n",
       "    </tr>\n",
       "    <tr>\n",
       "      <th>5</th>\n",
       "      <td>15</td>\n",
       "      <td>20</td>\n",
       "      <td>1</td>\n",
       "      <td>35</td>\n",
       "      <td>15.0</td>\n",
       "      <td>16</td>\n",
       "    </tr>\n",
       "    <tr>\n",
       "      <th>6</th>\n",
       "      <td>9</td>\n",
       "      <td>7</td>\n",
       "      <td>3</td>\n",
       "      <td>73</td>\n",
       "      <td>19.0</td>\n",
       "      <td>10</td>\n",
       "    </tr>\n",
       "    <tr>\n",
       "      <th>9</th>\n",
       "      <td>67</td>\n",
       "      <td>0</td>\n",
       "      <td>2</td>\n",
       "      <td>0</td>\n",
       "      <td>1.0</td>\n",
       "      <td>101</td>\n",
       "    </tr>\n",
       "    <tr>\n",
       "      <th>10</th>\n",
       "      <td>38</td>\n",
       "      <td>0</td>\n",
       "      <td>1</td>\n",
       "      <td>9</td>\n",
       "      <td>0.0</td>\n",
       "      <td>56</td>\n",
       "    </tr>\n",
       "  </tbody>\n",
       "</table>\n",
       "</div>"
      ],
      "text/plain": [
       "         Email_Clicks  SM_Comments  App_Clicks  SM_Likes  SM_Shares  SM_Clicks\n",
       "Cust_ID                                                                       \n",
       "4                  72            1           7         7        1.0         73\n",
       "5                  15           20           1        35       15.0         16\n",
       "6                   9            7           3        73       19.0         10\n",
       "9                  67            0           2         0        1.0        101\n",
       "10                 38            0           1         9        0.0         56"
      ]
     },
     "execution_count": 9,
     "metadata": {},
     "output_type": "execute_result"
    }
   ],
   "source": [
    "#Cust_ID as index\n",
    "df_dig.set_index('Cust_ID', inplace=True)\n",
    "df_dig.head(5)"
   ]
  },
  {
   "cell_type": "code",
   "execution_count": 10,
   "id": "1cb6709b-0502-4711-b7af-9d6a20552256",
   "metadata": {},
   "outputs": [
    {
     "data": {
      "text/html": [
       "<div>\n",
       "<style scoped>\n",
       "    .dataframe tbody tr th:only-of-type {\n",
       "        vertical-align: middle;\n",
       "    }\n",
       "\n",
       "    .dataframe tbody tr th {\n",
       "        vertical-align: top;\n",
       "    }\n",
       "\n",
       "    .dataframe thead th {\n",
       "        text-align: right;\n",
       "    }\n",
       "</style>\n",
       "<table border=\"1\" class=\"dataframe\">\n",
       "  <thead>\n",
       "    <tr style=\"text-align: right;\">\n",
       "      <th></th>\n",
       "      <th>Email_Clicks</th>\n",
       "      <th>SM_Comments</th>\n",
       "      <th>App_Clicks</th>\n",
       "      <th>SM_Likes</th>\n",
       "      <th>SM_Shares</th>\n",
       "      <th>SM_Clicks</th>\n",
       "    </tr>\n",
       "  </thead>\n",
       "  <tbody>\n",
       "    <tr>\n",
       "      <th>count</th>\n",
       "      <td>4000.00000</td>\n",
       "      <td>4000.000000</td>\n",
       "      <td>4000.000000</td>\n",
       "      <td>4000.000000</td>\n",
       "      <td>3961.000000</td>\n",
       "      <td>4000.000000</td>\n",
       "    </tr>\n",
       "    <tr>\n",
       "      <th>mean</th>\n",
       "      <td>25.76225</td>\n",
       "      <td>8.247750</td>\n",
       "      <td>19.526500</td>\n",
       "      <td>26.957000</td>\n",
       "      <td>8.355971</td>\n",
       "      <td>30.349250</td>\n",
       "    </tr>\n",
       "    <tr>\n",
       "      <th>std</th>\n",
       "      <td>23.65998</td>\n",
       "      <td>8.064963</td>\n",
       "      <td>34.237945</td>\n",
       "      <td>27.742658</td>\n",
       "      <td>8.696192</td>\n",
       "      <td>32.254974</td>\n",
       "    </tr>\n",
       "    <tr>\n",
       "      <th>min</th>\n",
       "      <td>0.00000</td>\n",
       "      <td>0.000000</td>\n",
       "      <td>0.000000</td>\n",
       "      <td>0.000000</td>\n",
       "      <td>0.000000</td>\n",
       "      <td>0.000000</td>\n",
       "    </tr>\n",
       "    <tr>\n",
       "      <th>25%</th>\n",
       "      <td>8.00000</td>\n",
       "      <td>1.000000</td>\n",
       "      <td>2.000000</td>\n",
       "      <td>4.000000</td>\n",
       "      <td>1.000000</td>\n",
       "      <td>7.000000</td>\n",
       "    </tr>\n",
       "    <tr>\n",
       "      <th>50%</th>\n",
       "      <td>16.00000</td>\n",
       "      <td>4.000000</td>\n",
       "      <td>4.000000</td>\n",
       "      <td>11.000000</td>\n",
       "      <td>2.000000</td>\n",
       "      <td>15.000000</td>\n",
       "    </tr>\n",
       "    <tr>\n",
       "      <th>75%</th>\n",
       "      <td>36.00000</td>\n",
       "      <td>15.000000</td>\n",
       "      <td>7.000000</td>\n",
       "      <td>50.000000</td>\n",
       "      <td>16.000000</td>\n",
       "      <td>60.000000</td>\n",
       "    </tr>\n",
       "    <tr>\n",
       "      <th>max</th>\n",
       "      <td>86.00000</td>\n",
       "      <td>24.000000</td>\n",
       "      <td>127.000000</td>\n",
       "      <td>88.000000</td>\n",
       "      <td>26.000000</td>\n",
       "      <td>102.000000</td>\n",
       "    </tr>\n",
       "  </tbody>\n",
       "</table>\n",
       "</div>"
      ],
      "text/plain": [
       "       Email_Clicks  SM_Comments   App_Clicks     SM_Likes    SM_Shares  \\\n",
       "count    4000.00000  4000.000000  4000.000000  4000.000000  3961.000000   \n",
       "mean       25.76225     8.247750    19.526500    26.957000     8.355971   \n",
       "std        23.65998     8.064963    34.237945    27.742658     8.696192   \n",
       "min         0.00000     0.000000     0.000000     0.000000     0.000000   \n",
       "25%         8.00000     1.000000     2.000000     4.000000     1.000000   \n",
       "50%        16.00000     4.000000     4.000000    11.000000     2.000000   \n",
       "75%        36.00000    15.000000     7.000000    50.000000    16.000000   \n",
       "max        86.00000    24.000000   127.000000    88.000000    26.000000   \n",
       "\n",
       "         SM_Clicks  \n",
       "count  4000.000000  \n",
       "mean     30.349250  \n",
       "std      32.254974  \n",
       "min       0.000000  \n",
       "25%       7.000000  \n",
       "50%      15.000000  \n",
       "75%      60.000000  \n",
       "max     102.000000  "
      ]
     },
     "execution_count": 10,
     "metadata": {},
     "output_type": "execute_result"
    }
   ],
   "source": [
    "#basic statistics\n",
    "df_dig.describe()"
   ]
  },
  {
   "cell_type": "markdown",
   "id": "390b4f3d-2cb1-4664-b7f2-38cc6f09afef",
   "metadata": {},
   "source": [
    "All features seem to not be normally distributed, with values of mean around 2x the median - right tail."
   ]
  },
  {
   "cell_type": "code",
   "execution_count": 11,
   "id": "6824fa84-1a40-4f20-bb2f-788db3fb82d6",
   "metadata": {},
   "outputs": [
    {
     "data": {
      "image/png": "[encoded data removed]",
      "text/plain": [
       "<Figure size 1500x900 with 6 Axes>"
      ]
     },
     "metadata": {},
     "output_type": "display_data"
    }
   ],
   "source": [
    "#look ate distribution of values\n",
    "fig, axes = plt.subplots(2, 3, figsize=(15, 9))  # Create a 2x3 grid of subplots\n",
    "axes = axes.flatten()  # Flatten the 2D array of axes to iterate over it\n",
    "\n",
    "for i, column in enumerate(df_dig.columns):\n",
    "        sns.histplot(df_dig[column], ax=axes[i])\n",
    "        axes[i].set_title(f'Histogram of {column}')\n",
    "\n",
    "# Adjust layout and display the plot\n",
    "plt.tight_layout()\n",
    "plt.show()"
   ]
  },
  {
   "cell_type": "markdown",
   "id": "868f8a03-79c4-485c-b2ee-1f9711d703d4",
   "metadata": {},
   "source": [
    "There is mostly an tendency for a group of people to interact very little (the majority) with social apps, and other groups wwll distributed with some to many interactions.  \n",
    "\n",
    "The resemblance of SM_Comments with SM_Shares is striking. We should investigate this - and all correlations.\n",
    "\n",
    "No outliers observed."
   ]
  },
  {
   "cell_type": "code",
   "execution_count": 12,
   "id": "0203b1de-6fcf-4fb2-821d-36cf200232d5",
   "metadata": {},
   "outputs": [
    {
     "data": {
      "image/png": "[encoded data removed]",
      "text/plain": [
       "<Figure size 500x400 with 2 Axes>"
      ]
     },
     "metadata": {},
     "output_type": "display_data"
    }
   ],
   "source": [
    "#correlatiomn between features\n",
    "corr_matrix = df_dig.corr()\n",
    "# Create a heatmap to visualize the correlation matrix\n",
    "plt.figure(figsize=(5, 4))  # Set the size of the figure\n",
    "sns.heatmap(corr_matrix, annot=True, cmap='coolwarm')#, fmt=\".2f\", cmap='coolwarm', cbar=True, square=True)\n",
    "plt.title('Correlation Matrix of df_dig')\n",
    "plt.show()"
   ]
  },
  {
   "cell_type": "markdown",
   "id": "4bdc7491-5bbb-4087-85fb-a0da8cf16336",
   "metadata": {},
   "source": [
    "There are some high correlations:\n",
    "- **SM** interactions are highly correlated 0.74-0.79  \n",
    "  - with a notable **exception**: moderare inverse correlation of **SM_clicks**  \n",
    "\n",
    "    \n",
    "- **Email_Clicks** is **inversely** correlated with **all** other features, except a high correlation with **SM_clicks**  \n",
    "\n",
    "     \n",
    "- **App_clicks** are generally moderately **inversely** correlated with **all** other features.   "
   ]
  },
  {
   "cell_type": "markdown",
   "id": "70d698c1-c418-4bcc-b2c7-fecd25f79ec1",
   "metadata": {
    "jp-MarkdownHeadingCollapsed": true
   },
   "source": [
    "# Regular clustering - kmeans and feature reduction"
   ]
  },
  {
   "cell_type": "markdown",
   "id": "adb98fef-58c9-4193-ae6b-46658a5c88e4",
   "metadata": {
    "jp-MarkdownHeadingCollapsed": true
   },
   "source": [
    "## Feature Reduction and Feature Scaling\n",
    "one or two SM features?\n",
    "(Variance Explained: Consider how much of the variance in your dataset is explained by these features. Sometimes, despite high correlation, both features might capture different aspects that are critical for clustering.)"
   ]
  },
  {
   "cell_type": "markdown",
   "id": "a7622f61-4bcc-4dfd-b405-46559d660c66",
   "metadata": {},
   "source": [
    "**Two aproaches to compare for reducing dimensionality:**\n",
    "1) delete two of the the correlated SM columns and keep one (Shares, Likes, and Comments)\n",
    "2) put the three together into one new column (after normalization)\n",
    "   - keeps all the information with less noise\n",
    "   - more difficult to interpret beyond ('social interaction')\n"
   ]
  },
  {
   "cell_type": "markdown",
   "id": "73a89fc2-dfbf-49a8-9053-f538e0ce7c95",
   "metadata": {},
   "source": [
    "### DF One: two SM columns less\n",
    "The correlation between SM_Comments and SM_Shares is not high enough so that we can eliminate the SM_Shares feature.\n",
    "Among Shares, Likes, and Comments, Shares has missing values and should be eliminated.  \n",
    "\n",
    "Between Comments and Likes, Comments keeps a higher correlation with the eliminated Shares column, thus Comments will be kept as representative of the SM interactions."
   ]
  },
  {
   "cell_type": "code",
   "execution_count": 13,
   "id": "098a708d-87a4-4cec-a852-fcf9a832fb49",
   "metadata": {},
   "outputs": [
    {
     "data": {
      "text/html": [
       "<div>\n",
       "<style scoped>\n",
       "    .dataframe tbody tr th:only-of-type {\n",
       "        vertical-align: middle;\n",
       "    }\n",
       "\n",
       "    .dataframe tbody tr th {\n",
       "        vertical-align: top;\n",
       "    }\n",
       "\n",
       "    .dataframe thead th {\n",
       "        text-align: right;\n",
       "    }\n",
       "</style>\n",
       "<table border=\"1\" class=\"dataframe\">\n",
       "  <thead>\n",
       "    <tr style=\"text-align: right;\">\n",
       "      <th></th>\n",
       "      <th>Email_Clicks</th>\n",
       "      <th>SM_Comments</th>\n",
       "      <th>App_Clicks</th>\n",
       "      <th>SM_Clicks</th>\n",
       "    </tr>\n",
       "    <tr>\n",
       "      <th>Cust_ID</th>\n",
       "      <th></th>\n",
       "      <th></th>\n",
       "      <th></th>\n",
       "      <th></th>\n",
       "    </tr>\n",
       "  </thead>\n",
       "  <tbody>\n",
       "    <tr>\n",
       "      <th>4</th>\n",
       "      <td>72</td>\n",
       "      <td>1</td>\n",
       "      <td>7</td>\n",
       "      <td>73</td>\n",
       "    </tr>\n",
       "    <tr>\n",
       "      <th>5</th>\n",
       "      <td>15</td>\n",
       "      <td>20</td>\n",
       "      <td>1</td>\n",
       "      <td>16</td>\n",
       "    </tr>\n",
       "    <tr>\n",
       "      <th>6</th>\n",
       "      <td>9</td>\n",
       "      <td>7</td>\n",
       "      <td>3</td>\n",
       "      <td>10</td>\n",
       "    </tr>\n",
       "    <tr>\n",
       "      <th>9</th>\n",
       "      <td>67</td>\n",
       "      <td>0</td>\n",
       "      <td>2</td>\n",
       "      <td>101</td>\n",
       "    </tr>\n",
       "    <tr>\n",
       "      <th>10</th>\n",
       "      <td>38</td>\n",
       "      <td>0</td>\n",
       "      <td>1</td>\n",
       "      <td>56</td>\n",
       "    </tr>\n",
       "  </tbody>\n",
       "</table>\n",
       "</div>"
      ],
      "text/plain": [
       "         Email_Clicks  SM_Comments  App_Clicks  SM_Clicks\n",
       "Cust_ID                                                  \n",
       "4                  72            1           7         73\n",
       "5                  15           20           1         16\n",
       "6                   9            7           3         10\n",
       "9                  67            0           2        101\n",
       "10                 38            0           1         56"
      ]
     },
     "execution_count": 13,
     "metadata": {},
     "output_type": "execute_result"
    }
   ],
   "source": [
    "#new option 1 df:\n",
    "df_dig_one=df_dig.drop(['SM_Shares','SM_Likes'], axis=1)\n",
    "df_dig_one.head()"
   ]
  },
  {
   "cell_type": "code",
   "execution_count": 14,
   "id": "cc6e5bcc-b172-4078-aa31-8a20fd42c03c",
   "metadata": {},
   "outputs": [
    {
     "data": {
      "text/html": [
       "<div>\n",
       "<style scoped>\n",
       "    .dataframe tbody tr th:only-of-type {\n",
       "        vertical-align: middle;\n",
       "    }\n",
       "\n",
       "    .dataframe tbody tr th {\n",
       "        vertical-align: top;\n",
       "    }\n",
       "\n",
       "    .dataframe thead th {\n",
       "        text-align: right;\n",
       "    }\n",
       "</style>\n",
       "<table border=\"1\" class=\"dataframe\">\n",
       "  <thead>\n",
       "    <tr style=\"text-align: right;\">\n",
       "      <th></th>\n",
       "      <th>Email_Clicks</th>\n",
       "      <th>SM_Comments</th>\n",
       "      <th>App_Clicks</th>\n",
       "      <th>SM_Clicks</th>\n",
       "    </tr>\n",
       "  </thead>\n",
       "  <tbody>\n",
       "    <tr>\n",
       "      <th>0</th>\n",
       "      <td>1.954504</td>\n",
       "      <td>-0.898784</td>\n",
       "      <td>-0.365912</td>\n",
       "      <td>1.322465</td>\n",
       "    </tr>\n",
       "    <tr>\n",
       "      <th>1</th>\n",
       "      <td>-0.454928</td>\n",
       "      <td>1.457380</td>\n",
       "      <td>-0.541178</td>\n",
       "      <td>-0.444925</td>\n",
       "    </tr>\n",
       "    <tr>\n",
       "      <th>2</th>\n",
       "      <td>-0.708553</td>\n",
       "      <td>-0.154732</td>\n",
       "      <td>-0.482756</td>\n",
       "      <td>-0.630966</td>\n",
       "    </tr>\n",
       "    <tr>\n",
       "      <th>3</th>\n",
       "      <td>1.743150</td>\n",
       "      <td>-1.022792</td>\n",
       "      <td>-0.511967</td>\n",
       "      <td>2.190657</td>\n",
       "    </tr>\n",
       "    <tr>\n",
       "      <th>4</th>\n",
       "      <td>0.517299</td>\n",
       "      <td>-1.022792</td>\n",
       "      <td>-0.541178</td>\n",
       "      <td>0.795349</td>\n",
       "    </tr>\n",
       "  </tbody>\n",
       "</table>\n",
       "</div>"
      ],
      "text/plain": [
       "   Email_Clicks  SM_Comments  App_Clicks  SM_Clicks\n",
       "0      1.954504    -0.898784   -0.365912   1.322465\n",
       "1     -0.454928     1.457380   -0.541178  -0.444925\n",
       "2     -0.708553    -0.154732   -0.482756  -0.630966\n",
       "3      1.743150    -1.022792   -0.511967   2.190657\n",
       "4      0.517299    -1.022792   -0.541178   0.795349"
      ]
     },
     "execution_count": 14,
     "metadata": {},
     "output_type": "execute_result"
    }
   ],
   "source": [
    "#scale features\n",
    "scaler_one = StandardScaler()\n",
    "df_dig_one_scaled = pd.DataFrame(scaler_one.fit_transform(df_dig_one), columns = df_dig_one.columns) #applied to all columns because all are numeric\n",
    "df_dig_one_scaled.head()"
   ]
  },
  {
   "cell_type": "markdown",
   "id": "789ac724-f163-4cbe-a636-79927263f403",
   "metadata": {},
   "source": [
    "### DF Two: pull three SM columns into one\n",
    "SM_shares, SM_likes, and SM_comments"
   ]
  },
  {
   "cell_type": "code",
   "execution_count": 15,
   "id": "130314f4-d953-4ef6-a0a2-fed82cc936d4",
   "metadata": {},
   "outputs": [
    {
     "data": {
      "text/plain": [
       "0.00975"
      ]
     },
     "execution_count": 15,
     "metadata": {},
     "output_type": "execute_result"
    }
   ],
   "source": [
    "#percentage of SM_Shares null values\n",
    "df_dig['SM_Shares'].isnull().mean()"
   ]
  },
  {
   "cell_type": "markdown",
   "id": "2a6495c4-31fd-4c4c-a0ad-5f1917efea10",
   "metadata": {},
   "source": [
    "Less than 1% of values of SM_Shares are missing. Given the apparent existence of at least two populations, neither the mean or the median would be suitable to fill missing values. Other features do not allow a good estimation of the missing values.  \n",
    "Since the missing values represent such a low proportion of the populations let's eliminate them."
   ]
  },
  {
   "cell_type": "code",
   "execution_count": 16,
   "id": "c32c31b9-a165-4a3e-aafb-c4db660d190c",
   "metadata": {},
   "outputs": [
    {
     "name": "stdout",
     "output_type": "stream",
     "text": [
      "3961\n"
     ]
    }
   ],
   "source": [
    "#drop entries with missing values\n",
    "df_dig_two = df_dig.dropna()\n",
    "print(len(df_dig_two))"
   ]
  },
  {
   "cell_type": "code",
   "execution_count": 17,
   "id": "d2678818-a8a4-4b8e-ad2b-44df349550ad",
   "metadata": {
    "scrolled": true
   },
   "outputs": [
    {
     "data": {
      "text/html": [
       "<div>\n",
       "<style scoped>\n",
       "    .dataframe tbody tr th:only-of-type {\n",
       "        vertical-align: middle;\n",
       "    }\n",
       "\n",
       "    .dataframe tbody tr th {\n",
       "        vertical-align: top;\n",
       "    }\n",
       "\n",
       "    .dataframe thead th {\n",
       "        text-align: right;\n",
       "    }\n",
       "</style>\n",
       "<table border=\"1\" class=\"dataframe\">\n",
       "  <thead>\n",
       "    <tr style=\"text-align: right;\">\n",
       "      <th></th>\n",
       "      <th>Email_Clicks</th>\n",
       "      <th>SM_Comments</th>\n",
       "      <th>App_Clicks</th>\n",
       "      <th>SM_Likes</th>\n",
       "      <th>SM_Shares</th>\n",
       "      <th>SM_Clicks</th>\n",
       "    </tr>\n",
       "  </thead>\n",
       "  <tbody>\n",
       "    <tr>\n",
       "      <th>0</th>\n",
       "      <td>1.949793</td>\n",
       "      <td>-0.899284</td>\n",
       "      <td>-0.364554</td>\n",
       "      <td>-0.719960</td>\n",
       "      <td>-0.845991</td>\n",
       "      <td>1.318321</td>\n",
       "    </tr>\n",
       "    <tr>\n",
       "      <th>1</th>\n",
       "      <td>-0.455812</td>\n",
       "      <td>1.456415</td>\n",
       "      <td>-0.539705</td>\n",
       "      <td>0.289296</td>\n",
       "      <td>0.764112</td>\n",
       "      <td>-0.446787</td>\n",
       "    </tr>\n",
       "    <tr>\n",
       "      <th>2</th>\n",
       "      <td>-0.709033</td>\n",
       "      <td>-0.155379</td>\n",
       "      <td>-0.481321</td>\n",
       "      <td>1.659002</td>\n",
       "      <td>1.224142</td>\n",
       "      <td>-0.632587</td>\n",
       "    </tr>\n",
       "    <tr>\n",
       "      <th>3</th>\n",
       "      <td>1.738775</td>\n",
       "      <td>-1.023269</td>\n",
       "      <td>-0.510513</td>\n",
       "      <td>-0.972275</td>\n",
       "      <td>-0.845991</td>\n",
       "      <td>2.185392</td>\n",
       "    </tr>\n",
       "    <tr>\n",
       "      <th>4</th>\n",
       "      <td>0.514871</td>\n",
       "      <td>-1.023269</td>\n",
       "      <td>-0.539705</td>\n",
       "      <td>-0.647871</td>\n",
       "      <td>-0.960998</td>\n",
       "      <td>0.791886</td>\n",
       "    </tr>\n",
       "  </tbody>\n",
       "</table>\n",
       "</div>"
      ],
      "text/plain": [
       "   Email_Clicks  SM_Comments  App_Clicks  SM_Likes  SM_Shares  SM_Clicks\n",
       "0      1.949793    -0.899284   -0.364554 -0.719960  -0.845991   1.318321\n",
       "1     -0.455812     1.456415   -0.539705  0.289296   0.764112  -0.446787\n",
       "2     -0.709033    -0.155379   -0.481321  1.659002   1.224142  -0.632587\n",
       "3      1.738775    -1.023269   -0.510513 -0.972275  -0.845991   2.185392\n",
       "4      0.514871    -1.023269   -0.539705 -0.647871  -0.960998   0.791886"
      ]
     },
     "execution_count": 17,
     "metadata": {},
     "output_type": "execute_result"
    }
   ],
   "source": [
    "#scale features\n",
    "scaler_two = StandardScaler()\n",
    "df_dig_two_scaled = pd.DataFrame(scaler_two.fit_transform(df_dig_two), columns = df_dig_two.columns) #applied to all columns because all are numeric\n",
    "df_dig_two_scaled.head()"
   ]
  },
  {
   "cell_type": "code",
   "execution_count": 18,
   "id": "f4c4932d-1858-47fa-b62a-2da12765f07b",
   "metadata": {},
   "outputs": [
    {
     "data": {
      "text/html": [
       "<div>\n",
       "<style scoped>\n",
       "    .dataframe tbody tr th:only-of-type {\n",
       "        vertical-align: middle;\n",
       "    }\n",
       "\n",
       "    .dataframe tbody tr th {\n",
       "        vertical-align: top;\n",
       "    }\n",
       "\n",
       "    .dataframe thead th {\n",
       "        text-align: right;\n",
       "    }\n",
       "</style>\n",
       "<table border=\"1\" class=\"dataframe\">\n",
       "  <thead>\n",
       "    <tr style=\"text-align: right;\">\n",
       "      <th></th>\n",
       "      <th>Email_Clicks</th>\n",
       "      <th>SM_Comments</th>\n",
       "      <th>App_Clicks</th>\n",
       "      <th>SM_Likes</th>\n",
       "      <th>SM_Shares</th>\n",
       "      <th>SM_Clicks</th>\n",
       "      <th>SM_interactions</th>\n",
       "    </tr>\n",
       "  </thead>\n",
       "  <tbody>\n",
       "    <tr>\n",
       "      <th>0</th>\n",
       "      <td>1.949793</td>\n",
       "      <td>-0.899284</td>\n",
       "      <td>-0.364554</td>\n",
       "      <td>-0.719960</td>\n",
       "      <td>-0.845991</td>\n",
       "      <td>1.318321</td>\n",
       "      <td>-0.821745</td>\n",
       "    </tr>\n",
       "    <tr>\n",
       "      <th>1</th>\n",
       "      <td>-0.455812</td>\n",
       "      <td>1.456415</td>\n",
       "      <td>-0.539705</td>\n",
       "      <td>0.289296</td>\n",
       "      <td>0.764112</td>\n",
       "      <td>-0.446787</td>\n",
       "      <td>0.836608</td>\n",
       "    </tr>\n",
       "    <tr>\n",
       "      <th>2</th>\n",
       "      <td>-0.709033</td>\n",
       "      <td>-0.155379</td>\n",
       "      <td>-0.481321</td>\n",
       "      <td>1.659002</td>\n",
       "      <td>1.224142</td>\n",
       "      <td>-0.632587</td>\n",
       "      <td>0.909255</td>\n",
       "    </tr>\n",
       "    <tr>\n",
       "      <th>3</th>\n",
       "      <td>1.738775</td>\n",
       "      <td>-1.023269</td>\n",
       "      <td>-0.510513</td>\n",
       "      <td>-0.972275</td>\n",
       "      <td>-0.845991</td>\n",
       "      <td>2.185392</td>\n",
       "      <td>-0.947178</td>\n",
       "    </tr>\n",
       "    <tr>\n",
       "      <th>4</th>\n",
       "      <td>0.514871</td>\n",
       "      <td>-1.023269</td>\n",
       "      <td>-0.539705</td>\n",
       "      <td>-0.647871</td>\n",
       "      <td>-0.960998</td>\n",
       "      <td>0.791886</td>\n",
       "      <td>-0.877379</td>\n",
       "    </tr>\n",
       "  </tbody>\n",
       "</table>\n",
       "</div>"
      ],
      "text/plain": [
       "   Email_Clicks  SM_Comments  App_Clicks  SM_Likes  SM_Shares  SM_Clicks  \\\n",
       "0      1.949793    -0.899284   -0.364554 -0.719960  -0.845991   1.318321   \n",
       "1     -0.455812     1.456415   -0.539705  0.289296   0.764112  -0.446787   \n",
       "2     -0.709033    -0.155379   -0.481321  1.659002   1.224142  -0.632587   \n",
       "3      1.738775    -1.023269   -0.510513 -0.972275  -0.845991   2.185392   \n",
       "4      0.514871    -1.023269   -0.539705 -0.647871  -0.960998   0.791886   \n",
       "\n",
       "   SM_interactions  \n",
       "0        -0.821745  \n",
       "1         0.836608  \n",
       "2         0.909255  \n",
       "3        -0.947178  \n",
       "4        -0.877379  "
      ]
     },
     "execution_count": 18,
     "metadata": {},
     "output_type": "execute_result"
    }
   ],
   "source": [
    "#pull Shares, Likes, and Comments into Interactions\n",
    "df_dig_two_scaled['SM_interactions'] = df_dig_two_scaled[['SM_Comments', 'SM_Likes', 'SM_Shares']].mean(axis=1)\n",
    "df_dig_two_scaled.head()"
   ]
  },
  {
   "cell_type": "code",
   "execution_count": 19,
   "id": "f79e1217-8546-4856-9e6e-e60eb8da6276",
   "metadata": {},
   "outputs": [
    {
     "data": {
      "text/html": [
       "<div>\n",
       "<style scoped>\n",
       "    .dataframe tbody tr th:only-of-type {\n",
       "        vertical-align: middle;\n",
       "    }\n",
       "\n",
       "    .dataframe tbody tr th {\n",
       "        vertical-align: top;\n",
       "    }\n",
       "\n",
       "    .dataframe thead th {\n",
       "        text-align: right;\n",
       "    }\n",
       "</style>\n",
       "<table border=\"1\" class=\"dataframe\">\n",
       "  <thead>\n",
       "    <tr style=\"text-align: right;\">\n",
       "      <th></th>\n",
       "      <th>Email_Clicks</th>\n",
       "      <th>App_Clicks</th>\n",
       "      <th>SM_Clicks</th>\n",
       "      <th>SM_interactions</th>\n",
       "    </tr>\n",
       "  </thead>\n",
       "  <tbody>\n",
       "    <tr>\n",
       "      <th>0</th>\n",
       "      <td>1.949793</td>\n",
       "      <td>-0.364554</td>\n",
       "      <td>1.318321</td>\n",
       "      <td>-0.821745</td>\n",
       "    </tr>\n",
       "    <tr>\n",
       "      <th>1</th>\n",
       "      <td>-0.455812</td>\n",
       "      <td>-0.539705</td>\n",
       "      <td>-0.446787</td>\n",
       "      <td>0.836608</td>\n",
       "    </tr>\n",
       "    <tr>\n",
       "      <th>2</th>\n",
       "      <td>-0.709033</td>\n",
       "      <td>-0.481321</td>\n",
       "      <td>-0.632587</td>\n",
       "      <td>0.909255</td>\n",
       "    </tr>\n",
       "    <tr>\n",
       "      <th>3</th>\n",
       "      <td>1.738775</td>\n",
       "      <td>-0.510513</td>\n",
       "      <td>2.185392</td>\n",
       "      <td>-0.947178</td>\n",
       "    </tr>\n",
       "    <tr>\n",
       "      <th>4</th>\n",
       "      <td>0.514871</td>\n",
       "      <td>-0.539705</td>\n",
       "      <td>0.791886</td>\n",
       "      <td>-0.877379</td>\n",
       "    </tr>\n",
       "  </tbody>\n",
       "</table>\n",
       "</div>"
      ],
      "text/plain": [
       "   Email_Clicks  App_Clicks  SM_Clicks  SM_interactions\n",
       "0      1.949793   -0.364554   1.318321        -0.821745\n",
       "1     -0.455812   -0.539705  -0.446787         0.836608\n",
       "2     -0.709033   -0.481321  -0.632587         0.909255\n",
       "3      1.738775   -0.510513   2.185392        -0.947178\n",
       "4      0.514871   -0.539705   0.791886        -0.877379"
      ]
     },
     "execution_count": 19,
     "metadata": {},
     "output_type": "execute_result"
    }
   ],
   "source": [
    "df_dig_two_scaled.drop(['SM_Comments', 'SM_Likes', 'SM_Shares'], axis=1, inplace=True)\n",
    "df_dig_two_scaled.head()"
   ]
  },
  {
   "cell_type": "markdown",
   "id": "47e4064d-7937-4769-8a4a-30ab0e23326a",
   "metadata": {
    "jp-MarkdownHeadingCollapsed": true
   },
   "source": [
    "## Determine Optimal Number of Clusters\n",
    "Elbow Method, Silhouette Score, or the Gap Statistic"
   ]
  },
  {
   "cell_type": "markdown",
   "id": "6492549e-d38c-4538-aeef-44ebab1c74e2",
   "metadata": {},
   "source": [
    "### Option One:"
   ]
  },
  {
   "cell_type": "code",
   "execution_count": 20,
   "id": "4da4e068-6074-4185-a0e2-3e2c0ffc16a6",
   "metadata": {},
   "outputs": [
    {
     "name": "stderr",
     "output_type": "stream",
     "text": [
      "C:\\Users\\nihon\\anaconda3\\envs\\ds\\Lib\\site-packages\\joblib\\externals\\loky\\backend\\context.py:136: UserWarning: Could not find the number of physical cores for the following reason:\n",
      "[WinError 2] The system cannot find the file specified\n",
      "Returning the number of logical cores instead. You can silence this warning by setting LOKY_MAX_CPU_COUNT to the number of cores you want to use.\n",
      "  warnings.warn(\n",
      "  File \"C:\\Users\\nihon\\anaconda3\\envs\\ds\\Lib\\site-packages\\joblib\\externals\\loky\\backend\\context.py\", line 257, in _count_physical_cores\n",
      "    cpu_info = subprocess.run(\n",
      "               ^^^^^^^^^^^^^^^\n",
      "  File \"C:\\Users\\nihon\\anaconda3\\envs\\ds\\Lib\\subprocess.py\", line 548, in run\n",
      "    with Popen(*popenargs, **kwargs) as process:\n",
      "         ^^^^^^^^^^^^^^^^^^^^^^^^^^^\n",
      "  File \"C:\\Users\\nihon\\anaconda3\\envs\\ds\\Lib\\subprocess.py\", line 1026, in __init__\n",
      "    self._execute_child(args, executable, preexec_fn, close_fds,\n",
      "  File \"C:\\Users\\nihon\\anaconda3\\envs\\ds\\Lib\\subprocess.py\", line 1538, in _execute_child\n",
      "    hp, ht, pid, tid = _winapi.CreateProcess(executable, args,\n",
      "                       ^^^^^^^^^^^^^^^^^^^^^^^^^^^^^^^^^^^^^^^\n"
     ]
    },
    {
     "data": {
      "image/png": "[encoded data removed]",
      "text/plain": [
       "<Figure size 500x400 with 1 Axes>"
      ]
     },
     "metadata": {},
     "output_type": "display_data"
    }
   ],
   "source": [
    "# Calculate distortion for a range of number of cluster\n",
    "distortions_one = []\n",
    "for i in range(1, 11):\n",
    "    km_one = KMeans(n_clusters=i, init='k-means++', n_init=10, max_iter=300, random_state=42) #kmean++ to get a better spreading of the initial centroids\n",
    "    km_one.fit(df_dig_one_scaled)\n",
    "    km_one.fit(df_dig_one_scaled)\n",
    "    distortions_one.append(km_one.inertia_)\n",
    "\n",
    "# Plot the elbow graph\n",
    "plt.figure(figsize=(5, 4))\n",
    "plt.plot(range(1, 11), distortions_one, marker='o')\n",
    "plt.title('Elbow Method For Optimal k for Option One')\n",
    "plt.xlabel('Number of clusters')\n",
    "plt.ylabel('Distortion')\n",
    "plt.show()"
   ]
  },
  {
   "cell_type": "markdown",
   "id": "30c4dcdc-3f30-4f72-af43-719a08923b2f",
   "metadata": {},
   "source": [
    "**3 clusters** seem ideal to characterize our data. (option one)"
   ]
  },
  {
   "cell_type": "markdown",
   "id": "12a88d5e-f624-42b1-b0b3-18476eac3e7a",
   "metadata": {},
   "source": [
    "### Option Two"
   ]
  },
  {
   "cell_type": "code",
   "execution_count": 21,
   "id": "dd5f5361-c9c1-47dd-80c9-dcb7a594f726",
   "metadata": {},
   "outputs": [
    {
     "data": {
      "image/png": "[encoded data removed]",
      "text/plain": [
       "<Figure size 500x400 with 1 Axes>"
      ]
     },
     "metadata": {},
     "output_type": "display_data"
    }
   ],
   "source": [
    "# Calculate distortion for a range of number of cluster\n",
    "distortions_two = []\n",
    "for i in range(1, 11):\n",
    "    km_two = KMeans(n_clusters=i, init='k-means++', n_init=10, max_iter=300, random_state=42) #kmean++ to get a better spreading of the initial centroids\n",
    "    km_two.fit(df_dig_two_scaled)\n",
    "    distortions_two.append(km_two.inertia_)\n",
    "\n",
    "# Plot the elbow graph\n",
    "plt.figure(figsize=(5, 4))\n",
    "plt.plot(range(1, 11), distortions_two, marker='o')\n",
    "plt.title('Elbow Method For Optimal k for Option Two')\n",
    "plt.xlabel('Number of clusters')\n",
    "plt.ylabel('Distortion')\n",
    "plt.show()"
   ]
  },
  {
   "cell_type": "markdown",
   "id": "b744b7ad-83f8-4511-b49d-9c151ea5a08f",
   "metadata": {},
   "source": [
    "**3 clusters** is also ideal for option Two."
   ]
  },
  {
   "cell_type": "code",
   "execution_count": 22,
   "id": "0dc66002-8d44-4acd-a30f-4e70ca7765d6",
   "metadata": {},
   "outputs": [
    {
     "name": "stdout",
     "output_type": "stream",
     "text": [
      "Distortion of 3 clusters for Option One: 2766.58808772605\n",
      "Distortion of 3 clusters for Option Two: 2232.088459040278\n"
     ]
    }
   ],
   "source": [
    "#compare both approaches\n",
    "print(f'Distortion of 3 clusters for Option One: {distortions_one[2]}')\n",
    "print(f'Distortion of 3 clusters for Option Two: {distortions_two[2]}')"
   ]
  },
  {
   "cell_type": "markdown",
   "id": "1afb04be-537c-42b0-87ac-1250388978d5",
   "metadata": {},
   "source": [
    "- **Option Two** clusters seem to represent better the data with lower distances beteween data each cluster: 2232 vs 2762."
   ]
  },
  {
   "cell_type": "markdown",
   "id": "e2a857ec-8a49-4fe1-96ec-91ceb5e41529",
   "metadata": {},
   "source": [
    "## K-Means Clustering"
   ]
  },
  {
   "cell_type": "markdown",
   "id": "2a614677-f72e-4854-9b0d-43c28c6f865b",
   "metadata": {},
   "source": [
    "### Option One"
   ]
  },
  {
   "cell_type": "code",
   "execution_count": null,
   "id": "e362103c-a3f6-4595-a04e-38553f7f086e",
   "metadata": {},
   "outputs": [],
   "source": []
  },
  {
   "cell_type": "code",
   "execution_count": 23,
   "id": "9645832e-b3bd-4364-961e-3009864802fb",
   "metadata": {
    "scrolled": true
   },
   "outputs": [
    {
     "data": {
      "text/html": [
       "<div>\n",
       "<style scoped>\n",
       "    .dataframe tbody tr th:only-of-type {\n",
       "        vertical-align: middle;\n",
       "    }\n",
       "\n",
       "    .dataframe tbody tr th {\n",
       "        vertical-align: top;\n",
       "    }\n",
       "\n",
       "    .dataframe thead th {\n",
       "        text-align: right;\n",
       "    }\n",
       "</style>\n",
       "<table border=\"1\" class=\"dataframe\">\n",
       "  <thead>\n",
       "    <tr style=\"text-align: right;\">\n",
       "      <th></th>\n",
       "      <th>Email_Clicks</th>\n",
       "      <th>SM_Comments</th>\n",
       "      <th>App_Clicks</th>\n",
       "      <th>SM_Clicks</th>\n",
       "      <th>cluster</th>\n",
       "    </tr>\n",
       "  </thead>\n",
       "  <tbody>\n",
       "    <tr>\n",
       "      <th>0</th>\n",
       "      <td>1.954504</td>\n",
       "      <td>-0.898784</td>\n",
       "      <td>-0.365912</td>\n",
       "      <td>1.322465</td>\n",
       "      <td>0</td>\n",
       "    </tr>\n",
       "    <tr>\n",
       "      <th>1</th>\n",
       "      <td>-0.454928</td>\n",
       "      <td>1.457380</td>\n",
       "      <td>-0.541178</td>\n",
       "      <td>-0.444925</td>\n",
       "      <td>1</td>\n",
       "    </tr>\n",
       "    <tr>\n",
       "      <th>2</th>\n",
       "      <td>-0.708553</td>\n",
       "      <td>-0.154732</td>\n",
       "      <td>-0.482756</td>\n",
       "      <td>-0.630966</td>\n",
       "      <td>1</td>\n",
       "    </tr>\n",
       "    <tr>\n",
       "      <th>3</th>\n",
       "      <td>1.743150</td>\n",
       "      <td>-1.022792</td>\n",
       "      <td>-0.511967</td>\n",
       "      <td>2.190657</td>\n",
       "      <td>0</td>\n",
       "    </tr>\n",
       "    <tr>\n",
       "      <th>4</th>\n",
       "      <td>0.517299</td>\n",
       "      <td>-1.022792</td>\n",
       "      <td>-0.541178</td>\n",
       "      <td>0.795349</td>\n",
       "      <td>0</td>\n",
       "    </tr>\n",
       "  </tbody>\n",
       "</table>\n",
       "</div>"
      ],
      "text/plain": [
       "   Email_Clicks  SM_Comments  App_Clicks  SM_Clicks  cluster\n",
       "0      1.954504    -0.898784   -0.365912   1.322465        0\n",
       "1     -0.454928     1.457380   -0.541178  -0.444925        1\n",
       "2     -0.708553    -0.154732   -0.482756  -0.630966        1\n",
       "3      1.743150    -1.022792   -0.511967   2.190657        0\n",
       "4      0.517299    -1.022792   -0.541178   0.795349        0"
      ]
     },
     "execution_count": 23,
     "metadata": {},
     "output_type": "execute_result"
    }
   ],
   "source": [
    "#Option One\n",
    "n_clusters=3\n",
    "km_one_final = KMeans(n_clusters=n_clusters, init='k-means++', n_init=10, max_iter=300, random_state=42)\n",
    "km_one_final.fit(df_dig_one_scaled)\n",
    "df_dig_one_scaled['cluster'] = pd.Series(km_one_final.predict(df_dig_one_scaled))\n",
    "df_dig_one_scaled.head()"
   ]
  },
  {
   "cell_type": "code",
   "execution_count": 24,
   "id": "0f370fb5-d43a-4480-8ffe-23e7b9f80614",
   "metadata": {
    "scrolled": true
   },
   "outputs": [
    {
     "data": {
      "image/png": "[encoded data removed]",
      "text/plain": [
       "<Figure size 500x300 with 1 Axes>"
      ]
     },
     "metadata": {},
     "output_type": "display_data"
    },
    {
     "data": {
      "image/png": "[encoded data removed]",
      "text/plain": [
       "<Figure size 500x300 with 1 Axes>"
      ]
     },
     "metadata": {},
     "output_type": "display_data"
    },
    {
     "data": {
      "image/png": "[encoded data removed]",
      "text/plain": [
       "<Figure size 500x300 with 1 Axes>"
      ]
     },
     "metadata": {},
     "output_type": "display_data"
    }
   ],
   "source": [
    "#look at each cluster's data\n",
    "for i in range(n_clusters):\n",
    "    plt.figure(figsize=(5, 3))\n",
    "    sns.boxplot(data=df_dig_one_scaled[df_dig_one_scaled['cluster'] == i].iloc[:,0:-1])\n",
    "    plt.title('')\n",
    "    plt.show()"
   ]
  },
  {
   "cell_type": "markdown",
   "id": "b8fd8bd2-b5c8-460a-ae38-62c3126811b6",
   "metadata": {},
   "source": [
    "The 3 cluster have 3 well defined behaviors:\n",
    "1) The 'high commenters', with **SM_Comments** being the only feature above average (and the other two gighly correlated, deleted features)\n",
    "2) The 'social clickers', with **Email_clicks** and **SM_Clicks** above average.\n",
    "3) The 'app clickers', with **App_clicks** above average."
   ]
  },
  {
   "cell_type": "markdown",
   "id": "48fb5312-26be-4c0c-842d-239371ab38f3",
   "metadata": {},
   "source": [
    "### Option Two"
   ]
  },
  {
   "cell_type": "code",
   "execution_count": 25,
   "id": "1593bbf5-82ea-45df-9008-07b1f802d2d5",
   "metadata": {},
   "outputs": [
    {
     "data": {
      "text/html": [
       "<div>\n",
       "<style scoped>\n",
       "    .dataframe tbody tr th:only-of-type {\n",
       "        vertical-align: middle;\n",
       "    }\n",
       "\n",
       "    .dataframe tbody tr th {\n",
       "        vertical-align: top;\n",
       "    }\n",
       "\n",
       "    .dataframe thead th {\n",
       "        text-align: right;\n",
       "    }\n",
       "</style>\n",
       "<table border=\"1\" class=\"dataframe\">\n",
       "  <thead>\n",
       "    <tr style=\"text-align: right;\">\n",
       "      <th></th>\n",
       "      <th>Email_Clicks</th>\n",
       "      <th>App_Clicks</th>\n",
       "      <th>SM_Clicks</th>\n",
       "      <th>SM_interactions</th>\n",
       "      <th>cluster</th>\n",
       "    </tr>\n",
       "  </thead>\n",
       "  <tbody>\n",
       "    <tr>\n",
       "      <th>0</th>\n",
       "      <td>1.949793</td>\n",
       "      <td>-0.364554</td>\n",
       "      <td>1.318321</td>\n",
       "      <td>-0.821745</td>\n",
       "      <td>1</td>\n",
       "    </tr>\n",
       "    <tr>\n",
       "      <th>1</th>\n",
       "      <td>-0.455812</td>\n",
       "      <td>-0.539705</td>\n",
       "      <td>-0.446787</td>\n",
       "      <td>0.836608</td>\n",
       "      <td>0</td>\n",
       "    </tr>\n",
       "    <tr>\n",
       "      <th>2</th>\n",
       "      <td>-0.709033</td>\n",
       "      <td>-0.481321</td>\n",
       "      <td>-0.632587</td>\n",
       "      <td>0.909255</td>\n",
       "      <td>0</td>\n",
       "    </tr>\n",
       "    <tr>\n",
       "      <th>3</th>\n",
       "      <td>1.738775</td>\n",
       "      <td>-0.510513</td>\n",
       "      <td>2.185392</td>\n",
       "      <td>-0.947178</td>\n",
       "      <td>1</td>\n",
       "    </tr>\n",
       "    <tr>\n",
       "      <th>4</th>\n",
       "      <td>0.514871</td>\n",
       "      <td>-0.539705</td>\n",
       "      <td>0.791886</td>\n",
       "      <td>-0.877379</td>\n",
       "      <td>1</td>\n",
       "    </tr>\n",
       "  </tbody>\n",
       "</table>\n",
       "</div>"
      ],
      "text/plain": [
       "   Email_Clicks  App_Clicks  SM_Clicks  SM_interactions  cluster\n",
       "0      1.949793   -0.364554   1.318321        -0.821745        1\n",
       "1     -0.455812   -0.539705  -0.446787         0.836608        0\n",
       "2     -0.709033   -0.481321  -0.632587         0.909255        0\n",
       "3      1.738775   -0.510513   2.185392        -0.947178        1\n",
       "4      0.514871   -0.539705   0.791886        -0.877379        1"
      ]
     },
     "execution_count": 25,
     "metadata": {},
     "output_type": "execute_result"
    }
   ],
   "source": [
    "#Option One\n",
    "n_clusters=3\n",
    "km_two_final = KMeans(n_clusters=n_clusters, init='k-means++', n_init=10, max_iter=300, random_state=42)\n",
    "km_two_final.fit(df_dig_two_scaled)\n",
    "df_dig_two_scaled['cluster'] = pd.Series(km_two_final.predict(df_dig_two_scaled))\n",
    "df_dig_two_scaled.head()"
   ]
  },
  {
   "cell_type": "code",
   "execution_count": 26,
   "id": "c66a4d37-d9aa-40bb-9ef1-8ee2296c4f55",
   "metadata": {},
   "outputs": [
    {
     "name": "stdout",
     "output_type": "stream",
     "text": [
      "Cluster 0\n"
     ]
    },
    {
     "data": {
      "image/png": "[encoded data removed]",
      "text/plain": [
       "<Figure size 500x300 with 1 Axes>"
      ]
     },
     "metadata": {},
     "output_type": "display_data"
    },
    {
     "name": "stdout",
     "output_type": "stream",
     "text": [
      "Cluster 1\n"
     ]
    },
    {
     "data": {
      "image/png": "[encoded data removed]",
      "text/plain": [
       "<Figure size 500x300 with 1 Axes>"
      ]
     },
     "metadata": {},
     "output_type": "display_data"
    },
    {
     "name": "stdout",
     "output_type": "stream",
     "text": [
      "Cluster 2\n"
     ]
    },
    {
     "data": {
      "image/png": "[encoded data removed]",
      "text/plain": [
       "<Figure size 500x300 with 1 Axes>"
      ]
     },
     "metadata": {},
     "output_type": "display_data"
    }
   ],
   "source": [
    "#look at each cluster's data\n",
    "for i in range(n_clusters):\n",
    "    print(f'Cluster {i}')\n",
    "    plt.figure(figsize=(5, 3))\n",
    "    sns.boxplot(data=df_dig_two_scaled[df_dig_two_scaled['cluster'] == i].iloc[:,0:-1])\n",
    "    plt.title('')\n",
    "    plt.show()"
   ]
  },
  {
   "cell_type": "markdown",
   "id": "e74f6613-11d3-4f6a-bd5f-f700425612c7",
   "metadata": {},
   "source": [
    "The conclusions are very similar to Option One. Copied below:\n",
    "1) The 'socializers', with **SM_Interactions** being the only feature above average\n",
    "2) The 'social clickers', with **Email_clicks** and **SM_Clicks** above average.\n",
    "3) The 'app clickers', with **App_clicks** the only above average."
   ]
  },
  {
   "cell_type": "markdown",
   "id": "7d2ba88c-4141-4933-bfe3-18039c1d344c",
   "metadata": {},
   "source": [
    "## Strategies and decisions:\n",
    "- choose option one or two: depends on the spread of the data that characterizes each group\n",
    "- make numeric characterization to transform numbers back to the originals"
   ]
  },
  {
   "cell_type": "markdown",
   "id": "d07ea45f-75a1-4c5b-9180-5066d85c8e9f",
   "metadata": {},
   "source": [
    "### Interpret Results:\n",
    "(Interpret the characteristics of each cluster. Understand what each cluster represents in the context of client behavior.)"
   ]
  },
  {
   "cell_type": "markdown",
   "id": "8cafd406-97c3-4762-b9c0-0cb813dfac91",
   "metadata": {},
   "source": [
    "### Actionable Insights:\n",
    "(Use the segmentation to derive actionable insights for business strategies such as targeted marketing, personalized customer engagement, etc.)"
   ]
  },
  {
   "cell_type": "code",
   "execution_count": 27,
   "id": "7819b7b1-668a-4feb-907c-df92211b6a55",
   "metadata": {},
   "outputs": [
    {
     "data": {
      "text/html": [
       "<div>\n",
       "<style scoped>\n",
       "    .dataframe tbody tr th:only-of-type {\n",
       "        vertical-align: middle;\n",
       "    }\n",
       "\n",
       "    .dataframe tbody tr th {\n",
       "        vertical-align: top;\n",
       "    }\n",
       "\n",
       "    .dataframe thead th {\n",
       "        text-align: right;\n",
       "    }\n",
       "</style>\n",
       "<table border=\"1\" class=\"dataframe\">\n",
       "  <thead>\n",
       "    <tr style=\"text-align: right;\">\n",
       "      <th></th>\n",
       "      <th>Email_Clicks</th>\n",
       "      <th>SM_Comments</th>\n",
       "      <th>App_Clicks</th>\n",
       "      <th>SM_Likes</th>\n",
       "      <th>SM_Shares</th>\n",
       "      <th>SM_Clicks</th>\n",
       "    </tr>\n",
       "    <tr>\n",
       "      <th>Cust_ID</th>\n",
       "      <th></th>\n",
       "      <th></th>\n",
       "      <th></th>\n",
       "      <th></th>\n",
       "      <th></th>\n",
       "      <th></th>\n",
       "    </tr>\n",
       "  </thead>\n",
       "  <tbody>\n",
       "    <tr>\n",
       "      <th>4</th>\n",
       "      <td>72</td>\n",
       "      <td>1</td>\n",
       "      <td>7</td>\n",
       "      <td>7</td>\n",
       "      <td>1.0</td>\n",
       "      <td>73</td>\n",
       "    </tr>\n",
       "    <tr>\n",
       "      <th>5</th>\n",
       "      <td>15</td>\n",
       "      <td>20</td>\n",
       "      <td>1</td>\n",
       "      <td>35</td>\n",
       "      <td>15.0</td>\n",
       "      <td>16</td>\n",
       "    </tr>\n",
       "    <tr>\n",
       "      <th>6</th>\n",
       "      <td>9</td>\n",
       "      <td>7</td>\n",
       "      <td>3</td>\n",
       "      <td>73</td>\n",
       "      <td>19.0</td>\n",
       "      <td>10</td>\n",
       "    </tr>\n",
       "    <tr>\n",
       "      <th>9</th>\n",
       "      <td>67</td>\n",
       "      <td>0</td>\n",
       "      <td>2</td>\n",
       "      <td>0</td>\n",
       "      <td>1.0</td>\n",
       "      <td>101</td>\n",
       "    </tr>\n",
       "    <tr>\n",
       "      <th>10</th>\n",
       "      <td>38</td>\n",
       "      <td>0</td>\n",
       "      <td>1</td>\n",
       "      <td>9</td>\n",
       "      <td>0.0</td>\n",
       "      <td>56</td>\n",
       "    </tr>\n",
       "    <tr>\n",
       "      <th>11</th>\n",
       "      <td>66</td>\n",
       "      <td>1</td>\n",
       "      <td>4</td>\n",
       "      <td>7</td>\n",
       "      <td>1.0</td>\n",
       "      <td>93</td>\n",
       "    </tr>\n",
       "    <tr>\n",
       "      <th>12</th>\n",
       "      <td>12</td>\n",
       "      <td>7</td>\n",
       "      <td>3</td>\n",
       "      <td>31</td>\n",
       "      <td>14.0</td>\n",
       "      <td>8</td>\n",
       "    </tr>\n",
       "    <tr>\n",
       "      <th>15</th>\n",
       "      <td>60</td>\n",
       "      <td>2</td>\n",
       "      <td>5</td>\n",
       "      <td>1</td>\n",
       "      <td>2.0</td>\n",
       "      <td>57</td>\n",
       "    </tr>\n",
       "    <tr>\n",
       "      <th>18</th>\n",
       "      <td>5</td>\n",
       "      <td>12</td>\n",
       "      <td>1</td>\n",
       "      <td>38</td>\n",
       "      <td>26.0</td>\n",
       "      <td>12</td>\n",
       "    </tr>\n",
       "    <tr>\n",
       "      <th>19</th>\n",
       "      <td>11</td>\n",
       "      <td>12</td>\n",
       "      <td>2</td>\n",
       "      <td>81</td>\n",
       "      <td>14.0</td>\n",
       "      <td>18</td>\n",
       "    </tr>\n",
       "    <tr>\n",
       "      <th>20</th>\n",
       "      <td>66</td>\n",
       "      <td>2</td>\n",
       "      <td>5</td>\n",
       "      <td>1</td>\n",
       "      <td>1.0</td>\n",
       "      <td>65</td>\n",
       "    </tr>\n",
       "    <tr>\n",
       "      <th>21</th>\n",
       "      <td>13</td>\n",
       "      <td>17</td>\n",
       "      <td>3</td>\n",
       "      <td>29</td>\n",
       "      <td>24.0</td>\n",
       "      <td>6</td>\n",
       "    </tr>\n",
       "    <tr>\n",
       "      <th>24</th>\n",
       "      <td>15</td>\n",
       "      <td>14</td>\n",
       "      <td>1</td>\n",
       "      <td>16</td>\n",
       "      <td>7.0</td>\n",
       "      <td>15</td>\n",
       "    </tr>\n",
       "    <tr>\n",
       "      <th>25</th>\n",
       "      <td>23</td>\n",
       "      <td>0</td>\n",
       "      <td>78</td>\n",
       "      <td>5</td>\n",
       "      <td>1.0</td>\n",
       "      <td>2</td>\n",
       "    </tr>\n",
       "    <tr>\n",
       "      <th>28</th>\n",
       "      <td>8</td>\n",
       "      <td>15</td>\n",
       "      <td>0</td>\n",
       "      <td>31</td>\n",
       "      <td>NaN</td>\n",
       "      <td>8</td>\n",
       "    </tr>\n",
       "  </tbody>\n",
       "</table>\n",
       "</div>"
      ],
      "text/plain": [
       "         Email_Clicks  SM_Comments  App_Clicks  SM_Likes  SM_Shares  SM_Clicks\n",
       "Cust_ID                                                                       \n",
       "4                  72            1           7         7        1.0         73\n",
       "5                  15           20           1        35       15.0         16\n",
       "6                   9            7           3        73       19.0         10\n",
       "9                  67            0           2         0        1.0        101\n",
       "10                 38            0           1         9        0.0         56\n",
       "11                 66            1           4         7        1.0         93\n",
       "12                 12            7           3        31       14.0          8\n",
       "15                 60            2           5         1        2.0         57\n",
       "18                  5           12           1        38       26.0         12\n",
       "19                 11           12           2        81       14.0         18\n",
       "20                 66            2           5         1        1.0         65\n",
       "21                 13           17           3        29       24.0          6\n",
       "24                 15           14           1        16        7.0         15\n",
       "25                 23            0          78         5        1.0          2\n",
       "28                  8           15           0        31        NaN          8"
      ]
     },
     "execution_count": 27,
     "metadata": {},
     "output_type": "execute_result"
    }
   ],
   "source": [
    "df_dig.head(15)"
   ]
  },
  {
   "cell_type": "markdown",
   "id": "ae096caa-b782-49b0-8a3d-70d3c53ccc9e",
   "metadata": {},
   "source": [
    "# Advanced Clustering - PCA for dimension reduction and other clustering technique"
   ]
  },
  {
   "cell_type": "code",
   "execution_count": 28,
   "id": "f1ae17e0-eeee-43f5-820c-e702ae585fd5",
   "metadata": {},
   "outputs": [
    {
     "data": {
      "text/html": [
       "<div>\n",
       "<style scoped>\n",
       "    .dataframe tbody tr th:only-of-type {\n",
       "        vertical-align: middle;\n",
       "    }\n",
       "\n",
       "    .dataframe tbody tr th {\n",
       "        vertical-align: top;\n",
       "    }\n",
       "\n",
       "    .dataframe thead th {\n",
       "        text-align: right;\n",
       "    }\n",
       "</style>\n",
       "<table border=\"1\" class=\"dataframe\">\n",
       "  <thead>\n",
       "    <tr style=\"text-align: right;\">\n",
       "      <th></th>\n",
       "      <th>Email_Clicks</th>\n",
       "      <th>SM_Comments</th>\n",
       "      <th>App_Clicks</th>\n",
       "      <th>SM_Likes</th>\n",
       "      <th>SM_Shares</th>\n",
       "      <th>SM_Clicks</th>\n",
       "    </tr>\n",
       "    <tr>\n",
       "      <th>Cust_ID</th>\n",
       "      <th></th>\n",
       "      <th></th>\n",
       "      <th></th>\n",
       "      <th></th>\n",
       "      <th></th>\n",
       "      <th></th>\n",
       "    </tr>\n",
       "  </thead>\n",
       "  <tbody>\n",
       "    <tr>\n",
       "      <th>4</th>\n",
       "      <td>72</td>\n",
       "      <td>1</td>\n",
       "      <td>7</td>\n",
       "      <td>7</td>\n",
       "      <td>1.0</td>\n",
       "      <td>73</td>\n",
       "    </tr>\n",
       "    <tr>\n",
       "      <th>5</th>\n",
       "      <td>15</td>\n",
       "      <td>20</td>\n",
       "      <td>1</td>\n",
       "      <td>35</td>\n",
       "      <td>15.0</td>\n",
       "      <td>16</td>\n",
       "    </tr>\n",
       "    <tr>\n",
       "      <th>6</th>\n",
       "      <td>9</td>\n",
       "      <td>7</td>\n",
       "      <td>3</td>\n",
       "      <td>73</td>\n",
       "      <td>19.0</td>\n",
       "      <td>10</td>\n",
       "    </tr>\n",
       "    <tr>\n",
       "      <th>9</th>\n",
       "      <td>67</td>\n",
       "      <td>0</td>\n",
       "      <td>2</td>\n",
       "      <td>0</td>\n",
       "      <td>1.0</td>\n",
       "      <td>101</td>\n",
       "    </tr>\n",
       "    <tr>\n",
       "      <th>10</th>\n",
       "      <td>38</td>\n",
       "      <td>0</td>\n",
       "      <td>1</td>\n",
       "      <td>9</td>\n",
       "      <td>0.0</td>\n",
       "      <td>56</td>\n",
       "    </tr>\n",
       "  </tbody>\n",
       "</table>\n",
       "</div>"
      ],
      "text/plain": [
       "         Email_Clicks  SM_Comments  App_Clicks  SM_Likes  SM_Shares  SM_Clicks\n",
       "Cust_ID                                                                       \n",
       "4                  72            1           7         7        1.0         73\n",
       "5                  15           20           1        35       15.0         16\n",
       "6                   9            7           3        73       19.0         10\n",
       "9                  67            0           2         0        1.0        101\n",
       "10                 38            0           1         9        0.0         56"
      ]
     },
     "execution_count": 28,
     "metadata": {},
     "output_type": "execute_result"
    }
   ],
   "source": [
    "#check original df\n",
    "df_dig.head()"
   ]
  },
  {
   "cell_type": "code",
   "execution_count": 37,
   "id": "c00cb0a8-fd8a-4c43-a546-cce286b5dfac",
   "metadata": {},
   "outputs": [
    {
     "name": "stdout",
     "output_type": "stream",
     "text": [
      "<class 'pandas.core.frame.DataFrame'>\n",
      "Index: 4000 entries, 4 to 6496\n",
      "Data columns (total 6 columns):\n",
      " #   Column        Non-Null Count  Dtype  \n",
      "---  ------        --------------  -----  \n",
      " 0   Email_Clicks  4000 non-null   int64  \n",
      " 1   SM_Comments   4000 non-null   int64  \n",
      " 2   App_Clicks    4000 non-null   int64  \n",
      " 3   SM_Likes      4000 non-null   int64  \n",
      " 4   SM_Shares     3961 non-null   float64\n",
      " 5   SM_Clicks     4000 non-null   int64  \n",
      "dtypes: float64(1), int64(5)\n",
      "memory usage: 218.8 KB\n"
     ]
    }
   ],
   "source": [
    "df_dig.info()"
   ]
  },
  {
   "cell_type": "code",
   "execution_count": 39,
   "id": "649c4bfe-be6a-4469-8077-2b4bae29f883",
   "metadata": {},
   "outputs": [
    {
     "name": "stdout",
     "output_type": "stream",
     "text": [
      "3961\n"
     ]
    },
    {
     "data": {
      "text/html": [
       "<div>\n",
       "<style scoped>\n",
       "    .dataframe tbody tr th:only-of-type {\n",
       "        vertical-align: middle;\n",
       "    }\n",
       "\n",
       "    .dataframe tbody tr th {\n",
       "        vertical-align: top;\n",
       "    }\n",
       "\n",
       "    .dataframe thead th {\n",
       "        text-align: right;\n",
       "    }\n",
       "</style>\n",
       "<table border=\"1\" class=\"dataframe\">\n",
       "  <thead>\n",
       "    <tr style=\"text-align: right;\">\n",
       "      <th></th>\n",
       "      <th>Email_Clicks</th>\n",
       "      <th>SM_Comments</th>\n",
       "      <th>App_Clicks</th>\n",
       "      <th>SM_Likes</th>\n",
       "      <th>SM_Shares</th>\n",
       "      <th>SM_Clicks</th>\n",
       "    </tr>\n",
       "    <tr>\n",
       "      <th>Cust_ID</th>\n",
       "      <th></th>\n",
       "      <th></th>\n",
       "      <th></th>\n",
       "      <th></th>\n",
       "      <th></th>\n",
       "      <th></th>\n",
       "    </tr>\n",
       "  </thead>\n",
       "  <tbody>\n",
       "    <tr>\n",
       "      <th>4</th>\n",
       "      <td>72</td>\n",
       "      <td>1</td>\n",
       "      <td>7</td>\n",
       "      <td>7</td>\n",
       "      <td>1.0</td>\n",
       "      <td>73</td>\n",
       "    </tr>\n",
       "    <tr>\n",
       "      <th>5</th>\n",
       "      <td>15</td>\n",
       "      <td>20</td>\n",
       "      <td>1</td>\n",
       "      <td>35</td>\n",
       "      <td>15.0</td>\n",
       "      <td>16</td>\n",
       "    </tr>\n",
       "    <tr>\n",
       "      <th>6</th>\n",
       "      <td>9</td>\n",
       "      <td>7</td>\n",
       "      <td>3</td>\n",
       "      <td>73</td>\n",
       "      <td>19.0</td>\n",
       "      <td>10</td>\n",
       "    </tr>\n",
       "    <tr>\n",
       "      <th>9</th>\n",
       "      <td>67</td>\n",
       "      <td>0</td>\n",
       "      <td>2</td>\n",
       "      <td>0</td>\n",
       "      <td>1.0</td>\n",
       "      <td>101</td>\n",
       "    </tr>\n",
       "    <tr>\n",
       "      <th>10</th>\n",
       "      <td>38</td>\n",
       "      <td>0</td>\n",
       "      <td>1</td>\n",
       "      <td>9</td>\n",
       "      <td>0.0</td>\n",
       "      <td>56</td>\n",
       "    </tr>\n",
       "  </tbody>\n",
       "</table>\n",
       "</div>"
      ],
      "text/plain": [
       "         Email_Clicks  SM_Comments  App_Clicks  SM_Likes  SM_Shares  SM_Clicks\n",
       "Cust_ID                                                                       \n",
       "4                  72            1           7         7        1.0         73\n",
       "5                  15           20           1        35       15.0         16\n",
       "6                   9            7           3        73       19.0         10\n",
       "9                  67            0           2         0        1.0        101\n",
       "10                 38            0           1         9        0.0         56"
      ]
     },
     "execution_count": 39,
     "metadata": {},
     "output_type": "execute_result"
    }
   ],
   "source": [
    "#as seen before, delete empty values\n",
    "df_dig_clean2 = df_dig.dropna()\n",
    "print(len(df_dig_clean2))\n",
    "df_dig_clean2.head()"
   ]
  },
  {
   "cell_type": "markdown",
   "id": "46c42d66-197c-4ca4-adff-91dd48c0880a",
   "metadata": {},
   "source": [
    "Null entries dropped successfully."
   ]
  },
  {
   "cell_type": "markdown",
   "id": "984bd278-b5d4-400a-b78a-bc83c8f8fb10",
   "metadata": {},
   "source": [
    "**Strategy**:  \n",
    "- one way to reduce highly correlated dimensions is to apply **PCA**.\n",
    "  - \"capture a large amount of variance within a potentially much smaller number of dimensions\"\n",
    "  - is more objective than Options One and Two from above\n",
    "  - dimenssion reduction is objectively quantifiable\n",
    "- Before applying PCA we need to standardize the data\n",
    "\n",
    "**Steps**:\n",
    "- Standardization\n",
    "- PCA\n",
    "- run clustering"
   ]
  },
  {
   "cell_type": "markdown",
   "id": "5be2eb50-11ad-45bd-8d17-920072b8839d",
   "metadata": {},
   "source": [
    "## Feature scaling (standardization)"
   ]
  },
  {
   "cell_type": "code",
   "execution_count": 42,
   "id": "45365b2e-b8f9-4f04-aa6f-6bf918084b5a",
   "metadata": {},
   "outputs": [
    {
     "data": {
      "text/html": [
       "<div>\n",
       "<style scoped>\n",
       "    .dataframe tbody tr th:only-of-type {\n",
       "        vertical-align: middle;\n",
       "    }\n",
       "\n",
       "    .dataframe tbody tr th {\n",
       "        vertical-align: top;\n",
       "    }\n",
       "\n",
       "    .dataframe thead th {\n",
       "        text-align: right;\n",
       "    }\n",
       "</style>\n",
       "<table border=\"1\" class=\"dataframe\">\n",
       "  <thead>\n",
       "    <tr style=\"text-align: right;\">\n",
       "      <th></th>\n",
       "      <th>Email_Clicks</th>\n",
       "      <th>SM_Comments</th>\n",
       "      <th>App_Clicks</th>\n",
       "      <th>SM_Likes</th>\n",
       "      <th>SM_Shares</th>\n",
       "      <th>SM_Clicks</th>\n",
       "    </tr>\n",
       "  </thead>\n",
       "  <tbody>\n",
       "    <tr>\n",
       "      <th>0</th>\n",
       "      <td>1.949793</td>\n",
       "      <td>-0.899284</td>\n",
       "      <td>-0.364554</td>\n",
       "      <td>-0.719960</td>\n",
       "      <td>-0.845991</td>\n",
       "      <td>1.318321</td>\n",
       "    </tr>\n",
       "    <tr>\n",
       "      <th>1</th>\n",
       "      <td>-0.455812</td>\n",
       "      <td>1.456415</td>\n",
       "      <td>-0.539705</td>\n",
       "      <td>0.289296</td>\n",
       "      <td>0.764112</td>\n",
       "      <td>-0.446787</td>\n",
       "    </tr>\n",
       "    <tr>\n",
       "      <th>2</th>\n",
       "      <td>-0.709033</td>\n",
       "      <td>-0.155379</td>\n",
       "      <td>-0.481321</td>\n",
       "      <td>1.659002</td>\n",
       "      <td>1.224142</td>\n",
       "      <td>-0.632587</td>\n",
       "    </tr>\n",
       "    <tr>\n",
       "      <th>3</th>\n",
       "      <td>1.738775</td>\n",
       "      <td>-1.023269</td>\n",
       "      <td>-0.510513</td>\n",
       "      <td>-0.972275</td>\n",
       "      <td>-0.845991</td>\n",
       "      <td>2.185392</td>\n",
       "    </tr>\n",
       "    <tr>\n",
       "      <th>4</th>\n",
       "      <td>0.514871</td>\n",
       "      <td>-1.023269</td>\n",
       "      <td>-0.539705</td>\n",
       "      <td>-0.647871</td>\n",
       "      <td>-0.960998</td>\n",
       "      <td>0.791886</td>\n",
       "    </tr>\n",
       "  </tbody>\n",
       "</table>\n",
       "</div>"
      ],
      "text/plain": [
       "   Email_Clicks  SM_Comments  App_Clicks  SM_Likes  SM_Shares  SM_Clicks\n",
       "0      1.949793    -0.899284   -0.364554 -0.719960  -0.845991   1.318321\n",
       "1     -0.455812     1.456415   -0.539705  0.289296   0.764112  -0.446787\n",
       "2     -0.709033    -0.155379   -0.481321  1.659002   1.224142  -0.632587\n",
       "3      1.738775    -1.023269   -0.510513 -0.972275  -0.845991   2.185392\n",
       "4      0.514871    -1.023269   -0.539705 -0.647871  -0.960998   0.791886"
      ]
     },
     "execution_count": 42,
     "metadata": {},
     "output_type": "execute_result"
    }
   ],
   "source": [
    "#scale data before performing PCA\n",
    "scaler=StandardScaler()\n",
    "df_dig_std=pd.DataFrame(scaler.fit_transform(df_dig_clean2), columns=df_dig.columns)\n",
    "df_dig_std.head()"
   ]
  },
  {
   "cell_type": "markdown",
   "id": "e14003ea-e417-4cdd-b28a-6314edb87c03",
   "metadata": {},
   "source": [
    "## PCA"
   ]
  },
  {
   "cell_type": "code",
   "execution_count": 44,
   "id": "7eee9c29-0fc9-475d-b3d9-a02ac905fd2d",
   "metadata": {},
   "outputs": [
    {
     "data": {
      "text/html": [
       "<div>\n",
       "<style scoped>\n",
       "    .dataframe tbody tr th:only-of-type {\n",
       "        vertical-align: middle;\n",
       "    }\n",
       "\n",
       "    .dataframe tbody tr th {\n",
       "        vertical-align: top;\n",
       "    }\n",
       "\n",
       "    .dataframe thead th {\n",
       "        text-align: right;\n",
       "    }\n",
       "</style>\n",
       "<table border=\"1\" class=\"dataframe\">\n",
       "  <thead>\n",
       "    <tr style=\"text-align: right;\">\n",
       "      <th></th>\n",
       "      <th>Email_Clicks</th>\n",
       "      <th>SM_Comments</th>\n",
       "      <th>App_Clicks</th>\n",
       "      <th>SM_Likes</th>\n",
       "      <th>SM_Shares</th>\n",
       "      <th>SM_Clicks</th>\n",
       "    </tr>\n",
       "  </thead>\n",
       "  <tbody>\n",
       "    <tr>\n",
       "      <th>0</th>\n",
       "      <td>-2.426692</td>\n",
       "      <td>-1.217819</td>\n",
       "      <td>0.199753</td>\n",
       "      <td>-0.540605</td>\n",
       "      <td>0.022526</td>\n",
       "      <td>0.103644</td>\n",
       "    </tr>\n",
       "    <tr>\n",
       "      <th>1</th>\n",
       "      <td>1.625624</td>\n",
       "      <td>-0.402371</td>\n",
       "      <td>-0.535203</td>\n",
       "      <td>-0.254748</td>\n",
       "      <td>-0.569809</td>\n",
       "      <td>-0.082413</td>\n",
       "    </tr>\n",
       "    <tr>\n",
       "      <th>2</th>\n",
       "      <td>1.865391</td>\n",
       "      <td>-0.309268</td>\n",
       "      <td>0.739393</td>\n",
       "      <td>0.305619</td>\n",
       "      <td>1.086704</td>\n",
       "      <td>0.114707</td>\n",
       "    </tr>\n",
       "    <tr>\n",
       "      <th>3</th>\n",
       "      <td>-2.835435</td>\n",
       "      <td>-1.586392</td>\n",
       "      <td>-0.074060</td>\n",
       "      <td>-0.074042</td>\n",
       "      <td>0.062251</td>\n",
       "      <td>-0.443649</td>\n",
       "    </tr>\n",
       "    <tr>\n",
       "      <th>4</th>\n",
       "      <td>-1.674682</td>\n",
       "      <td>-0.536610</td>\n",
       "      <td>0.021067</td>\n",
       "      <td>0.585181</td>\n",
       "      <td>0.020710</td>\n",
       "      <td>0.371444</td>\n",
       "    </tr>\n",
       "  </tbody>\n",
       "</table>\n",
       "</div>"
      ],
      "text/plain": [
       "   Email_Clicks  SM_Comments  App_Clicks  SM_Likes  SM_Shares  SM_Clicks\n",
       "0     -2.426692    -1.217819    0.199753 -0.540605   0.022526   0.103644\n",
       "1      1.625624    -0.402371   -0.535203 -0.254748  -0.569809  -0.082413\n",
       "2      1.865391    -0.309268    0.739393  0.305619   1.086704   0.114707\n",
       "3     -2.835435    -1.586392   -0.074060 -0.074042   0.062251  -0.443649\n",
       "4     -1.674682    -0.536610    0.021067  0.585181   0.020710   0.371444"
      ]
     },
     "execution_count": 44,
     "metadata": {},
     "output_type": "execute_result"
    }
   ],
   "source": [
    "#explore how much variance wach PC captures\n",
    "nr_features = df_dig_std.shape[1]\n",
    "pca = PCA(n_components=nr_features)\n",
    "df_dig_std_trans= pd.DataFrame(pca.fit_transform(df_dig_std), columns=df_dig_std.columns)\n",
    "df_dig_std_trans.head()"
   ]
  },
  {
   "cell_type": "code",
   "execution_count": 45,
   "id": "aa7748da-e417-427f-8c12-b2dfcf38dfb3",
   "metadata": {},
   "outputs": [
    {
     "data": {
      "text/html": [
       "<div>\n",
       "<style scoped>\n",
       "    .dataframe tbody tr th:only-of-type {\n",
       "        vertical-align: middle;\n",
       "    }\n",
       "\n",
       "    .dataframe tbody tr th {\n",
       "        vertical-align: top;\n",
       "    }\n",
       "\n",
       "    .dataframe thead th {\n",
       "        text-align: right;\n",
       "    }\n",
       "</style>\n",
       "<table border=\"1\" class=\"dataframe\">\n",
       "  <thead>\n",
       "    <tr style=\"text-align: right;\">\n",
       "      <th></th>\n",
       "      <th>Email_Clicks</th>\n",
       "      <th>SM_Comments</th>\n",
       "      <th>App_Clicks</th>\n",
       "      <th>SM_Likes</th>\n",
       "      <th>SM_Shares</th>\n",
       "      <th>SM_Clicks</th>\n",
       "    </tr>\n",
       "    <tr>\n",
       "      <th>Cust_ID</th>\n",
       "      <th></th>\n",
       "      <th></th>\n",
       "      <th></th>\n",
       "      <th></th>\n",
       "      <th></th>\n",
       "      <th></th>\n",
       "    </tr>\n",
       "  </thead>\n",
       "  <tbody>\n",
       "    <tr>\n",
       "      <th>4</th>\n",
       "      <td>-2.426692</td>\n",
       "      <td>-1.217819</td>\n",
       "      <td>0.199753</td>\n",
       "      <td>-0.540605</td>\n",
       "      <td>0.022526</td>\n",
       "      <td>0.103644</td>\n",
       "    </tr>\n",
       "    <tr>\n",
       "      <th>5</th>\n",
       "      <td>1.625624</td>\n",
       "      <td>-0.402371</td>\n",
       "      <td>-0.535203</td>\n",
       "      <td>-0.254748</td>\n",
       "      <td>-0.569809</td>\n",
       "      <td>-0.082413</td>\n",
       "    </tr>\n",
       "    <tr>\n",
       "      <th>6</th>\n",
       "      <td>1.865391</td>\n",
       "      <td>-0.309268</td>\n",
       "      <td>0.739393</td>\n",
       "      <td>0.305619</td>\n",
       "      <td>1.086704</td>\n",
       "      <td>0.114707</td>\n",
       "    </tr>\n",
       "    <tr>\n",
       "      <th>9</th>\n",
       "      <td>-2.835435</td>\n",
       "      <td>-1.586392</td>\n",
       "      <td>-0.074060</td>\n",
       "      <td>-0.074042</td>\n",
       "      <td>0.062251</td>\n",
       "      <td>-0.443649</td>\n",
       "    </tr>\n",
       "    <tr>\n",
       "      <th>10</th>\n",
       "      <td>-1.674682</td>\n",
       "      <td>-0.536610</td>\n",
       "      <td>0.021067</td>\n",
       "      <td>0.585181</td>\n",
       "      <td>0.020710</td>\n",
       "      <td>0.371444</td>\n",
       "    </tr>\n",
       "  </tbody>\n",
       "</table>\n",
       "</div>"
      ],
      "text/plain": [
       "         Email_Clicks  SM_Comments  App_Clicks  SM_Likes  SM_Shares  SM_Clicks\n",
       "Cust_ID                                                                       \n",
       "4           -2.426692    -1.217819    0.199753 -0.540605   0.022526   0.103644\n",
       "5            1.625624    -0.402371   -0.535203 -0.254748  -0.569809  -0.082413\n",
       "6            1.865391    -0.309268    0.739393  0.305619   1.086704   0.114707\n",
       "9           -2.835435    -1.586392   -0.074060 -0.074042   0.062251  -0.443649\n",
       "10          -1.674682    -0.536610    0.021067  0.585181   0.020710   0.371444"
      ]
     },
     "execution_count": 45,
     "metadata": {},
     "output_type": "execute_result"
    }
   ],
   "source": [
    "#recover index values\n",
    "df_dig_std_trans.index = df_dig_clean2.index\n",
    "df_dig_std_trans.head()"
   ]
  },
  {
   "cell_type": "code",
   "execution_count": 47,
   "id": "1878a2c7-4827-4a87-9e6c-1e681faf92c9",
   "metadata": {},
   "outputs": [
    {
     "name": "stdout",
     "output_type": "stream",
     "text": [
      "*************** PCA Summary ***************\n",
      "No. of features:  6\n",
      "No. of samples:  3961\n",
      "No. of components:  6\n",
      "Explained variance ratio:  [0.60602568 0.25615021 0.044529   0.03778703 0.03455958 0.02094849]\n"
     ]
    }
   ],
   "source": [
    "# Print the results\n",
    "print('PCA Summary')\n",
    "print('No. of features: ', df_dig_std_trans.shape[1])\n",
    "print('No. of samples: ', df_dig_std_trans.shape[0])\n",
    "print('No. of components: ', pca.n_components_)\n",
    "print('Explained variance ratio: ', pca.explained_variance_ratio_)\n"
   ]
  },
  {
   "cell_type": "code",
   "execution_count": 51,
   "id": "23f287c2-10b8-466b-9006-4b4c7548fa54",
   "metadata": {},
   "outputs": [
    {
     "name": "stdout",
     "output_type": "stream",
     "text": [
      "Cumulative variance ratio ober PCs:  [0.6060256844685572, 0.862175898468887, 0.9067048985264893, 0.9444919288558291, 0.9790515114157416, 1.0]\n"
     ]
    }
   ],
   "source": [
    "#let's analyze how many components we should keep\n",
    "#plot cumulative explained variance\n",
    "cum_variance=[]\n",
    "for i, value in enumerate(pca.explained_variance_ratio_):\n",
    "    if i==0:\n",
    "        cum_variance.append(value)\n",
    "    else:\n",
    "        cum_variance.append(value+cum_variance[i-1])\n",
    "print('Cumulative variance ratio ober PCs: ', cum_variance)"
   ]
  },
  {
   "cell_type": "markdown",
   "id": "f66cc586-9ff6-4ab9-b70f-d035f63004aa",
   "metadata": {},
   "source": [
    "With only **3 dimensions** we get more than **90% of the explained variance**."
   ]
  },
  {
   "cell_type": "code",
   "execution_count": 70,
   "id": "28d5e91f-983c-405e-b720-190968653ab8",
   "metadata": {},
   "outputs": [
    {
     "data": {
      "image/png": "[encoded data removed]",
      "text/plain": [
       "<Figure size 640x480 with 1 Axes>"
      ]
     },
     "metadata": {},
     "output_type": "display_data"
    }
   ],
   "source": [
    "#Graphical representation of PCs' cumulative variance ratio\n",
    "sns.barplot(data=cum_variance)\n",
    "plt.title('Cumulative Explained Variance')\n",
    "plt.xlabel('Principal Component')\n",
    "plt.ylabel('Explained Variance (%)')\n",
    "plt.show()"
   ]
  },
  {
   "cell_type": "markdown",
   "id": "a5abeaa2-44c7-4228-9a39-946a63e85b06",
   "metadata": {},
   "source": [
    "### Final PCA model"
   ]
  },
  {
   "cell_type": "code",
   "execution_count": 78,
   "id": "5c7f3780-46a3-4779-9ec5-cac992c4bc73",
   "metadata": {},
   "outputs": [
    {
     "data": {
      "text/html": [
       "<div>\n",
       "<style scoped>\n",
       "    .dataframe tbody tr th:only-of-type {\n",
       "        vertical-align: middle;\n",
       "    }\n",
       "\n",
       "    .dataframe tbody tr th {\n",
       "        vertical-align: top;\n",
       "    }\n",
       "\n",
       "    .dataframe thead th {\n",
       "        text-align: right;\n",
       "    }\n",
       "</style>\n",
       "<table border=\"1\" class=\"dataframe\">\n",
       "  <thead>\n",
       "    <tr style=\"text-align: right;\">\n",
       "      <th></th>\n",
       "      <th>1</th>\n",
       "      <th>2</th>\n",
       "      <th>3</th>\n",
       "    </tr>\n",
       "    <tr>\n",
       "      <th>Cust_ID</th>\n",
       "      <th></th>\n",
       "      <th></th>\n",
       "      <th></th>\n",
       "    </tr>\n",
       "  </thead>\n",
       "  <tbody>\n",
       "    <tr>\n",
       "      <th>4</th>\n",
       "      <td>-2.426692</td>\n",
       "      <td>-1.217819</td>\n",
       "      <td>0.199753</td>\n",
       "    </tr>\n",
       "    <tr>\n",
       "      <th>5</th>\n",
       "      <td>1.625624</td>\n",
       "      <td>-0.402371</td>\n",
       "      <td>-0.535203</td>\n",
       "    </tr>\n",
       "    <tr>\n",
       "      <th>6</th>\n",
       "      <td>1.865391</td>\n",
       "      <td>-0.309268</td>\n",
       "      <td>0.739393</td>\n",
       "    </tr>\n",
       "    <tr>\n",
       "      <th>9</th>\n",
       "      <td>-2.835435</td>\n",
       "      <td>-1.586392</td>\n",
       "      <td>-0.074060</td>\n",
       "    </tr>\n",
       "    <tr>\n",
       "      <th>10</th>\n",
       "      <td>-1.674682</td>\n",
       "      <td>-0.536610</td>\n",
       "      <td>0.021067</td>\n",
       "    </tr>\n",
       "  </tbody>\n",
       "</table>\n",
       "</div>"
      ],
      "text/plain": [
       "                1         2         3\n",
       "Cust_ID                              \n",
       "4       -2.426692 -1.217819  0.199753\n",
       "5        1.625624 -0.402371 -0.535203\n",
       "6        1.865391 -0.309268  0.739393\n",
       "9       -2.835435 -1.586392 -0.074060\n",
       "10      -1.674682 -0.536610  0.021067"
      ]
     },
     "execution_count": 78,
     "metadata": {},
     "output_type": "execute_result"
    }
   ],
   "source": [
    "#PCA with 3 features\n",
    "pca_final = PCA(n_components=3)\n",
    "df_dig_std_trans_final= pd.DataFrame(pca_final.fit_transform(df_dig_std))\n",
    "\n",
    "df_dig_std_trans_final.index = df_dig_clean2.index\n",
    "df_dig_std_trans_final.columns += 1\n",
    "df_dig_std_trans_final.head()"
   ]
  },
  {
   "cell_type": "code",
   "execution_count": 79,
   "id": "457bc305-2d3a-4721-bb94-5b3636594ce7",
   "metadata": {},
   "outputs": [
    {
     "data": {
      "text/plain": [
       "<Axes: ylabel='Count'>"
      ]
     },
     "execution_count": 79,
     "metadata": {},
     "output_type": "execute_result"
    },
    {
     "data": {
      "image/png": "[encoded data removed]",
      "text/plain": [
       "<Figure size 640x480 with 1 Axes>"
      ]
     },
     "metadata": {},
     "output_type": "display_data"
    }
   ],
   "source": [
    "#look at data distribution\n",
    "sns.histplot(data=df_dig_std_trans_final)"
   ]
  },
  {
   "cell_type": "code",
   "execution_count": 77,
   "id": "0e2537bc-c9ae-402c-92e5-5dc5251b5d46",
   "metadata": {},
   "outputs": [
    {
     "data": {
      "text/html": [
       "<div>\n",
       "<style scoped>\n",
       "    .dataframe tbody tr th:only-of-type {\n",
       "        vertical-align: middle;\n",
       "    }\n",
       "\n",
       "    .dataframe tbody tr th {\n",
       "        vertical-align: top;\n",
       "    }\n",
       "\n",
       "    .dataframe thead th {\n",
       "        text-align: right;\n",
       "    }\n",
       "</style>\n",
       "<table border=\"1\" class=\"dataframe\">\n",
       "  <thead>\n",
       "    <tr style=\"text-align: right;\">\n",
       "      <th></th>\n",
       "      <th>0</th>\n",
       "      <th>1</th>\n",
       "      <th>2</th>\n",
       "    </tr>\n",
       "  </thead>\n",
       "  <tbody>\n",
       "    <tr>\n",
       "      <th>count</th>\n",
       "      <td>3.961000e+03</td>\n",
       "      <td>3.961000e+03</td>\n",
       "      <td>3.961000e+03</td>\n",
       "    </tr>\n",
       "    <tr>\n",
       "      <th>mean</th>\n",
       "      <td>-2.332001e-17</td>\n",
       "      <td>-1.076308e-17</td>\n",
       "      <td>-1.233270e-17</td>\n",
       "    </tr>\n",
       "    <tr>\n",
       "      <th>std</th>\n",
       "      <td>1.907111e+00</td>\n",
       "      <td>1.239875e+00</td>\n",
       "      <td>5.169540e-01</td>\n",
       "    </tr>\n",
       "    <tr>\n",
       "      <th>min</th>\n",
       "      <td>-3.200186e+00</td>\n",
       "      <td>-1.956662e+00</td>\n",
       "      <td>-1.627092e+00</td>\n",
       "    </tr>\n",
       "    <tr>\n",
       "      <th>25%</th>\n",
       "      <td>-1.808017e+00</td>\n",
       "      <td>-7.461416e-01</td>\n",
       "      <td>-2.278785e-01</td>\n",
       "    </tr>\n",
       "    <tr>\n",
       "      <th>50%</th>\n",
       "      <td>-7.135296e-01</td>\n",
       "      <td>-3.298830e-01</td>\n",
       "      <td>1.116292e-02</td>\n",
       "    </tr>\n",
       "    <tr>\n",
       "      <th>75%</th>\n",
       "      <td>1.864207e+00</td>\n",
       "      <td>6.679319e-02</td>\n",
       "      <td>2.527435e-01</td>\n",
       "    </tr>\n",
       "    <tr>\n",
       "      <th>max</th>\n",
       "      <td>3.605226e+00</td>\n",
       "      <td>3.622148e+00</td>\n",
       "      <td>1.669280e+00</td>\n",
       "    </tr>\n",
       "  </tbody>\n",
       "</table>\n",
       "</div>"
      ],
      "text/plain": [
       "                  0             1             2\n",
       "count  3.961000e+03  3.961000e+03  3.961000e+03\n",
       "mean  -2.332001e-17 -1.076308e-17 -1.233270e-17\n",
       "std    1.907111e+00  1.239875e+00  5.169540e-01\n",
       "min   -3.200186e+00 -1.956662e+00 -1.627092e+00\n",
       "25%   -1.808017e+00 -7.461416e-01 -2.278785e-01\n",
       "50%   -7.135296e-01 -3.298830e-01  1.116292e-02\n",
       "75%    1.864207e+00  6.679319e-02  2.527435e-01\n",
       "max    3.605226e+00  3.622148e+00  1.669280e+00"
      ]
     },
     "execution_count": 77,
     "metadata": {},
     "output_type": "execute_result"
    }
   ],
   "source": [
    "df_dig_std_trans_final.describe()"
   ]
  },
  {
   "cell_type": "markdown",
   "id": "fea05bdc-3009-49e6-83b3-0ac674c53155",
   "metadata": {},
   "source": [
    "Components 1 and 2 are distributed over two populations - as observed in the original data.  \n",
    "\n",
    "K-means is not the appropriate clustering algorithm as it is better for data distributed in a globular manner."
   ]
  },
  {
   "cell_type": "code",
   "execution_count": null,
   "id": "11f55aed-c60a-4933-885b-664fac7ec5a3",
   "metadata": {},
   "outputs": [],
   "source": []
  }
 ],
 "metadata": {
  "kernelspec": {
   "display_name": "Python 3 (ipykernel)",
   "language": "python",
   "name": "python3"
  },
  "language_info": {
   "codemirror_mode": {
    "name": "ipython",
    "version": 3
   },
   "file_extension": ".py",
   "mimetype": "text/x-python",
   "name": "python",
   "nbconvert_exporter": "python",
   "pygments_lexer": "ipython3",
   "version": "3.12.2"
  }
 },
 "nbformat": 4,
 "nbformat_minor": 5
}
